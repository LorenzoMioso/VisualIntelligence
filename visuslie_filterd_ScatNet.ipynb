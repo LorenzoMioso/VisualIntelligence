{
 "cells": [
  {
   "cell_type": "code",
   "execution_count": 1,
   "metadata": {},
   "outputs": [],
   "source": [
    "from colorsys import hls_to_rgb\n",
    "import matplotlib.pyplot as plt\n",
    "import numpy as np\n",
    "from kymatio.scattering2d.filter_bank import filter_bank\n",
    "from scipy.fft import fft2\n",
    "\n",
    "import matplotlib as mpl\n",
    "mpl.rcParams.update(mpl.rcParamsDefault)"
   ]
  },
  {
   "cell_type": "markdown",
   "metadata": {},
   "source": [
    "## Useful function"
   ]
  },
  {
   "cell_type": "code",
   "execution_count": null,
   "metadata": {},
   "outputs": [],
   "source": [
    "def colorize(z):\n",
    "    n, m = z.shape\n",
    "    c = np.zeros((n, m, 3))\n",
    "    c[np.isinf(z)] = (1.0, 1.0, 1.0)\n",
    "    c[np.isnan(z)] = (0.5, 0.5, 0.5)\n",
    "\n",
    "    idx = ~(np.isinf(z) + np.isnan(z))\n",
    "    A = (np.angle(z[idx]) + np.pi) / (2*np.pi)\n",
    "    A = (A + 0.5) % 1.0\n",
    "    B = 1.0/(1.0 + abs(z[idx])**0.3)\n",
    "    c[idx] = [hls_to_rgb(a, b, 0.8) for a, b in zip(A, B)]\n",
    "    return c"
   ]
  },
  {
   "cell_type": "markdown",
   "metadata": {},
   "source": [
    "## Define parameters for Scattering"
   ]
  },
  {
   "cell_type": "code",
   "execution_count": 2,
   "metadata": {},
   "outputs": [],
   "source": [
    "M = 32\n",
    "J = 3\n",
    "L = 8\n",
    "filters_set = filter_bank(M, M, J, L=L)"
   ]
  },
  {
   "cell_type": "markdown",
   "metadata": {},
   "source": [
    "## Show the filters"
   ]
  },
  {
   "cell_type": "code",
   "execution_count": null,
   "metadata": {},
   "outputs": [],
   "source": [
    "fig, axs = plt.subplots(J, L, sharex=True, sharey=True)\n",
    "fig.set_figheight(6)\n",
    "fig.set_figwidth(6)\n",
    "#plt.rc('text', usetex=True)\n",
    "plt.rc('font', family='serif')\n",
    "i = 0\n",
    "for filter in filters_set['psi']:\n",
    "    f = filter[\"levels\"][0]\n",
    "    filter_c = fft2(f)\n",
    "    filter_c = np.fft.fftshift(filter_c)\n",
    "    axs[i // L, i % L].imshow(colorize(filter_c))\n",
    "    axs[i // L, i % L].axis('off')\n",
    "    axs[i // L, i % L].set_title(\n",
    "        \"j={}\\ntheta={}\".format(i // L, i % L))\n",
    "    i = i+1\n",
    "\n",
    "fig.suptitle((r\"Wavelets for each scales j and angles theta used.\"\n",
    "              \"\\nColor saturation and color hue respectively denote complex \"\n",
    "              \"magnitude and complex phase.\"), fontsize=13)\n",
    "plt.tight_layout()\n",
    "fig.show()"
   ]
  },
  {
   "cell_type": "code",
   "execution_count": null,
   "metadata": {},
   "outputs": [],
   "source": [
    "plt.figure()\n",
    "#plt.rc('text', usetex=True)\n",
    "plt.rc('font', family='serif')\n",
    "plt.axis('off')\n",
    "plt.set_cmap('gray_r')\n",
    "\n",
    "f = filters_set['phi'][\"levels\"][0]\n",
    "\n",
    "filter_c = fft2(f)\n",
    "filter_c = np.fft.fftshift(filter_c)\n",
    "plt.suptitle((\"The corresponding low-pass filter, also known as scaling \"\n",
    "              \"function.\\nColor saturation and color hue respectively denote \"\n",
    "              \"complex magnitude and complex phase\"), fontsize=13)\n",
    "filter_c = np.abs(filter_c)\n",
    "plt.imshow(filter_c)\n",
    "\n",
    "plt.tight_layout()\n",
    "plt.show()"
   ]
  },
  {
   "cell_type": "code",
   "execution_count": null,
   "metadata": {},
   "outputs": [],
   "source": []
  }
 ],
 "metadata": {
  "kernelspec": {
   "display_name": "3.12.8",
   "language": "python",
   "name": "python3"
  },
  "language_info": {
   "codemirror_mode": {
    "name": "ipython",
    "version": 3
   },
   "file_extension": ".py",
   "mimetype": "text/x-python",
   "name": "python",
   "nbconvert_exporter": "python",
   "pygments_lexer": "ipython3",
   "version": "3.12.8"
  }
 },
 "nbformat": 4,
 "nbformat_minor": 2
}
