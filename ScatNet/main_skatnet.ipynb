{
 "cells": [
  {
   "cell_type": "code",
   "execution_count": null,
   "metadata": {
    "colab": {
     "base_uri": "https://localhost:8080/"
    },
    "executionInfo": {
     "elapsed": 23954,
     "status": "ok",
     "timestamp": 1736605803096,
     "user": {
      "displayName": "Lorenzo Mioso",
      "userId": "10991569810054375249"
     },
     "user_tz": -60
    },
    "id": "FDOJ1i1w-EeO",
    "outputId": "7b74b0d4-777e-48ce-dec6-78fe335672b4"
   },
   "outputs": [
    {
     "name": "stdout",
     "output_type": "stream",
     "text": [
      "Requirement already satisfied: ipykernel in /home/lore/Documents/GitHub/VisualIntelligence/.venv/lib/python3.11/site-packages (from -r ../requirements.txt (line 1)) (6.29.5)\n",
      "Requirement already satisfied: ipython in /home/lore/Documents/GitHub/VisualIntelligence/.venv/lib/python3.11/site-packages (from -r ../requirements.txt (line 2)) (8.32.0)\n",
      "Requirement already satisfied: matplotlib in /home/lore/Documents/GitHub/VisualIntelligence/.venv/lib/python3.11/site-packages (from -r ../requirements.txt (line 3)) (3.10.0)\n",
      "Requirement already satisfied: numpy in /home/lore/Documents/GitHub/VisualIntelligence/.venv/lib/python3.11/site-packages (from -r ../requirements.txt (line 4)) (1.26.4)\n",
      "Requirement already satisfied: pandas in /home/lore/Documents/GitHub/VisualIntelligence/.venv/lib/python3.11/site-packages (from -r ../requirements.txt (line 5)) (2.2.3)\n",
      "Requirement already satisfied: scikit-learn in /home/lore/Documents/GitHub/VisualIntelligence/.venv/lib/python3.11/site-packages (from -r ../requirements.txt (line 6)) (1.6.1)\n",
      "Requirement already satisfied: scipy in /home/lore/Documents/GitHub/VisualIntelligence/.venv/lib/python3.11/site-packages (from -r ../requirements.txt (line 7)) (1.15.1)\n",
      "Requirement already satisfied: seaborn in /home/lore/Documents/GitHub/VisualIntelligence/.venv/lib/python3.11/site-packages (from -r ../requirements.txt (line 8)) (0.13.2)\n",
      "Requirement already satisfied: torch in /home/lore/Documents/GitHub/VisualIntelligence/.venv/lib/python3.11/site-packages (from -r ../requirements.txt (line 9)) (2.6.0)\n",
      "Requirement already satisfied: torchaudio in /home/lore/Documents/GitHub/VisualIntelligence/.venv/lib/python3.11/site-packages (from -r ../requirements.txt (line 10)) (2.6.0)\n",
      "Requirement already satisfied: torchinfo in /home/lore/Documents/GitHub/VisualIntelligence/.venv/lib/python3.11/site-packages (from -r ../requirements.txt (line 11)) (1.8.0)\n",
      "Requirement already satisfied: torchvision in /home/lore/Documents/GitHub/VisualIntelligence/.venv/lib/python3.11/site-packages (from -r ../requirements.txt (line 12)) (0.21.0)\n",
      "Requirement already satisfied: tqdm in /home/lore/Documents/GitHub/VisualIntelligence/.venv/lib/python3.11/site-packages (from -r ../requirements.txt (line 13)) (4.67.1)\n",
      "Requirement already satisfied: captum in /home/lore/Documents/GitHub/VisualIntelligence/.venv/lib/python3.11/site-packages (from -r ../requirements.txt (line 14)) (0.7.0)\n",
      "Requirement already satisfied: kymatio in /home/lore/Documents/GitHub/VisualIntelligence/.venv/lib/python3.11/site-packages (from -r ../requirements.txt (line 15)) (0.3.0)\n",
      "Requirement already satisfied: scikit-cuda in /home/lore/Documents/GitHub/VisualIntelligence/.venv/lib/python3.11/site-packages (from -r ../requirements.txt (line 16)) (0.5.3)\n",
      "Requirement already satisfied: cupy-cuda12x==12.2.0 in /home/lore/Documents/GitHub/VisualIntelligence/.venv/lib/python3.11/site-packages (from -r ../requirements.txt (line 17)) (12.2.0)\n",
      "Requirement already satisfied: opencv-python in /home/lore/Documents/GitHub/VisualIntelligence/.venv/lib/python3.11/site-packages (from -r ../requirements.txt (line 18)) (4.11.0.86)\n",
      "Requirement already satisfied: fastrlock>=0.5 in /home/lore/Documents/GitHub/VisualIntelligence/.venv/lib/python3.11/site-packages (from cupy-cuda12x==12.2.0->-r ../requirements.txt (line 17)) (0.8.3)\n",
      "Requirement already satisfied: comm>=0.1.1 in /home/lore/Documents/GitHub/VisualIntelligence/.venv/lib/python3.11/site-packages (from ipykernel->-r ../requirements.txt (line 1)) (0.2.2)\n",
      "Requirement already satisfied: debugpy>=1.6.5 in /home/lore/Documents/GitHub/VisualIntelligence/.venv/lib/python3.11/site-packages (from ipykernel->-r ../requirements.txt (line 1)) (1.8.12)\n",
      "Requirement already satisfied: jupyter-client>=6.1.12 in /home/lore/Documents/GitHub/VisualIntelligence/.venv/lib/python3.11/site-packages (from ipykernel->-r ../requirements.txt (line 1)) (8.6.3)\n",
      "Requirement already satisfied: jupyter-core!=5.0.*,>=4.12 in /home/lore/Documents/GitHub/VisualIntelligence/.venv/lib/python3.11/site-packages (from ipykernel->-r ../requirements.txt (line 1)) (5.7.2)\n",
      "Requirement already satisfied: matplotlib-inline>=0.1 in /home/lore/Documents/GitHub/VisualIntelligence/.venv/lib/python3.11/site-packages (from ipykernel->-r ../requirements.txt (line 1)) (0.1.7)\n",
      "Requirement already satisfied: nest-asyncio in /home/lore/Documents/GitHub/VisualIntelligence/.venv/lib/python3.11/site-packages (from ipykernel->-r ../requirements.txt (line 1)) (1.6.0)\n",
      "Requirement already satisfied: packaging in /home/lore/Documents/GitHub/VisualIntelligence/.venv/lib/python3.11/site-packages (from ipykernel->-r ../requirements.txt (line 1)) (24.2)\n",
      "Requirement already satisfied: psutil in /home/lore/Documents/GitHub/VisualIntelligence/.venv/lib/python3.11/site-packages (from ipykernel->-r ../requirements.txt (line 1)) (6.1.1)\n",
      "Requirement already satisfied: pyzmq>=24 in /home/lore/Documents/GitHub/VisualIntelligence/.venv/lib/python3.11/site-packages (from ipykernel->-r ../requirements.txt (line 1)) (26.2.1)\n",
      "Requirement already satisfied: tornado>=6.1 in /home/lore/Documents/GitHub/VisualIntelligence/.venv/lib/python3.11/site-packages (from ipykernel->-r ../requirements.txt (line 1)) (6.4.2)\n",
      "Requirement already satisfied: traitlets>=5.4.0 in /home/lore/Documents/GitHub/VisualIntelligence/.venv/lib/python3.11/site-packages (from ipykernel->-r ../requirements.txt (line 1)) (5.14.3)\n",
      "Requirement already satisfied: decorator in /home/lore/Documents/GitHub/VisualIntelligence/.venv/lib/python3.11/site-packages (from ipython->-r ../requirements.txt (line 2)) (5.1.1)\n",
      "Requirement already satisfied: jedi>=0.16 in /home/lore/Documents/GitHub/VisualIntelligence/.venv/lib/python3.11/site-packages (from ipython->-r ../requirements.txt (line 2)) (0.19.2)\n",
      "Requirement already satisfied: pexpect>4.3 in /home/lore/Documents/GitHub/VisualIntelligence/.venv/lib/python3.11/site-packages (from ipython->-r ../requirements.txt (line 2)) (4.9.0)\n",
      "Requirement already satisfied: prompt_toolkit<3.1.0,>=3.0.41 in /home/lore/Documents/GitHub/VisualIntelligence/.venv/lib/python3.11/site-packages (from ipython->-r ../requirements.txt (line 2)) (3.0.50)\n",
      "Requirement already satisfied: pygments>=2.4.0 in /home/lore/Documents/GitHub/VisualIntelligence/.venv/lib/python3.11/site-packages (from ipython->-r ../requirements.txt (line 2)) (2.19.1)\n",
      "Requirement already satisfied: stack_data in /home/lore/Documents/GitHub/VisualIntelligence/.venv/lib/python3.11/site-packages (from ipython->-r ../requirements.txt (line 2)) (0.6.3)\n",
      "Requirement already satisfied: typing_extensions>=4.6 in /home/lore/Documents/GitHub/VisualIntelligence/.venv/lib/python3.11/site-packages (from ipython->-r ../requirements.txt (line 2)) (4.12.2)\n",
      "Requirement already satisfied: contourpy>=1.0.1 in /home/lore/Documents/GitHub/VisualIntelligence/.venv/lib/python3.11/site-packages (from matplotlib->-r ../requirements.txt (line 3)) (1.3.1)\n",
      "Requirement already satisfied: cycler>=0.10 in /home/lore/Documents/GitHub/VisualIntelligence/.venv/lib/python3.11/site-packages (from matplotlib->-r ../requirements.txt (line 3)) (0.12.1)\n",
      "Requirement already satisfied: fonttools>=4.22.0 in /home/lore/Documents/GitHub/VisualIntelligence/.venv/lib/python3.11/site-packages (from matplotlib->-r ../requirements.txt (line 3)) (4.55.8)\n",
      "Requirement already satisfied: kiwisolver>=1.3.1 in /home/lore/Documents/GitHub/VisualIntelligence/.venv/lib/python3.11/site-packages (from matplotlib->-r ../requirements.txt (line 3)) (1.4.8)\n",
      "Requirement already satisfied: pillow>=8 in /home/lore/Documents/GitHub/VisualIntelligence/.venv/lib/python3.11/site-packages (from matplotlib->-r ../requirements.txt (line 3)) (11.1.0)\n",
      "Requirement already satisfied: pyparsing>=2.3.1 in /home/lore/Documents/GitHub/VisualIntelligence/.venv/lib/python3.11/site-packages (from matplotlib->-r ../requirements.txt (line 3)) (3.2.1)\n",
      "Requirement already satisfied: python-dateutil>=2.7 in /home/lore/Documents/GitHub/VisualIntelligence/.venv/lib/python3.11/site-packages (from matplotlib->-r ../requirements.txt (line 3)) (2.9.0.post0)\n",
      "Requirement already satisfied: pytz>=2020.1 in /home/lore/Documents/GitHub/VisualIntelligence/.venv/lib/python3.11/site-packages (from pandas->-r ../requirements.txt (line 5)) (2025.1)\n",
      "Requirement already satisfied: tzdata>=2022.7 in /home/lore/Documents/GitHub/VisualIntelligence/.venv/lib/python3.11/site-packages (from pandas->-r ../requirements.txt (line 5)) (2025.1)\n",
      "Requirement already satisfied: joblib>=1.2.0 in /home/lore/Documents/GitHub/VisualIntelligence/.venv/lib/python3.11/site-packages (from scikit-learn->-r ../requirements.txt (line 6)) (1.4.2)\n",
      "Requirement already satisfied: threadpoolctl>=3.1.0 in /home/lore/Documents/GitHub/VisualIntelligence/.venv/lib/python3.11/site-packages (from scikit-learn->-r ../requirements.txt (line 6)) (3.5.0)\n",
      "Requirement already satisfied: filelock in /home/lore/Documents/GitHub/VisualIntelligence/.venv/lib/python3.11/site-packages (from torch->-r ../requirements.txt (line 9)) (3.17.0)\n",
      "Requirement already satisfied: networkx in /home/lore/Documents/GitHub/VisualIntelligence/.venv/lib/python3.11/site-packages (from torch->-r ../requirements.txt (line 9)) (3.4.2)\n",
      "Requirement already satisfied: jinja2 in /home/lore/Documents/GitHub/VisualIntelligence/.venv/lib/python3.11/site-packages (from torch->-r ../requirements.txt (line 9)) (3.1.5)\n",
      "Requirement already satisfied: fsspec in /home/lore/Documents/GitHub/VisualIntelligence/.venv/lib/python3.11/site-packages (from torch->-r ../requirements.txt (line 9)) (2025.2.0)\n",
      "Requirement already satisfied: nvidia-cuda-nvrtc-cu12==12.4.127 in /home/lore/Documents/GitHub/VisualIntelligence/.venv/lib/python3.11/site-packages (from torch->-r ../requirements.txt (line 9)) (12.4.127)\n",
      "Requirement already satisfied: nvidia-cuda-runtime-cu12==12.4.127 in /home/lore/Documents/GitHub/VisualIntelligence/.venv/lib/python3.11/site-packages (from torch->-r ../requirements.txt (line 9)) (12.4.127)\n",
      "Requirement already satisfied: nvidia-cuda-cupti-cu12==12.4.127 in /home/lore/Documents/GitHub/VisualIntelligence/.venv/lib/python3.11/site-packages (from torch->-r ../requirements.txt (line 9)) (12.4.127)\n",
      "Requirement already satisfied: nvidia-cudnn-cu12==9.1.0.70 in /home/lore/Documents/GitHub/VisualIntelligence/.venv/lib/python3.11/site-packages (from torch->-r ../requirements.txt (line 9)) (9.1.0.70)\n",
      "Requirement already satisfied: nvidia-cublas-cu12==12.4.5.8 in /home/lore/Documents/GitHub/VisualIntelligence/.venv/lib/python3.11/site-packages (from torch->-r ../requirements.txt (line 9)) (12.4.5.8)\n",
      "Requirement already satisfied: nvidia-cufft-cu12==11.2.1.3 in /home/lore/Documents/GitHub/VisualIntelligence/.venv/lib/python3.11/site-packages (from torch->-r ../requirements.txt (line 9)) (11.2.1.3)\n",
      "Requirement already satisfied: nvidia-curand-cu12==10.3.5.147 in /home/lore/Documents/GitHub/VisualIntelligence/.venv/lib/python3.11/site-packages (from torch->-r ../requirements.txt (line 9)) (10.3.5.147)\n",
      "Requirement already satisfied: nvidia-cusolver-cu12==11.6.1.9 in /home/lore/Documents/GitHub/VisualIntelligence/.venv/lib/python3.11/site-packages (from torch->-r ../requirements.txt (line 9)) (11.6.1.9)\n",
      "Requirement already satisfied: nvidia-cusparse-cu12==12.3.1.170 in /home/lore/Documents/GitHub/VisualIntelligence/.venv/lib/python3.11/site-packages (from torch->-r ../requirements.txt (line 9)) (12.3.1.170)\n",
      "Requirement already satisfied: nvidia-cusparselt-cu12==0.6.2 in /home/lore/Documents/GitHub/VisualIntelligence/.venv/lib/python3.11/site-packages (from torch->-r ../requirements.txt (line 9)) (0.6.2)\n",
      "Requirement already satisfied: nvidia-nccl-cu12==2.21.5 in /home/lore/Documents/GitHub/VisualIntelligence/.venv/lib/python3.11/site-packages (from torch->-r ../requirements.txt (line 9)) (2.21.5)\n",
      "Requirement already satisfied: nvidia-nvtx-cu12==12.4.127 in /home/lore/Documents/GitHub/VisualIntelligence/.venv/lib/python3.11/site-packages (from torch->-r ../requirements.txt (line 9)) (12.4.127)\n",
      "Requirement already satisfied: nvidia-nvjitlink-cu12==12.4.127 in /home/lore/Documents/GitHub/VisualIntelligence/.venv/lib/python3.11/site-packages (from torch->-r ../requirements.txt (line 9)) (12.4.127)\n",
      "Requirement already satisfied: triton==3.2.0 in /home/lore/Documents/GitHub/VisualIntelligence/.venv/lib/python3.11/site-packages (from torch->-r ../requirements.txt (line 9)) (3.2.0)\n",
      "Requirement already satisfied: sympy==1.13.1 in /home/lore/Documents/GitHub/VisualIntelligence/.venv/lib/python3.11/site-packages (from torch->-r ../requirements.txt (line 9)) (1.13.1)\n",
      "Requirement already satisfied: mpmath<1.4,>=1.1.0 in /home/lore/Documents/GitHub/VisualIntelligence/.venv/lib/python3.11/site-packages (from sympy==1.13.1->torch->-r ../requirements.txt (line 9)) (1.3.0)\n",
      "Requirement already satisfied: appdirs in /home/lore/Documents/GitHub/VisualIntelligence/.venv/lib/python3.11/site-packages (from kymatio->-r ../requirements.txt (line 15)) (1.4.4)\n",
      "Requirement already satisfied: configparser in /home/lore/Documents/GitHub/VisualIntelligence/.venv/lib/python3.11/site-packages (from kymatio->-r ../requirements.txt (line 15)) (7.1.0)\n",
      "Requirement already satisfied: mako>=1.0.1 in /home/lore/Documents/GitHub/VisualIntelligence/.venv/lib/python3.11/site-packages (from scikit-cuda->-r ../requirements.txt (line 16)) (1.3.9)\n",
      "Requirement already satisfied: pycuda>=2016.1 in /home/lore/Documents/GitHub/VisualIntelligence/.venv/lib/python3.11/site-packages (from scikit-cuda->-r ../requirements.txt (line 16)) (2024.1.2)\n",
      "Requirement already satisfied: parso<0.9.0,>=0.8.4 in /home/lore/Documents/GitHub/VisualIntelligence/.venv/lib/python3.11/site-packages (from jedi>=0.16->ipython->-r ../requirements.txt (line 2)) (0.8.4)\n",
      "Requirement already satisfied: platformdirs>=2.5 in /home/lore/Documents/GitHub/VisualIntelligence/.venv/lib/python3.11/site-packages (from jupyter-core!=5.0.*,>=4.12->ipykernel->-r ../requirements.txt (line 1)) (4.3.6)\n",
      "Requirement already satisfied: MarkupSafe>=0.9.2 in /home/lore/Documents/GitHub/VisualIntelligence/.venv/lib/python3.11/site-packages (from mako>=1.0.1->scikit-cuda->-r ../requirements.txt (line 16)) (3.0.2)\n",
      "Requirement already satisfied: ptyprocess>=0.5 in /home/lore/Documents/GitHub/VisualIntelligence/.venv/lib/python3.11/site-packages (from pexpect>4.3->ipython->-r ../requirements.txt (line 2)) (0.7.0)\n",
      "Requirement already satisfied: wcwidth in /home/lore/Documents/GitHub/VisualIntelligence/.venv/lib/python3.11/site-packages (from prompt_toolkit<3.1.0,>=3.0.41->ipython->-r ../requirements.txt (line 2)) (0.2.13)\n",
      "Requirement already satisfied: pytools>=2011.2 in /home/lore/Documents/GitHub/VisualIntelligence/.venv/lib/python3.11/site-packages (from pycuda>=2016.1->scikit-cuda->-r ../requirements.txt (line 16)) (2025.1.1)\n",
      "Requirement already satisfied: six>=1.5 in /home/lore/Documents/GitHub/VisualIntelligence/.venv/lib/python3.11/site-packages (from python-dateutil>=2.7->matplotlib->-r ../requirements.txt (line 3)) (1.17.0)\n",
      "Requirement already satisfied: executing>=1.2.0 in /home/lore/Documents/GitHub/VisualIntelligence/.venv/lib/python3.11/site-packages (from stack_data->ipython->-r ../requirements.txt (line 2)) (2.2.0)\n",
      "Requirement already satisfied: asttokens>=2.1.0 in /home/lore/Documents/GitHub/VisualIntelligence/.venv/lib/python3.11/site-packages (from stack_data->ipython->-r ../requirements.txt (line 2)) (3.0.0)\n",
      "Requirement already satisfied: pure-eval in /home/lore/Documents/GitHub/VisualIntelligence/.venv/lib/python3.11/site-packages (from stack_data->ipython->-r ../requirements.txt (line 2)) (0.2.3)\n",
      "^C\n",
      "\u001b[31mERROR: Operation cancelled by user\u001b[0m\u001b[31m\n",
      "\u001b[0m\n",
      "\u001b[1m[\u001b[0m\u001b[34;49mnotice\u001b[0m\u001b[1;39;49m]\u001b[0m\u001b[39;49m A new release of pip is available: \u001b[0m\u001b[31;49m24.0\u001b[0m\u001b[39;49m -> \u001b[0m\u001b[32;49m25.0\u001b[0m\n",
      "\u001b[1m[\u001b[0m\u001b[34;49mnotice\u001b[0m\u001b[1;39;49m]\u001b[0m\u001b[39;49m To update, run: \u001b[0m\u001b[32;49mpip install --upgrade pip\u001b[0m\n"
     ]
    }
   ],
   "source": [
    "dataset_url = \"https://www.kaggle.com/api/v1/datasets/download/rm1000/lung-cancer-histopathological-images\"\n",
    "\n",
    "datasetdir = \"../\"\n",
    "basedir = \"\"\n",
    "\n",
    "# install requirements in the parent folder\n",
    "requirements_path = \"../requirements.txt\"\n",
    "!pip install -r {requirements_path}"
   ]
  },
  {
   "cell_type": "code",
   "execution_count": 33,
   "metadata": {
    "executionInfo": {
     "elapsed": 23886,
     "status": "ok",
     "timestamp": 1736606025213,
     "user": {
      "displayName": "Lorenzo Mioso",
      "userId": "10991569810054375249"
     },
     "user_tz": -60
    },
    "id": "vk2SeWqE-EeP"
   },
   "outputs": [],
   "source": [
    "import torch\n",
    "import torch.nn as nn\n",
    "from torchvision import transforms\n",
    "from torchvision.io.image import decode_jpeg, read_file\n",
    "from torch.utils.data import DataLoader, Dataset\n",
    "from torchinfo import summary\n",
    "import numpy as np\n",
    "import pandas as pd\n",
    "import matplotlib.pyplot as plt\n",
    "import torch.nn.utils as nn_utils\n",
    "import seaborn as sns\n",
    "import os, shutil\n",
    "from sklearn.model_selection import StratifiedKFold\n",
    "from torchvision.io import ImageReadMode\n",
    "import torch\n",
    "from torch.utils.data import Dataset, DataLoader\n",
    "from torchvision.io import ImageReadMode\n",
    "from kymatio.torch import Scattering2D\n",
    "import glob\n",
    "from tqdm.auto import tqdm\n",
    "from zipfile import ZipFile\n",
    "import json\n",
    "import cv2"
   ]
  },
  {
   "cell_type": "code",
   "execution_count": 34,
   "metadata": {
    "colab": {
     "base_uri": "https://localhost:8080/"
    },
    "executionInfo": {
     "elapsed": 3,
     "status": "ok",
     "timestamp": 1736606025214,
     "user": {
      "displayName": "Lorenzo Mioso",
      "userId": "10991569810054375249"
     },
     "user_tz": -60
    },
    "id": "cx7d_J19-EeP",
    "outputId": "4f10ba5e-3683-4ad6-fd5a-12b4b8a9b28f"
   },
   "outputs": [],
   "source": [
    "# setup device\n",
    "device = torch.device(\"cuda\" if torch.cuda.is_available() else \"cpu\")\n",
    "\n",
    "import multiprocessing\n",
    "\n",
    "num_cores = min(multiprocessing.cpu_count(), 4)"
   ]
  },
  {
   "cell_type": "code",
   "execution_count": 35,
   "metadata": {
    "executionInfo": {
     "elapsed": 3,
     "status": "ok",
     "timestamp": 1736606025214,
     "user": {
      "displayName": "Lorenzo Mioso",
      "userId": "10991569810054375249"
     },
     "user_tz": -60
    },
    "id": "x6b8tMxC-EeQ"
   },
   "outputs": [],
   "source": [
    "ADENOCARCINOMA = \"adenocarcinoma\"\n",
    "SQUAMOUS_CELL_CARCINOMA = \"squamous_cell_carcinoma\"\n",
    "BENIGN = \"benign\"\n",
    "\n",
    "class_0 = BENIGN\n",
    "class_1 = ADENOCARCINOMA\n",
    "DATASET_PERCENTAGE = 0.2"
   ]
  },
  {
   "cell_type": "code",
   "execution_count": 36,
   "metadata": {
    "colab": {
     "base_uri": "https://localhost:8080/",
     "height": 35
    },
    "executionInfo": {
     "elapsed": 62507,
     "status": "ok",
     "timestamp": 1736606087719,
     "user": {
      "displayName": "Lorenzo Mioso",
      "userId": "10991569810054375249"
     },
     "user_tz": -60
    },
    "id": "eyFjBerj-EeQ",
    "outputId": "ad51cc20-b948-49f3-b610-ff6de6ff235a"
   },
   "outputs": [
    {
     "name": "stdout",
     "output_type": "stream",
     "text": [
      "Dataset found in ..//dataset\n"
     ]
    }
   ],
   "source": [
    "def dataset_exists(path=datasetdir + \"/dataset\", no_files=10000):\n",
    "    # check if dir exists and contains at least no_files files\n",
    "    if not os.path.exists(path):\n",
    "        print(f\"Folder not found in {path}\")\n",
    "        return False\n",
    "    if len(list(glob.iglob(path + \"/**\", recursive=True))) < no_files:\n",
    "        print(f\"Not enough files in {path}\")\n",
    "        return False\n",
    "    print(f\"Dataset found in {path}\")\n",
    "    return True\n",
    "\n",
    "\n",
    "if not dataset_exists():\n",
    "    pass\n",
    "    with ZipFile(datasetdir + \"dataset.zip\", \"r\") as zip_ref:\n",
    "        zip_ref.extractall()\n",
    "    # move folders to the right place\n",
    "    os.makedirs(\"dataset\", exist_ok=True)\n",
    "    shutil.move(ADENOCARCINOMA, \"dataset\")\n",
    "    shutil.move(SQUAMOUS_CELL_CARCINOMA, \"dataset\")\n",
    "    shutil.move(BENIGN, \"dataset\")"
   ]
  },
  {
   "cell_type": "code",
   "execution_count": 37,
   "metadata": {
    "colab": {
     "base_uri": "https://localhost:8080/",
     "height": 652
    },
    "executionInfo": {
     "elapsed": 1051,
     "status": "ok",
     "timestamp": 1736606088768,
     "user": {
      "displayName": "Lorenzo Mioso",
      "userId": "10991569810054375249"
     },
     "user_tz": -60
    },
    "id": "R11wO-lQ-EeQ",
    "outputId": "9b816ae2-734a-4947-d568-bb88acfdb6fb"
   },
   "outputs": [
    {
     "name": "stdout",
     "output_type": "stream",
     "text": [
      "Number of files in benign folder: 5000\n",
      "Number of files in adenocarcinoma folder: 5000\n",
      "      filename           class\n",
      "6341  3338.jpg  adenocarcinoma\n",
      "2470  2870.jpg          benign\n",
      "9238  2194.jpg  adenocarcinoma\n",
      "5176  2761.jpg  adenocarcinoma\n",
      "1608  3097.jpg          benign\n",
      "Number of files in the dataset: 2000\n"
     ]
    },
    {
     "data": {
      "image/png": "[encoded data removed]",
      "text/plain": [
       "<Figure size 1000x500 with 1 Axes>"
      ]
     },
     "metadata": {},
     "output_type": "display_data"
    }
   ],
   "source": [
    "# Creating lists for dataframe construction\n",
    "allFilesClass0 = os.listdir(f\"{datasetdir}dataset/{class_0}\")\n",
    "allFilesClass1 = os.listdir(f\"{datasetdir}dataset/{class_1}\")\n",
    "\n",
    "print(f\"Number of files in {class_0} folder: {len(allFilesClass0)}\")\n",
    "print(f\"Number of files in {class_1} folder: {len(allFilesClass1)}\")\n",
    "\n",
    "df = pd.DataFrame(columns=[\"filename\", \"class\"])\n",
    "df[\"filename\"] = allFilesClass0 + allFilesClass1\n",
    "df[\"class\"] = [class_0] * len(allFilesClass0) + [class_1] * len(allFilesClass1)\n",
    "\n",
    "# keep DATASETPERCENTAGE data\n",
    "df = df.sample(frac=DATASET_PERCENTAGE)\n",
    "\n",
    "print(df.head())\n",
    "print(f\"Number of files in the dataset: {len(df)}\")\n",
    "\n",
    "plt.figure(figsize=(10, 5))\n",
    "sns.countplot(data=df, x=\"class\")\n",
    "plt.title(\"Class distribution\")\n",
    "plt.show()"
   ]
  },
  {
   "cell_type": "code",
   "execution_count": 38,
   "metadata": {
    "executionInfo": {
     "elapsed": 1038,
     "status": "ok",
     "timestamp": 1736606089803,
     "user": {
      "displayName": "Lorenzo Mioso",
      "userId": "10991569810054375249"
     },
     "user_tz": -60
    },
    "id": "6dRSKial-EeQ"
   },
   "outputs": [],
   "source": [
    "# Performing a stratified k-folds subdivision\n",
    "KFOLDS = 10\n",
    "skf = StratifiedKFold(n_splits=KFOLDS, shuffle=True, random_state=42)\n",
    "skf.get_n_splits(df[\"filename\"], df[\"class\"])\n",
    "\n",
    "# Storing indexes to reuse them later\n",
    "train_indexes = []\n",
    "val_indexes = []\n",
    "for train_index, val_index in skf.split(df[\"filename\"], df[\"class\"]):\n",
    "    train_indexes.append(train_index)\n",
    "    val_indexes.append(val_index)\n",
    "\n",
    "train_splits = pd.DataFrame(columns=[f\"train_{i}\" for i in range(KFOLDS)])\n",
    "val_splits = pd.DataFrame(columns=[f\"val_{i}\" for i in range(KFOLDS)])\n",
    "\n",
    "for i in range(KFOLDS):\n",
    "    # train_splits[f\"train_{i}\"] = train_indexes[i]\n",
    "    # val_splits[f\"val_{i}\"] = val_indexes[i]\n",
    "    # move 80% of train indexes to val\n",
    "    perc = int(0.2 * len(train_indexes[i]))\n",
    "    train_splits[f\"train_{i}\"] = train_indexes[i][:perc]\n",
    "    val_splits[f\"val_{i}\"] = np.concatenate((train_indexes[i][perc:], val_indexes[i]))\n",
    "\n",
    "\n",
    "# Saving the splits\n",
    "train_splits.to_csv(basedir + \"train_splits.csv\", index=False)\n",
    "val_splits.to_csv(basedir + \"val_splits.csv\", index=False)"
   ]
  },
  {
   "cell_type": "code",
   "execution_count": 39,
   "metadata": {
    "colab": {
     "base_uri": "https://localhost:8080/"
    },
    "executionInfo": {
     "elapsed": 3,
     "status": "ok",
     "timestamp": 1736606089803,
     "user": {
      "displayName": "Lorenzo Mioso",
      "userId": "10991569810054375249"
     },
     "user_tz": -60
    },
    "id": "_kq6WcoO-EeQ",
    "outputId": "6124fd4c-97e4-4308-e7cb-8caf2e004b1a"
   },
   "outputs": [],
   "source": [
    "# recover the splits\n",
    "train_splits = pd.read_csv(basedir + \"train_splits.csv\")\n",
    "val_splits = pd.read_csv(basedir + \"val_splits.csv\")"
   ]
  },
  {
   "cell_type": "code",
   "execution_count": 40,
   "metadata": {
    "executionInfo": {
     "elapsed": 2,
     "status": "ok",
     "timestamp": 1736606089803,
     "user": {
      "displayName": "Lorenzo Mioso",
      "userId": "10991569810054375249"
     },
     "user_tz": -60
    },
    "id": "sOqCh1Ii-EeR"
   },
   "outputs": [],
   "source": [
    "TARGET_IMAGE_SIZE = 768"
   ]
  },
  {
   "cell_type": "code",
   "execution_count": 41,
   "metadata": {},
   "outputs": [
    {
     "name": "stdout",
     "output_type": "stream",
     "text": [
      "Not enough files in ../dataset_resized\n"
     ]
    },
    {
     "name": "stderr",
     "output_type": "stream",
     "text": [
      "100%|██████████| 2000/2000 [00:07<00:00, 273.45it/s]\n"
     ]
    }
   ],
   "source": [
    "def resize_dataset(df, size):\n",
    "    new_folder = datasetdir + \"dataset_resized\"\n",
    "    os.makedirs(new_folder, exist_ok=True)\n",
    "    for idx in tqdm(range(len(df))):\n",
    "        # Read image with OpenCV\n",
    "        img_path = (\n",
    "            f\"{datasetdir}dataset/{df.iloc[idx]['class']}/{df.iloc[idx]['filename']}\"\n",
    "        )\n",
    "        image = cv2.imread(img_path)\n",
    "        # Convert to grayscale\n",
    "        gray = cv2.cvtColor(image, cv2.COLOR_BGR2GRAY)\n",
    "        # Resize\n",
    "        result = cv2.resize(gray, size)\n",
    "        # Save\n",
    "        dest_path = f\"{new_folder}/{df.iloc[idx]['class']}/{df.iloc[idx]['filename']}\"\n",
    "        os.makedirs(os.path.dirname(dest_path), exist_ok=True)\n",
    "        cv2.imwrite(dest_path, result)\n",
    "\n",
    "\n",
    "if not dataset_exists(datasetdir + \"dataset_resized\"):\n",
    "    resize_dataset(df, (TARGET_IMAGE_SIZE, TARGET_IMAGE_SIZE))"
   ]
  },
  {
   "cell_type": "code",
   "execution_count": 42,
   "metadata": {
    "executionInfo": {
     "elapsed": 2,
     "status": "ok",
     "timestamp": 1736606089803,
     "user": {
      "displayName": "Lorenzo Mioso",
      "userId": "10991569810054375249"
     },
     "user_tz": -60
    },
    "id": "YOAtRH2k-EeR"
   },
   "outputs": [],
   "source": [
    "class LungCancerDataset(Dataset):\n",
    "    def __init__(self, df, folder_path, transform=None, cache_size=100):\n",
    "        self.df = df\n",
    "        self.folder_path = folder_path\n",
    "        self.transform = transform\n",
    "        self.cache_size = cache_size\n",
    "        self.cache = {}\n",
    "\n",
    "    def __len__(self):\n",
    "        return len(self.df)\n",
    "\n",
    "    def __getitem__(self, idx):\n",
    "        if idx in self.cache:\n",
    "            image, label = self.cache[idx]\n",
    "        else:\n",
    "            img_name = self.df.iloc[idx][\"filename\"]\n",
    "            img_class = self.df.iloc[idx][\"class\"]\n",
    "            img_path = os.path.join(self.folder_path, img_class, img_name)\n",
    "\n",
    "            # Load and cache image\n",
    "            # image = Image.open(img_path).convert(\"RGB\")\n",
    "            # image = torch.tensor(np.array(image), dtype=torch.float32).permute(2, 0, 1) / 255\n",
    "            data = read_file(img_path)\n",
    "            # decode rgb\n",
    "            # image = decode_jpeg(data, device=device).half() / 255\n",
    "            # decode grayscale\n",
    "            image = decode_jpeg(data, device=device, mode=ImageReadMode.GRAY) / 255\n",
    "\n",
    "            label = 1 if img_class == class_1 else 0\n",
    "            label = torch.tensor(label, dtype=torch.long)\n",
    "\n",
    "            # Add to cache\n",
    "            if len(self.cache) < self.cache_size:\n",
    "                self.cache[idx] = (image, label)\n",
    "\n",
    "        if self.transform:\n",
    "            image = self.transform(image)\n",
    "\n",
    "        return image, label"
   ]
  },
  {
   "cell_type": "code",
   "execution_count": 43,
   "metadata": {
    "executionInfo": {
     "elapsed": 2,
     "status": "ok",
     "timestamp": 1736606089803,
     "user": {
      "displayName": "Lorenzo Mioso",
      "userId": "10991569810054375249"
     },
     "user_tz": -60
    },
    "id": "0TjguC2F-EeR"
   },
   "outputs": [],
   "source": [
    "def calculate_fold_stats(df, train_idx, image_size=TARGET_IMAGE_SIZE, is_gray=True):\n",
    "    \"\"\"Calculate mean and std for a specific fold\"\"\"\n",
    "\n",
    "    # Create dataset for train fold\n",
    "    train_df = df.iloc[train_idx]\n",
    "    train_dataset = LungCancerDataset(train_df, datasetdir + \"dataset_resized\")\n",
    "\n",
    "    # Calculate mean and std\n",
    "    channels = 1 if is_gray else 3\n",
    "    channels_sum = torch.zeros(channels, device=device)\n",
    "    channels_squared_sum = torch.zeros(channels, device=device)\n",
    "    num_batches = 0\n",
    "\n",
    "    for data, _ in tqdm(\n",
    "        DataLoader(\n",
    "            train_dataset,\n",
    "            batch_size=32,\n",
    "        ),\n",
    "        desc=\"Calculating dataset statistics\",\n",
    "    ):\n",
    "        channels_sum += torch.mean(data, dim=[0, 2, 3])\n",
    "        channels_squared_sum += torch.mean(data**2, dim=[0, 2, 3])\n",
    "        num_batches += 1\n",
    "\n",
    "    mean = channels_sum / num_batches\n",
    "    std = (channels_squared_sum / num_batches - mean**2) ** 0.5\n",
    "\n",
    "    return mean, std"
   ]
  },
  {
   "cell_type": "code",
   "execution_count": 44,
   "metadata": {
    "executionInfo": {
     "elapsed": 3,
     "status": "ok",
     "timestamp": 1736606089804,
     "user": {
      "displayName": "Lorenzo Mioso",
      "userId": "10991569810054375249"
     },
     "user_tz": -60
    },
    "id": "wiJdFMtO-EeS"
   },
   "outputs": [
    {
     "name": "stderr",
     "output_type": "stream",
     "text": [
      "Calculating dataset statistics: 100%|██████████| 12/12 [00:00<00:00, 29.25it/s]\n",
      "Calculating dataset statistics: 100%|██████████| 12/12 [00:00<00:00, 29.30it/s]\n",
      "Calculating dataset statistics: 100%|██████████| 12/12 [00:00<00:00, 29.46it/s]\n",
      "Calculating dataset statistics: 100%|██████████| 12/12 [00:00<00:00, 29.79it/s]\n",
      "Calculating dataset statistics: 100%|██████████| 12/12 [00:00<00:00, 29.53it/s]\n",
      "Calculating dataset statistics: 100%|██████████| 12/12 [00:00<00:00, 30.17it/s]\n",
      "Calculating dataset statistics: 100%|██████████| 12/12 [00:00<00:00, 29.37it/s]\n",
      "Calculating dataset statistics: 100%|██████████| 12/12 [00:00<00:00, 30.15it/s]\n",
      "Calculating dataset statistics: 100%|██████████| 12/12 [00:00<00:00, 29.79it/s]\n",
      "Calculating dataset statistics: 100%|██████████| 12/12 [00:00<00:00, 29.95it/s]"
     ]
    },
    {
     "name": "stdout",
     "output_type": "stream",
     "text": [
      "Fold statistics saved to fold_stats.json\n"
     ]
    },
    {
     "name": "stderr",
     "output_type": "stream",
     "text": [
      "\n"
     ]
    }
   ],
   "source": [
    "fold_stats = {}\n",
    "for fold in range(KFOLDS):\n",
    "    train_idx = train_splits[f\"train_{fold}\"].values\n",
    "    val_idx = val_splits[f\"val_{fold}\"].values\n",
    "\n",
    "    # Calculate statistics for this fold\n",
    "    mean, std = calculate_fold_stats(df, train_idx)\n",
    "    fold_stats[fold] = {\"mean\": mean, \"std\": std}\n",
    "\n",
    "# Save fold statistics\n",
    "with open(basedir + \"fold_stats.json\", \"w\") as f:\n",
    "    json.dump(\n",
    "        {\n",
    "            k: {\"mean\": v[\"mean\"].tolist(), \"std\": v[\"std\"].tolist()}\n",
    "            for k, v in fold_stats.items()\n",
    "        },\n",
    "        f,\n",
    "    )\n",
    "    print(\"Fold statistics saved to fold_stats.json\")"
   ]
  },
  {
   "cell_type": "code",
   "execution_count": 45,
   "metadata": {
    "colab": {
     "base_uri": "https://localhost:8080/"
    },
    "executionInfo": {
     "elapsed": 532,
     "status": "ok",
     "timestamp": 1736606454704,
     "user": {
      "displayName": "Lorenzo Mioso",
      "userId": "10991569810054375249"
     },
     "user_tz": -60
    },
    "id": "hB6y5f5u-EeS",
    "outputId": "3b53e9d2-e420-43b2-cdcf-276190dfd972"
   },
   "outputs": [
    {
     "name": "stdout",
     "output_type": "stream",
     "text": [
      "{'0': {'mean': [0.6469956636428833], 'std': [0.166840061545372]}, '1': {'mean': [0.6459748148918152], 'std': [0.1670152097940445]}, '2': {'mean': [0.6458590030670166], 'std': [0.16660349071025848]}, '3': {'mean': [0.6440173387527466], 'std': [0.1672370433807373]}, '4': {'mean': [0.6439753174781799], 'std': [0.16765281558036804]}, '5': {'mean': [0.6449133157730103], 'std': [0.16896410286426544]}, '6': {'mean': [0.6437848210334778], 'std': [0.16611243784427643]}, '7': {'mean': [0.6449033617973328], 'std': [0.16684435307979584]}, '8': {'mean': [0.6475167274475098], 'std': [0.1675434559583664]}, '9': {'mean': [0.6451447010040283], 'std': [0.16700905561447144]}}\n"
     ]
    }
   ],
   "source": [
    "# load fold statistics\n",
    "with open(basedir + \"fold_stats.json\", \"r\") as f:\n",
    "    fold_stats = json.load(f)\n",
    "print(fold_stats)"
   ]
  },
  {
   "cell_type": "code",
   "execution_count": 46,
   "metadata": {
    "executionInfo": {
     "elapsed": 358,
     "status": "ok",
     "timestamp": 1736609477529,
     "user": {
      "displayName": "Lorenzo Mioso",
      "userId": "10991569810054375249"
     },
     "user_tz": -60
    },
    "id": "XRL4wMdg-EeS"
   },
   "outputs": [],
   "source": [
    "def create_dataloaders(\n",
    "    df,\n",
    "    train_idx,\n",
    "    val_idx,\n",
    "    mean,\n",
    "    std,\n",
    "    batch_size=32,\n",
    "):\n",
    "    \"\"\"Create normalized dataloaders for a specific fold\"\"\"\n",
    "\n",
    "    # Define transforms\n",
    "    train_transform = transforms.Compose(\n",
    "        [\n",
    "            transforms.RandomHorizontalFlip(),\n",
    "            transforms.RandomVerticalFlip(),\n",
    "            transforms.RandomRotation(20),\n",
    "            transforms.ColorJitter(brightness=0.2, contrast=0.2),\n",
    "            transforms.RandomResizedCrop(768, scale=(0.8, 1.0)),\n",
    "            transforms.RandomGrayscale(p=0.1),\n",
    "            transforms.Normalize(mean=mean, std=std),\n",
    "        ]\n",
    "    )\n",
    "\n",
    "    val_transform = transforms.Compose(\n",
    "        [\n",
    "            transforms.Normalize(mean=mean, std=std),\n",
    "        ]\n",
    "    )\n",
    "\n",
    "    # Create datasets\n",
    "    train_df = df.iloc[train_idx]\n",
    "    val_df = df.iloc[val_idx]\n",
    "\n",
    "    train_dataset = LungCancerDataset(\n",
    "        train_df, datasetdir + \"dataset_resized\", transform=train_transform\n",
    "    )\n",
    "    val_dataset = LungCancerDataset(\n",
    "        val_df, datasetdir + \"dataset_resized\", transform=val_transform\n",
    "    )\n",
    "\n",
    "    # Create dataloaders\n",
    "    train_loader = DataLoader(\n",
    "        train_dataset,\n",
    "        batch_size=batch_size,\n",
    "        shuffle=True,\n",
    "    )\n",
    "    val_loader = DataLoader(\n",
    "        val_dataset,\n",
    "        batch_size=batch_size,\n",
    "        shuffle=False,\n",
    "    )\n",
    "\n",
    "    return train_loader, val_loader"
   ]
  },
  {
   "cell_type": "code",
   "execution_count": 47,
   "metadata": {
    "colab": {
     "base_uri": "https://localhost:8080/"
    },
    "executionInfo": {
     "elapsed": 2,
     "status": "ok",
     "timestamp": 1736609478780,
     "user": {
      "displayName": "Lorenzo Mioso",
      "userId": "10991569810054375249"
     },
     "user_tz": -60
    },
    "id": "UBHGtGX3-EeS",
    "outputId": "1c2507e1-f27e-463a-d40e-40b553287db4"
   },
   "outputs": [
    {
     "name": "stdout",
     "output_type": "stream",
     "text": [
      "Train loader length: 12\n",
      "Val loader length: 52\n"
     ]
    }
   ],
   "source": [
    "# take the data from the first fold\n",
    "train_idx = train_splits[\"train_0\"].values\n",
    "val_idx = val_splits[\"val_0\"].values\n",
    "mean = fold_stats[\"0\"][\"mean\"]\n",
    "std = fold_stats[\"0\"][\"std\"]\n",
    "\n",
    "# Create dataloaders with fold-specific normalization\n",
    "train_loader, val_loader = create_dataloaders(df, train_idx, val_idx, mean, std)\n",
    "\n",
    "# check len of train and val loaders\n",
    "print(f\"Train loader length: {len(train_loader)}\")\n",
    "print(f\"Val loader length: {len(val_loader)}\")"
   ]
  },
  {
   "cell_type": "code",
   "execution_count": 48,
   "metadata": {
    "id": "y8PcEer6QIwP"
   },
   "outputs": [
    {
     "ename": "KeyboardInterrupt",
     "evalue": "",
     "output_type": "error",
     "traceback": [
      "\u001b[0;31m---------------------------------------------------------------------------\u001b[0m",
      "\u001b[0;31mKeyboardInterrupt\u001b[0m                         Traceback (most recent call last)",
      "Cell \u001b[0;32mIn[48], line 2\u001b[0m\n\u001b[1;32m      1\u001b[0m \u001b[38;5;66;03m# apply Scattering to an image\u001b[39;00m\n\u001b[0;32m----> 2\u001b[0m scattering \u001b[38;5;241m=\u001b[39m \u001b[43mScattering2D\u001b[49m\u001b[43m(\u001b[49m\n\u001b[1;32m      3\u001b[0m \u001b[43m    \u001b[49m\u001b[43mJ\u001b[49m\u001b[38;5;241;43m=\u001b[39;49m\u001b[38;5;241;43m5\u001b[39;49m\u001b[43m,\u001b[49m\n\u001b[1;32m      4\u001b[0m \u001b[43m    \u001b[49m\u001b[43mshape\u001b[49m\u001b[38;5;241;43m=\u001b[39;49m\u001b[43m(\u001b[49m\u001b[43mTARGET_IMAGE_SIZE\u001b[49m\u001b[43m,\u001b[49m\u001b[43m \u001b[49m\u001b[43mTARGET_IMAGE_SIZE\u001b[49m\u001b[43m)\u001b[49m\u001b[43m,\u001b[49m\n\u001b[1;32m      5\u001b[0m \u001b[43m    \u001b[49m\u001b[43mbackend\u001b[49m\u001b[38;5;241;43m=\u001b[39;49m\u001b[38;5;124;43m\"\u001b[39;49m\u001b[38;5;124;43mtorch_skcuda\u001b[39;49m\u001b[38;5;124;43m\"\u001b[39;49m\u001b[43m,\u001b[49m\n\u001b[1;32m      6\u001b[0m \u001b[43m    \u001b[49m\u001b[43mmax_order\u001b[49m\u001b[38;5;241;43m=\u001b[39;49m\u001b[38;5;241;43m1\u001b[39;49m\u001b[43m,\u001b[49m\n\u001b[1;32m      7\u001b[0m \u001b[43m)\u001b[49m\n\u001b[1;32m      8\u001b[0m scattering \u001b[38;5;241m=\u001b[39m scattering\u001b[38;5;241m.\u001b[39mto(device)\n",
      "File \u001b[0;32m~/Documents/GitHub/VisualIntelligence/.venv/lib/python3.11/site-packages/kymatio/scattering2d/frontend/torch_frontend.py:15\u001b[0m, in \u001b[0;36mScatteringTorch2D.__init__\u001b[0;34m(self, J, shape, L, max_order, pre_pad, backend, out_type)\u001b[0m\n\u001b[1;32m     13\u001b[0m ScatteringBase2D\u001b[38;5;241m.\u001b[39m_instantiate_backend(\u001b[38;5;28mself\u001b[39m, \u001b[38;5;124m'\u001b[39m\u001b[38;5;124mkymatio.scattering2d.backend.\u001b[39m\u001b[38;5;124m'\u001b[39m)\n\u001b[1;32m     14\u001b[0m ScatteringBase2D\u001b[38;5;241m.\u001b[39mbuild(\u001b[38;5;28mself\u001b[39m)\n\u001b[0;32m---> 15\u001b[0m \u001b[43mScatteringBase2D\u001b[49m\u001b[38;5;241;43m.\u001b[39;49m\u001b[43mcreate_filters\u001b[49m\u001b[43m(\u001b[49m\u001b[38;5;28;43mself\u001b[39;49m\u001b[43m)\u001b[49m\n\u001b[1;32m     17\u001b[0m \u001b[38;5;28;01mif\u001b[39;00m pre_pad:\n\u001b[1;32m     18\u001b[0m     \u001b[38;5;66;03m# Need to cast to complex in Torch\u001b[39;00m\n\u001b[1;32m     19\u001b[0m     \u001b[38;5;28mself\u001b[39m\u001b[38;5;241m.\u001b[39mpad \u001b[38;5;241m=\u001b[39m \u001b[38;5;28;01mlambda\u001b[39;00m x: x\u001b[38;5;241m.\u001b[39mreshape(x\u001b[38;5;241m.\u001b[39mshape \u001b[38;5;241m+\u001b[39m (\u001b[38;5;241m1\u001b[39m,))\n",
      "File \u001b[0;32m~/Documents/GitHub/VisualIntelligence/.venv/lib/python3.11/site-packages/kymatio/scattering2d/frontend/base_frontend.py:35\u001b[0m, in \u001b[0;36mScatteringBase2D.create_filters\u001b[0;34m(self)\u001b[0m\n\u001b[1;32m     34\u001b[0m \u001b[38;5;28;01mdef\u001b[39;00m\u001b[38;5;250m \u001b[39m\u001b[38;5;21mcreate_filters\u001b[39m(\u001b[38;5;28mself\u001b[39m):\n\u001b[0;32m---> 35\u001b[0m     filters \u001b[38;5;241m=\u001b[39m \u001b[43mfilter_bank\u001b[49m\u001b[43m(\u001b[49m\u001b[38;5;28;43mself\u001b[39;49m\u001b[38;5;241;43m.\u001b[39;49m\u001b[43m_M_padded\u001b[49m\u001b[43m,\u001b[49m\u001b[43m \u001b[49m\u001b[38;5;28;43mself\u001b[39;49m\u001b[38;5;241;43m.\u001b[39;49m\u001b[43m_N_padded\u001b[49m\u001b[43m,\u001b[49m\u001b[43m \u001b[49m\u001b[38;5;28;43mself\u001b[39;49m\u001b[38;5;241;43m.\u001b[39;49m\u001b[43mJ\u001b[49m\u001b[43m,\u001b[49m\u001b[43m \u001b[49m\u001b[38;5;28;43mself\u001b[39;49m\u001b[38;5;241;43m.\u001b[39;49m\u001b[43mL\u001b[49m\u001b[43m)\u001b[49m\n\u001b[1;32m     36\u001b[0m     \u001b[38;5;28mself\u001b[39m\u001b[38;5;241m.\u001b[39mphi, \u001b[38;5;28mself\u001b[39m\u001b[38;5;241m.\u001b[39mpsi \u001b[38;5;241m=\u001b[39m filters[\u001b[38;5;124m'\u001b[39m\u001b[38;5;124mphi\u001b[39m\u001b[38;5;124m'\u001b[39m], filters[\u001b[38;5;124m'\u001b[39m\u001b[38;5;124mpsi\u001b[39m\u001b[38;5;124m'\u001b[39m]\n",
      "File \u001b[0;32m~/Documents/GitHub/VisualIntelligence/.venv/lib/python3.11/site-packages/kymatio/scattering2d/filter_bank.py:41\u001b[0m, in \u001b[0;36mfilter_bank\u001b[0;34m(M, N, J, L)\u001b[0m\n\u001b[1;32m     39\u001b[0m psi_levels \u001b[38;5;241m=\u001b[39m []\n\u001b[1;32m     40\u001b[0m \u001b[38;5;28;01mfor\u001b[39;00m res \u001b[38;5;129;01min\u001b[39;00m \u001b[38;5;28mrange\u001b[39m(\u001b[38;5;28mmin\u001b[39m(j \u001b[38;5;241m+\u001b[39m \u001b[38;5;241m1\u001b[39m, \u001b[38;5;28mmax\u001b[39m(J \u001b[38;5;241m-\u001b[39m \u001b[38;5;241m1\u001b[39m, \u001b[38;5;241m1\u001b[39m))):\n\u001b[0;32m---> 41\u001b[0m     psi_levels\u001b[38;5;241m.\u001b[39mappend(\u001b[43mperiodize_filter_fft\u001b[49m\u001b[43m(\u001b[49m\u001b[43mpsi_signal_fourier\u001b[49m\u001b[43m,\u001b[49m\u001b[43m \u001b[49m\u001b[43mres\u001b[49m\u001b[43m)\u001b[49m)\n\u001b[1;32m     42\u001b[0m psi[\u001b[38;5;124m'\u001b[39m\u001b[38;5;124mlevels\u001b[39m\u001b[38;5;124m'\u001b[39m] \u001b[38;5;241m=\u001b[39m psi_levels\n\u001b[1;32m     43\u001b[0m filters[\u001b[38;5;124m'\u001b[39m\u001b[38;5;124mpsi\u001b[39m\u001b[38;5;124m'\u001b[39m]\u001b[38;5;241m.\u001b[39mappend(psi)\n",
      "File \u001b[0;32m~/Documents/GitHub/VisualIntelligence/.venv/lib/python3.11/site-packages/kymatio/scattering2d/filter_bank.py:87\u001b[0m, in \u001b[0;36mperiodize_filter_fft\u001b[0;34m(x, res)\u001b[0m\n\u001b[1;32m     85\u001b[0m \u001b[38;5;28;01mfor\u001b[39;00m k \u001b[38;5;129;01min\u001b[39;00m \u001b[38;5;28mrange\u001b[39m(\u001b[38;5;28mint\u001b[39m(M \u001b[38;5;241m/\u001b[39m \u001b[38;5;241m2\u001b[39m \u001b[38;5;241m*\u001b[39m\u001b[38;5;241m*\u001b[39m res)):\n\u001b[1;32m     86\u001b[0m     \u001b[38;5;28;01mfor\u001b[39;00m l \u001b[38;5;129;01min\u001b[39;00m \u001b[38;5;28mrange\u001b[39m(\u001b[38;5;28mint\u001b[39m(N \u001b[38;5;241m/\u001b[39m \u001b[38;5;241m2\u001b[39m \u001b[38;5;241m*\u001b[39m\u001b[38;5;241m*\u001b[39m res)):\n\u001b[0;32m---> 87\u001b[0m         \u001b[38;5;28;01mfor\u001b[39;00m i \u001b[38;5;129;01min\u001b[39;00m \u001b[38;5;28mrange\u001b[39m(\u001b[38;5;28;43mint\u001b[39;49m\u001b[43m(\u001b[49m\u001b[38;5;241;43m2\u001b[39;49m\u001b[43m \u001b[49m\u001b[38;5;241;43m*\u001b[39;49m\u001b[38;5;241;43m*\u001b[39;49m\u001b[43m \u001b[49m\u001b[43mres\u001b[49m\u001b[43m)\u001b[49m):\n\u001b[1;32m     88\u001b[0m             \u001b[38;5;28;01mfor\u001b[39;00m j \u001b[38;5;129;01min\u001b[39;00m \u001b[38;5;28mrange\u001b[39m(\u001b[38;5;28mint\u001b[39m(\u001b[38;5;241m2\u001b[39m \u001b[38;5;241m*\u001b[39m\u001b[38;5;241m*\u001b[39m res)):\n\u001b[1;32m     89\u001b[0m                 crop[k, l] \u001b[38;5;241m+\u001b[39m\u001b[38;5;241m=\u001b[39m x[k \u001b[38;5;241m+\u001b[39m i \u001b[38;5;241m*\u001b[39m \u001b[38;5;28mint\u001b[39m(M \u001b[38;5;241m/\u001b[39m \u001b[38;5;241m2\u001b[39m \u001b[38;5;241m*\u001b[39m\u001b[38;5;241m*\u001b[39m res), l \u001b[38;5;241m+\u001b[39m j \u001b[38;5;241m*\u001b[39m \u001b[38;5;28mint\u001b[39m(N \u001b[38;5;241m/\u001b[39m \u001b[38;5;241m2\u001b[39m \u001b[38;5;241m*\u001b[39m\u001b[38;5;241m*\u001b[39m res)]\n",
      "\u001b[0;31mKeyboardInterrupt\u001b[0m: "
     ]
    }
   ],
   "source": [
    "# apply Scattering to an image\n",
    "scattering = Scattering2D(\n",
    "    J=5,\n",
    "    shape=(TARGET_IMAGE_SIZE, TARGET_IMAGE_SIZE),\n",
    "    backend=\"torch_skcuda\",\n",
    "    max_order=1,\n",
    ")\n",
    "scattering = scattering.to(device)"
   ]
  },
  {
   "cell_type": "code",
   "execution_count": null,
   "metadata": {
    "id": "vjBkKWgW7rDm"
   },
   "outputs": [],
   "source": [
    "images, labels = next(iter(train_loader))\n",
    "print(images.shape)\n",
    "\n",
    "result = scattering(images)\n",
    "print(result.shape)\n",
    "\"\"\" Output\n",
    "torch.Size([32, 3, 768, 768])\n",
    "torch.Size([32, 3, 81, 192, 192])\n",
    "\"\"\""
   ]
  },
  {
   "cell_type": "code",
   "execution_count": 49,
   "metadata": {
    "executionInfo": {
     "elapsed": 487,
     "status": "ok",
     "timestamp": 1736610100920,
     "user": {
      "displayName": "Lorenzo Mioso",
      "userId": "10991569810054375249"
     },
     "user_tz": -60
    },
    "id": "_jI7XI6rVznN"
   },
   "outputs": [],
   "source": [
    "from kymatio.torch import Scattering2D\n",
    "\n",
    "\n",
    "# Create a ScatNet\n",
    "class ImageClassifier(nn.Module):\n",
    "    def __init__(self):\n",
    "        super().__init__()\n",
    "\n",
    "        # Feature extraction\n",
    "        self.scattering = Scattering2D(\n",
    "            J=2, shape=(TARGET_IMAGE_SIZE, TARGET_IMAGE_SIZE), backend=\"torch_skcuda\"\n",
    "        )\n",
    "        # pool\n",
    "        self.global_pool = nn.AdaptiveAvgPool2d(1)\n",
    "        # classifier\n",
    "        self.classifier = nn.Sequential(\n",
    "            nn.Dropout(0.5),\n",
    "            nn.Linear(1 * 81, 2),  # J = 2\n",
    "            # nn.Linear(3 * 1401, 2), # J = 7\n",
    "        )\n",
    "\n",
    "    def forward(self, x):\n",
    "        #print(f\"forward: {x.shape}\")\n",
    "        x = self.scattering(x)\n",
    "        #print(f\"scattering: {x.shape}\")\n",
    "        x = self.global_pool(x)\n",
    "        #print(f\"global_pool: {x.shape}\")\n",
    "        x = torch.flatten(x, 1)\n",
    "        #print(f\"flatten: {x.shape}\")\n",
    "        x = self.classifier(x)\n",
    "        #print(f\"classifier: {x.shape}\")\n",
    "        return x\n",
    "\n",
    "\n",
    "model = ImageClassifier().to(device)"
   ]
  },
  {
   "cell_type": "code",
   "execution_count": 50,
   "metadata": {
    "id": "5vT3eOoe-EeS"
   },
   "outputs": [
    {
     "name": "stdout",
     "output_type": "stream",
     "text": [
      "Labels : tensor([0, 0, 1, 0, 0, 1, 1, 0, 0, 1, 1, 1, 0, 1, 1, 0, 1, 0, 0, 0, 0, 1, 1, 1,\n",
      "        1, 1, 0, 0, 0, 1, 0, 0])\n",
      "Images shape: torch.Size([32, 1, 768, 768])\n",
      "tensor([[-0.0945, -0.0204]], device='cuda:0')\n",
      "==========================================================================================\n",
      "Layer (type:depth-idx)                   Output Shape              Param #\n",
      "==========================================================================================\n",
      "ImageClassifier                          [1, 2]                    --\n",
      "├─Scattering2D: 1-1                      [1, 1, 81, 192, 192]      --\n",
      "├─AdaptiveAvgPool2d: 1-2                 [1, 1, 81, 1, 1]          --\n",
      "├─Sequential: 1-3                        [1, 2]                    --\n",
      "│    └─Dropout: 2-1                      [1, 81]                   --\n",
      "│    └─Linear: 2-2                       [1, 2]                    164\n",
      "==========================================================================================\n",
      "Total params: 164\n",
      "Trainable params: 164\n",
      "Non-trainable params: 0\n",
      "Total mult-adds (Units.MEGABYTES): 0.00\n",
      "==========================================================================================\n",
      "Input size (MB): 2.36\n",
      "Forward/backward pass size (MB): 0.00\n",
      "Params size (MB): 0.00\n",
      "Estimated Total Size (MB): 2.36\n",
      "==========================================================================================\n"
     ]
    }
   ],
   "source": [
    "# getting a single image from the batch\n",
    "images, labels = next(iter(train_loader))\n",
    "print(f\"Labels : {labels}\")\n",
    "\n",
    "print(f\"Images shape: {images.shape}\")\n",
    "image = images[0].unsqueeze(0).to(device)\n",
    "label = labels[0].unsqueeze(0).to(device)\n",
    "\n",
    "# Forward pass\n",
    "model.eval()\n",
    "with torch.inference_mode():\n",
    "    output = model(image)\n",
    "    print(output)\n",
    "\n",
    "# check the model summary\n",
    "print(\n",
    "    summary(\n",
    "        model, input_size=(1, 1, TARGET_IMAGE_SIZE, TARGET_IMAGE_SIZE), device=device\n",
    "    )\n",
    ")"
   ]
  },
  {
   "cell_type": "code",
   "execution_count": 51,
   "metadata": {
    "executionInfo": {
     "elapsed": 4,
     "status": "ok",
     "timestamp": 1736610001423,
     "user": {
      "displayName": "Lorenzo Mioso",
      "userId": "10991569810054375249"
     },
     "user_tz": -60
    },
    "id": "q0nKZhrE-EeT"
   },
   "outputs": [],
   "source": [
    "def train_step(\n",
    "    model: torch.nn.Module,\n",
    "    dataloader: torch.utils.data.DataLoader,\n",
    "    loss_fn: torch.nn.Module,\n",
    "    optimizer: torch.optim.Optimizer,\n",
    "    epoch: int,\n",
    "):\n",
    "\n",
    "    # Put model in train mode\n",
    "    model.train()\n",
    "\n",
    "    # Setup train loss and train accuracy values\n",
    "    train_loss, train_acc = 0, 0\n",
    "\n",
    "    # Loop through DataLoader batches\n",
    "    for _, (img, label) in enumerate(dataloader):\n",
    "        # Warmup\n",
    "        warmup_percent = min(epoch / 3, 1.0)\n",
    "        current_lr = 5e-4 * warmup_percent\n",
    "        for param_group in optimizer.param_groups:\n",
    "            param_group[\"lr\"] = current_lr\n",
    "        # Send data to target device\n",
    "        X = img.to(device)\n",
    "        y = label.to(device)\n",
    "        y_pred = model(X)\n",
    "        # Calculate loss\n",
    "        loss = loss_fn(y_pred, y)\n",
    "        # Accumulate loss\n",
    "        train_loss += loss.item()\n",
    "        # Optimizer zero grad\n",
    "        optimizer.zero_grad()\n",
    "        # Loss backward\n",
    "        loss.backward()\n",
    "        nn_utils.clip_grad_norm_(model.parameters(), max_norm=1.0)\n",
    "        # Optimize step with scaler\n",
    "        optimizer.step()\n",
    "        # Calculate and accumulate accuracy metric\n",
    "        y_pred_class = torch.argmax(torch.softmax(y_pred, dim=1), dim=1)\n",
    "        train_acc += (y_pred_class == y).sum().item() / len(y_pred)\n",
    "\n",
    "    # Adjust metrics for average loss and accuracy per batch\n",
    "    train_loss = train_loss / len(dataloader)\n",
    "    train_acc = train_acc / len(dataloader)\n",
    "    return train_loss, train_acc"
   ]
  },
  {
   "cell_type": "code",
   "execution_count": 52,
   "metadata": {
    "executionInfo": {
     "elapsed": 4,
     "status": "ok",
     "timestamp": 1736610001423,
     "user": {
      "displayName": "Lorenzo Mioso",
      "userId": "10991569810054375249"
     },
     "user_tz": -60
    },
    "id": "CN_k5qTH-EeT"
   },
   "outputs": [],
   "source": [
    "def val_step(\n",
    "    model: torch.nn.Module,\n",
    "    dataloader: torch.utils.data.DataLoader,\n",
    "    loss_fn: torch.nn.Module,\n",
    "):\n",
    "    model.eval()\n",
    "    val_loss, val_acc = 0, 0\n",
    "    with torch.inference_mode():\n",
    "        for _, (img, label) in enumerate(dataloader):\n",
    "            X = img.to(device)\n",
    "            y = label.to(device)\n",
    "\n",
    "            val_pred_logits = model(X)\n",
    "            loss = loss_fn(val_pred_logits, y)\n",
    "\n",
    "            val_loss += loss.item()\n",
    "            val_pred_labels = val_pred_logits.argmax(dim=1)\n",
    "            val_acc += (val_pred_labels == y).sum().item() / len(val_pred_labels)\n",
    "\n",
    "    val_loss = val_loss / len(dataloader)\n",
    "    val_acc = val_acc / len(dataloader)\n",
    "    return val_loss, val_acc"
   ]
  },
  {
   "cell_type": "code",
   "execution_count": 53,
   "metadata": {
    "executionInfo": {
     "elapsed": 4,
     "status": "ok",
     "timestamp": 1736610001423,
     "user": {
      "displayName": "Lorenzo Mioso",
      "userId": "10991569810054375249"
     },
     "user_tz": -60
    },
    "id": "x5iWRszp-EeT"
   },
   "outputs": [],
   "source": [
    "def train(\n",
    "    model: torch.nn.Module,\n",
    "    train_dataloader: torch.utils.data.DataLoader,\n",
    "    val_dataloader: torch.utils.data.DataLoader,\n",
    "    optimizer: torch.optim.Optimizer,\n",
    "    loss_fn: torch.nn.Module = nn.CrossEntropyLoss(),\n",
    "    epochs: int = 50,\n",
    "    split: int = 0,\n",
    "    patience: int = 5,\n",
    "    min_delta: float = 0.001,\n",
    "):\n",
    "    # Create empty results dictionary\n",
    "    results = {\"train_loss\": [], \"train_acc\": [], \"val_loss\": [], \"val_acc\": []}\n",
    "\n",
    "    # Initialize early stopping variables\n",
    "    best_val_loss = float(\"inf\")\n",
    "    epochs_without_improvement = 0\n",
    "\n",
    "    # Initialize learning rate scheduler\n",
    "    scheduler = torch.optim.lr_scheduler.CosineAnnealingWarmRestarts(\n",
    "        optimizer, T_0=5, T_mult=1, eta_min=1e-6\n",
    "    )\n",
    "    # Initialize tracking for best model\n",
    "    best_val = 0\n",
    "\n",
    "    # Training loop\n",
    "    for epoch in tqdm(range(epochs)):\n",
    "        train_loss, train_acc = train_step(\n",
    "            model=model,\n",
    "            dataloader=train_dataloader,\n",
    "            loss_fn=loss_fn,\n",
    "            optimizer=optimizer,\n",
    "            epoch=epoch,\n",
    "        )\n",
    "\n",
    "        val_loss, val_acc = val_step(\n",
    "            model=model, dataloader=val_dataloader, loss_fn=loss_fn\n",
    "        )\n",
    "\n",
    "        # Update learning rate based on validation loss\n",
    "        scheduler.step(val_loss)\n",
    "\n",
    "        # Early stopping check\n",
    "        if val_loss < best_val_loss - min_delta:\n",
    "            best_val_loss = val_loss\n",
    "            epochs_without_improvement = 0\n",
    "        else:\n",
    "            epochs_without_improvement += 1\n",
    "\n",
    "        # Save best model\n",
    "        if val_acc > best_val:\n",
    "            best_val = val_acc\n",
    "            checkpoint = {\n",
    "                \"state_dict\": model.state_dict(),\n",
    "                \"optimizer\": optimizer.state_dict(),\n",
    "            }\n",
    "            checkpoint_name = basedir + \"checkpoint_\" + str(split) + \".pth\"\n",
    "            torch.save(checkpoint, checkpoint_name)\n",
    "\n",
    "        # Print training progress\n",
    "        tqdm.write(\n",
    "            f\"Epoch: {epoch+1} | \"\n",
    "            f\"train_loss: {train_loss:.4f} | \"\n",
    "            f\"train_acc: {train_acc:.4f} | \"\n",
    "            f\"val_loss: {val_loss:.4f} | \"\n",
    "            f\"val_acc: {val_acc:.4f}\"\n",
    "        )\n",
    "\n",
    "        # Store results\n",
    "        results[\"train_loss\"].append(train_loss)\n",
    "        results[\"train_acc\"].append(train_acc)\n",
    "        results[\"val_loss\"].append(val_loss)\n",
    "        results[\"val_acc\"].append(val_acc)\n",
    "\n",
    "        # Early stopping\n",
    "        if epochs_without_improvement >= patience:\n",
    "            print(f\"Early stopping triggered after {epoch + 1} epochs\")\n",
    "            break\n",
    "\n",
    "    return results"
   ]
  },
  {
   "cell_type": "code",
   "execution_count": 54,
   "metadata": {
    "colab": {
     "base_uri": "https://localhost:8080/",
     "height": 479,
     "referenced_widgets": [
      "edc56104cea347d9a421448f4793cb7d",
      "c81ef92b78dd4c25859449d71b742587",
      "b317016954814f398362e0c5b7fb65dc",
      "f9fdfcb660ad4abf9d1ef80b9b9287ab",
      "724f6b3c49d646c498d732606709e487",
      "3271defe634a4e8e9560ad3f049fb148",
      "2391c2b6530140779419550690181a1c",
      "b5f219e7dce0486e8f434a7459caa7f3",
      "56171f445d5d43748a754959b792ea70",
      "2258c280ee9e4c4d8a7abaf3f6da2def",
      "53714c1ec3514cc9bda9a50de855f6dc"
     ]
    },
    "executionInfo": {
     "elapsed": 2107695,
     "status": "error",
     "timestamp": 1736612219382,
     "user": {
      "displayName": "Lorenzo Mioso",
      "userId": "10991569810054375249"
     },
     "user_tz": -60
    },
    "id": "YUvqCMj_-EeT",
    "outputId": "f5e25f7b-df51-4fe6-9d80-58a34a7ba986"
   },
   "outputs": [
    {
     "name": "stderr",
     "output_type": "stream",
     "text": [
      "  2%|▏         | 1/50 [00:32<26:29, 32.43s/it]"
     ]
    },
    {
     "name": "stdout",
     "output_type": "stream",
     "text": [
      "Epoch: 1 | train_loss: 0.6770 | train_acc: 0.5911 | val_loss: 0.6786 | val_acc: 0.8576\n"
     ]
    },
    {
     "name": "stderr",
     "output_type": "stream",
     "text": [
      "  4%|▍         | 2/50 [01:06<26:34, 33.23s/it]"
     ]
    },
    {
     "name": "stdout",
     "output_type": "stream",
     "text": [
      "Epoch: 2 | train_loss: 0.6834 | train_acc: 0.5182 | val_loss: 0.6782 | val_acc: 0.8552\n"
     ]
    },
    {
     "name": "stderr",
     "output_type": "stream",
     "text": [
      "  6%|▌         | 3/50 [01:40<26:14, 33.51s/it]"
     ]
    },
    {
     "name": "stdout",
     "output_type": "stream",
     "text": [
      "Epoch: 3 | train_loss: 0.6792 | train_acc: 0.5964 | val_loss: 0.6774 | val_acc: 0.8606\n"
     ]
    },
    {
     "name": "stderr",
     "output_type": "stream",
     "text": [
      "  8%|▊         | 4/50 [02:12<25:30, 33.27s/it]"
     ]
    },
    {
     "name": "stdout",
     "output_type": "stream",
     "text": [
      "Epoch: 4 | train_loss: 0.6817 | train_acc: 0.5443 | val_loss: 0.6763 | val_acc: 0.8570\n"
     ]
    },
    {
     "name": "stderr",
     "output_type": "stream",
     "text": [
      " 10%|█         | 5/50 [02:45<24:52, 33.17s/it]"
     ]
    },
    {
     "name": "stdout",
     "output_type": "stream",
     "text": [
      "Epoch: 5 | train_loss: 0.6737 | train_acc: 0.5964 | val_loss: 0.6749 | val_acc: 0.8546\n"
     ]
    },
    {
     "name": "stderr",
     "output_type": "stream",
     "text": [
      " 12%|█▏        | 6/50 [03:19<24:18, 33.15s/it]"
     ]
    },
    {
     "name": "stdout",
     "output_type": "stream",
     "text": [
      "Epoch: 6 | train_loss: 0.6742 | train_acc: 0.6120 | val_loss: 0.6735 | val_acc: 0.8468\n"
     ]
    },
    {
     "name": "stderr",
     "output_type": "stream",
     "text": [
      " 14%|█▍        | 7/50 [03:51<23:38, 32.99s/it]"
     ]
    },
    {
     "name": "stdout",
     "output_type": "stream",
     "text": [
      "Epoch: 7 | train_loss: 0.6736 | train_acc: 0.5807 | val_loss: 0.6722 | val_acc: 0.8504\n"
     ]
    },
    {
     "name": "stderr",
     "output_type": "stream",
     "text": [
      " 16%|█▌        | 8/50 [04:24<22:59, 32.85s/it]"
     ]
    },
    {
     "name": "stdout",
     "output_type": "stream",
     "text": [
      "Epoch: 8 | train_loss: 0.6728 | train_acc: 0.6120 | val_loss: 0.6708 | val_acc: 0.8612\n"
     ]
    },
    {
     "name": "stderr",
     "output_type": "stream",
     "text": [
      " 18%|█▊        | 9/50 [04:56<22:21, 32.72s/it]"
     ]
    },
    {
     "name": "stdout",
     "output_type": "stream",
     "text": [
      "Epoch: 9 | train_loss: 0.6789 | train_acc: 0.5469 | val_loss: 0.6696 | val_acc: 0.8564\n"
     ]
    },
    {
     "name": "stderr",
     "output_type": "stream",
     "text": [
      " 20%|██        | 10/50 [05:29<21:54, 32.87s/it]"
     ]
    },
    {
     "name": "stdout",
     "output_type": "stream",
     "text": [
      "Epoch: 10 | train_loss: 0.6730 | train_acc: 0.6016 | val_loss: 0.6684 | val_acc: 0.8594\n"
     ]
    },
    {
     "name": "stderr",
     "output_type": "stream",
     "text": [
      " 22%|██▏       | 11/50 [06:03<21:25, 32.97s/it]"
     ]
    },
    {
     "name": "stdout",
     "output_type": "stream",
     "text": [
      "Epoch: 11 | train_loss: 0.6687 | train_acc: 0.6016 | val_loss: 0.6672 | val_acc: 0.8594\n"
     ]
    },
    {
     "name": "stderr",
     "output_type": "stream",
     "text": [
      " 24%|██▍       | 12/50 [06:36<20:55, 33.05s/it]"
     ]
    },
    {
     "name": "stdout",
     "output_type": "stream",
     "text": [
      "Epoch: 12 | train_loss: 0.6706 | train_acc: 0.5677 | val_loss: 0.6660 | val_acc: 0.8588\n"
     ]
    },
    {
     "name": "stderr",
     "output_type": "stream",
     "text": [
      " 26%|██▌       | 13/50 [07:09<20:23, 33.08s/it]"
     ]
    },
    {
     "name": "stdout",
     "output_type": "stream",
     "text": [
      "Epoch: 13 | train_loss: 0.6692 | train_acc: 0.5755 | val_loss: 0.6648 | val_acc: 0.8576\n"
     ]
    },
    {
     "name": "stderr",
     "output_type": "stream",
     "text": [
      " 28%|██▊       | 14/50 [07:42<19:47, 32.98s/it]"
     ]
    },
    {
     "name": "stdout",
     "output_type": "stream",
     "text": [
      "Epoch: 14 | train_loss: 0.6738 | train_acc: 0.5495 | val_loss: 0.6636 | val_acc: 0.8552\n"
     ]
    },
    {
     "name": "stderr",
     "output_type": "stream",
     "text": [
      " 30%|███       | 15/50 [08:15<19:15, 33.02s/it]"
     ]
    },
    {
     "name": "stdout",
     "output_type": "stream",
     "text": [
      "Epoch: 15 | train_loss: 0.6739 | train_acc: 0.5260 | val_loss: 0.6627 | val_acc: 0.8552\n"
     ]
    },
    {
     "name": "stderr",
     "output_type": "stream",
     "text": [
      " 32%|███▏      | 16/50 [08:48<18:41, 32.99s/it]"
     ]
    },
    {
     "name": "stdout",
     "output_type": "stream",
     "text": [
      "Epoch: 16 | train_loss: 0.6704 | train_acc: 0.5599 | val_loss: 0.6617 | val_acc: 0.8600\n"
     ]
    },
    {
     "name": "stderr",
     "output_type": "stream",
     "text": [
      " 34%|███▍      | 17/50 [09:21<18:07, 32.95s/it]"
     ]
    },
    {
     "name": "stdout",
     "output_type": "stream",
     "text": [
      "Epoch: 17 | train_loss: 0.6643 | train_acc: 0.5781 | val_loss: 0.6607 | val_acc: 0.8582\n"
     ]
    },
    {
     "name": "stderr",
     "output_type": "stream",
     "text": [
      " 36%|███▌      | 18/50 [09:53<17:28, 32.77s/it]"
     ]
    },
    {
     "name": "stdout",
     "output_type": "stream",
     "text": [
      "Epoch: 18 | train_loss: 0.6676 | train_acc: 0.5495 | val_loss: 0.6596 | val_acc: 0.8594\n"
     ]
    },
    {
     "name": "stderr",
     "output_type": "stream",
     "text": [
      " 38%|███▊      | 19/50 [10:26<16:53, 32.70s/it]"
     ]
    },
    {
     "name": "stdout",
     "output_type": "stream",
     "text": [
      "Epoch: 19 | train_loss: 0.6681 | train_acc: 0.5417 | val_loss: 0.6586 | val_acc: 0.8576\n"
     ]
    },
    {
     "name": "stderr",
     "output_type": "stream",
     "text": [
      " 40%|████      | 20/50 [10:57<16:13, 32.46s/it]"
     ]
    },
    {
     "name": "stdout",
     "output_type": "stream",
     "text": [
      "Epoch: 20 | train_loss: 0.6695 | train_acc: 0.6016 | val_loss: 0.6576 | val_acc: 0.8582\n"
     ]
    },
    {
     "name": "stderr",
     "output_type": "stream",
     "text": [
      " 42%|████▏     | 21/50 [11:29<15:36, 32.28s/it]"
     ]
    },
    {
     "name": "stdout",
     "output_type": "stream",
     "text": [
      "Epoch: 21 | train_loss: 0.6648 | train_acc: 0.6120 | val_loss: 0.6566 | val_acc: 0.8594\n"
     ]
    },
    {
     "name": "stderr",
     "output_type": "stream",
     "text": [
      " 44%|████▍     | 22/50 [12:01<15:01, 32.21s/it]"
     ]
    },
    {
     "name": "stdout",
     "output_type": "stream",
     "text": [
      "Epoch: 22 | train_loss: 0.6604 | train_acc: 0.5833 | val_loss: 0.6553 | val_acc: 0.8600\n"
     ]
    },
    {
     "name": "stderr",
     "output_type": "stream",
     "text": [
      " 46%|████▌     | 23/50 [12:34<14:34, 32.38s/it]"
     ]
    },
    {
     "name": "stdout",
     "output_type": "stream",
     "text": [
      "Epoch: 23 | train_loss: 0.6649 | train_acc: 0.5911 | val_loss: 0.6542 | val_acc: 0.8654\n"
     ]
    },
    {
     "name": "stderr",
     "output_type": "stream",
     "text": [
      " 48%|████▊     | 24/50 [13:07<14:05, 32.51s/it]"
     ]
    },
    {
     "name": "stdout",
     "output_type": "stream",
     "text": [
      "Epoch: 24 | train_loss: 0.6686 | train_acc: 0.5885 | val_loss: 0.6533 | val_acc: 0.8606\n"
     ]
    },
    {
     "name": "stderr",
     "output_type": "stream",
     "text": [
      " 50%|█████     | 25/50 [13:39<13:29, 32.37s/it]"
     ]
    },
    {
     "name": "stdout",
     "output_type": "stream",
     "text": [
      "Epoch: 25 | train_loss: 0.6557 | train_acc: 0.5964 | val_loss: 0.6524 | val_acc: 0.8606\n"
     ]
    },
    {
     "name": "stderr",
     "output_type": "stream",
     "text": [
      " 52%|█████▏    | 26/50 [14:11<12:53, 32.22s/it]"
     ]
    },
    {
     "name": "stdout",
     "output_type": "stream",
     "text": [
      "Epoch: 26 | train_loss: 0.6722 | train_acc: 0.5443 | val_loss: 0.6515 | val_acc: 0.8600\n"
     ]
    },
    {
     "name": "stderr",
     "output_type": "stream",
     "text": [
      " 54%|█████▍    | 27/50 [14:43<12:18, 32.11s/it]"
     ]
    },
    {
     "name": "stdout",
     "output_type": "stream",
     "text": [
      "Epoch: 27 | train_loss: 0.6643 | train_acc: 0.5833 | val_loss: 0.6507 | val_acc: 0.8642\n"
     ]
    },
    {
     "name": "stderr",
     "output_type": "stream",
     "text": [
      " 56%|█████▌    | 28/50 [15:15<11:45, 32.06s/it]"
     ]
    },
    {
     "name": "stdout",
     "output_type": "stream",
     "text": [
      "Epoch: 28 | train_loss: 0.6572 | train_acc: 0.5990 | val_loss: 0.6496 | val_acc: 0.8606\n"
     ]
    },
    {
     "name": "stderr",
     "output_type": "stream",
     "text": [
      " 58%|█████▊    | 29/50 [15:47<11:12, 32.03s/it]"
     ]
    },
    {
     "name": "stdout",
     "output_type": "stream",
     "text": [
      "Epoch: 29 | train_loss: 0.6674 | train_acc: 0.6172 | val_loss: 0.6488 | val_acc: 0.8594\n"
     ]
    },
    {
     "name": "stderr",
     "output_type": "stream",
     "text": [
      " 60%|██████    | 30/50 [16:19<10:42, 32.11s/it]"
     ]
    },
    {
     "name": "stdout",
     "output_type": "stream",
     "text": [
      "Epoch: 30 | train_loss: 0.6739 | train_acc: 0.5651 | val_loss: 0.6481 | val_acc: 0.8594\n"
     ]
    },
    {
     "name": "stderr",
     "output_type": "stream",
     "text": [
      " 62%|██████▏   | 31/50 [16:52<10:13, 32.27s/it]"
     ]
    },
    {
     "name": "stdout",
     "output_type": "stream",
     "text": [
      "Epoch: 31 | train_loss: 0.6671 | train_acc: 0.5599 | val_loss: 0.6476 | val_acc: 0.8642\n"
     ]
    },
    {
     "name": "stderr",
     "output_type": "stream",
     "text": [
      " 64%|██████▍   | 32/50 [17:24<09:42, 32.36s/it]"
     ]
    },
    {
     "name": "stdout",
     "output_type": "stream",
     "text": [
      "Epoch: 32 | train_loss: 0.6628 | train_acc: 0.5521 | val_loss: 0.6469 | val_acc: 0.8648\n"
     ]
    },
    {
     "name": "stderr",
     "output_type": "stream",
     "text": [
      " 66%|██████▌   | 33/50 [17:56<09:08, 32.25s/it]"
     ]
    },
    {
     "name": "stdout",
     "output_type": "stream",
     "text": [
      "Epoch: 33 | train_loss: 0.6657 | train_acc: 0.6146 | val_loss: 0.6461 | val_acc: 0.8666\n"
     ]
    },
    {
     "name": "stderr",
     "output_type": "stream",
     "text": [
      " 68%|██████▊   | 34/50 [18:28<08:34, 32.13s/it]"
     ]
    },
    {
     "name": "stdout",
     "output_type": "stream",
     "text": [
      "Epoch: 34 | train_loss: 0.6534 | train_acc: 0.5781 | val_loss: 0.6451 | val_acc: 0.8648\n"
     ]
    },
    {
     "name": "stderr",
     "output_type": "stream",
     "text": [
      " 70%|███████   | 35/50 [19:00<08:01, 32.11s/it]"
     ]
    },
    {
     "name": "stdout",
     "output_type": "stream",
     "text": [
      "Epoch: 35 | train_loss: 0.6633 | train_acc: 0.5990 | val_loss: 0.6444 | val_acc: 0.8666\n"
     ]
    },
    {
     "name": "stderr",
     "output_type": "stream",
     "text": [
      " 72%|███████▏  | 36/50 [19:33<07:31, 32.24s/it]"
     ]
    },
    {
     "name": "stdout",
     "output_type": "stream",
     "text": [
      "Epoch: 36 | train_loss: 0.6692 | train_acc: 0.6016 | val_loss: 0.6437 | val_acc: 0.8666\n"
     ]
    },
    {
     "name": "stderr",
     "output_type": "stream",
     "text": [
      " 74%|███████▍  | 37/50 [20:05<06:59, 32.26s/it]"
     ]
    },
    {
     "name": "stdout",
     "output_type": "stream",
     "text": [
      "Epoch: 37 | train_loss: 0.6443 | train_acc: 0.6042 | val_loss: 0.6430 | val_acc: 0.8666\n"
     ]
    },
    {
     "name": "stderr",
     "output_type": "stream",
     "text": [
      " 76%|███████▌  | 38/50 [20:37<06:27, 32.29s/it]"
     ]
    },
    {
     "name": "stdout",
     "output_type": "stream",
     "text": [
      "Epoch: 38 | train_loss: 0.6625 | train_acc: 0.6198 | val_loss: 0.6420 | val_acc: 0.8666\n"
     ]
    },
    {
     "name": "stderr",
     "output_type": "stream",
     "text": [
      " 78%|███████▊  | 39/50 [21:10<05:55, 32.30s/it]"
     ]
    },
    {
     "name": "stdout",
     "output_type": "stream",
     "text": [
      "Epoch: 39 | train_loss: 0.6562 | train_acc: 0.6250 | val_loss: 0.6411 | val_acc: 0.8660\n"
     ]
    },
    {
     "name": "stderr",
     "output_type": "stream",
     "text": [
      " 80%|████████  | 40/50 [21:42<05:23, 32.31s/it]"
     ]
    },
    {
     "name": "stdout",
     "output_type": "stream",
     "text": [
      "Epoch: 40 | train_loss: 0.6661 | train_acc: 0.5964 | val_loss: 0.6403 | val_acc: 0.8612\n"
     ]
    },
    {
     "name": "stderr",
     "output_type": "stream",
     "text": [
      " 82%|████████▏ | 41/50 [22:14<04:50, 32.31s/it]"
     ]
    },
    {
     "name": "stdout",
     "output_type": "stream",
     "text": [
      "Epoch: 41 | train_loss: 0.6550 | train_acc: 0.5729 | val_loss: 0.6396 | val_acc: 0.8660\n"
     ]
    },
    {
     "name": "stderr",
     "output_type": "stream",
     "text": [
      " 84%|████████▍ | 42/50 [22:47<04:18, 32.34s/it]"
     ]
    },
    {
     "name": "stdout",
     "output_type": "stream",
     "text": [
      "Epoch: 42 | train_loss: 0.6526 | train_acc: 0.6380 | val_loss: 0.6389 | val_acc: 0.8678\n"
     ]
    },
    {
     "name": "stderr",
     "output_type": "stream",
     "text": [
      " 86%|████████▌ | 43/50 [23:19<03:46, 32.33s/it]"
     ]
    },
    {
     "name": "stdout",
     "output_type": "stream",
     "text": [
      "Epoch: 43 | train_loss: 0.6606 | train_acc: 0.5938 | val_loss: 0.6379 | val_acc: 0.8666\n"
     ]
    },
    {
     "name": "stderr",
     "output_type": "stream",
     "text": [
      " 88%|████████▊ | 44/50 [23:51<03:13, 32.33s/it]"
     ]
    },
    {
     "name": "stdout",
     "output_type": "stream",
     "text": [
      "Epoch: 44 | train_loss: 0.6710 | train_acc: 0.5677 | val_loss: 0.6374 | val_acc: 0.8666\n"
     ]
    },
    {
     "name": "stderr",
     "output_type": "stream",
     "text": [
      " 90%|█████████ | 45/50 [24:24<02:41, 32.33s/it]"
     ]
    },
    {
     "name": "stdout",
     "output_type": "stream",
     "text": [
      "Epoch: 45 | train_loss: 0.6680 | train_acc: 0.5964 | val_loss: 0.6370 | val_acc: 0.8666\n"
     ]
    },
    {
     "name": "stderr",
     "output_type": "stream",
     "text": [
      " 92%|█████████▏| 46/50 [24:56<02:09, 32.33s/it]"
     ]
    },
    {
     "name": "stdout",
     "output_type": "stream",
     "text": [
      "Epoch: 46 | train_loss: 0.6604 | train_acc: 0.6172 | val_loss: 0.6366 | val_acc: 0.8666\n"
     ]
    },
    {
     "name": "stderr",
     "output_type": "stream",
     "text": [
      " 94%|█████████▍| 47/50 [25:28<01:36, 32.33s/it]"
     ]
    },
    {
     "name": "stdout",
     "output_type": "stream",
     "text": [
      "Epoch: 47 | train_loss: 0.6434 | train_acc: 0.5651 | val_loss: 0.6358 | val_acc: 0.8672\n"
     ]
    },
    {
     "name": "stderr",
     "output_type": "stream",
     "text": [
      " 96%|█████████▌| 48/50 [26:01<01:04, 32.33s/it]"
     ]
    },
    {
     "name": "stdout",
     "output_type": "stream",
     "text": [
      "Epoch: 48 | train_loss: 0.6661 | train_acc: 0.5599 | val_loss: 0.6351 | val_acc: 0.8666\n"
     ]
    },
    {
     "name": "stderr",
     "output_type": "stream",
     "text": [
      " 98%|█████████▊| 49/50 [26:33<00:32, 32.35s/it]"
     ]
    },
    {
     "name": "stdout",
     "output_type": "stream",
     "text": [
      "Epoch: 49 | train_loss: 0.6758 | train_acc: 0.5469 | val_loss: 0.6348 | val_acc: 0.8690\n"
     ]
    },
    {
     "name": "stderr",
     "output_type": "stream",
     "text": [
      "100%|██████████| 50/50 [27:05<00:00, 32.52s/it]"
     ]
    },
    {
     "name": "stdout",
     "output_type": "stream",
     "text": [
      "Epoch: 50 | train_loss: 0.6500 | train_acc: 0.5911 | val_loss: 0.6344 | val_acc: 0.8696\n",
      "Total training time: 1625.872 seconds\n"
     ]
    },
    {
     "name": "stderr",
     "output_type": "stream",
     "text": [
      "\n"
     ]
    }
   ],
   "source": [
    "## These lines take a lot of time; you will load the trained model in the following\n",
    "\n",
    "# Set random seeds\n",
    "torch.manual_seed(42)\n",
    "torch.cuda.manual_seed(42)\n",
    "\n",
    "# Set hyperparameters\n",
    "NUM_EPOCHS = 50\n",
    "PATIENCE = 5\n",
    "MIN_DELTA = 0.001\n",
    "\n",
    "# Setup loss function and optimizer\n",
    "loss_fn = nn.CrossEntropyLoss().to(device)\n",
    "optimizer = torch.optim.Adam(model.parameters(), lr=1e-4, weight_decay=5e-4)\n",
    "\n",
    "# Start the timer\n",
    "from timeit import default_timer as timer\n",
    "\n",
    "start_time = timer()\n",
    "\n",
    "# model = model.to(device)\n",
    "\n",
    "# Train model with early stopping and LR scheduling\n",
    "model_results = train(\n",
    "    model=model,\n",
    "    train_dataloader=train_loader,\n",
    "    val_dataloader=val_loader,\n",
    "    optimizer=optimizer,\n",
    "    loss_fn=loss_fn,\n",
    "    epochs=NUM_EPOCHS,\n",
    "    split=0,\n",
    "    patience=PATIENCE,\n",
    "    min_delta=MIN_DELTA,\n",
    ")\n",
    "\n",
    "# End the timer and print out how long it took\n",
    "end_time = timer()\n",
    "print(f\"Total training time: {end_time-start_time:.3f} seconds\")"
   ]
  },
  {
   "cell_type": "code",
   "execution_count": 55,
   "metadata": {
    "id": "GuhmaOuz-EeT"
   },
   "outputs": [
    {
     "name": "stdout",
     "output_type": "stream",
     "text": [
      "epochs:  range(0, 50)\n"
     ]
    }
   ],
   "source": [
    "## These are the results from the previous step; you will load the results in the following\n",
    "\n",
    "# Extract train and validation loss and accuracy at each epoch\n",
    "results = dict(list(model_results.items()))\n",
    "\n",
    "# Get the loss values of the results dictionary (training and validation)\n",
    "train_loss = results[\"train_loss\"]\n",
    "val_loss = results[\"val_loss\"]\n",
    "\n",
    "# Get the accuracy values of the results dictionary (training and validation)\n",
    "train_acc = results[\"train_acc\"]\n",
    "val_acc = results[\"val_acc\"]\n",
    "\n",
    "# Figure out how many epochs there were\n",
    "epochs = range(len(results[\"train_loss\"]))\n",
    "print(\"epochs: \", epochs)"
   ]
  },
  {
   "cell_type": "code",
   "execution_count": 56,
   "metadata": {
    "id": "S3H46hiU-EeT"
   },
   "outputs": [
    {
     "name": "stdout",
     "output_type": "stream",
     "text": [
      "df:      train_loss  val_loss  train_acc   val_acc  epochs\n",
      "0     0.677010  0.678645   0.591146  0.857572       0\n",
      "1     0.683444  0.678195   0.518229  0.855168       1\n",
      "2     0.679160  0.677350   0.596354  0.860577       2\n",
      "3     0.681666  0.676275   0.544271  0.856971       3\n",
      "4     0.673719  0.674937   0.596354  0.854567       4\n",
      "5     0.674240  0.673510   0.611979  0.846755       5\n",
      "6     0.673617  0.672176   0.580729  0.850361       6\n",
      "7     0.672758  0.670815   0.611979  0.861178       7\n",
      "8     0.678923  0.669582   0.546875  0.856370       8\n",
      "9     0.673013  0.668444   0.601562  0.859375       9\n",
      "10    0.668703  0.667202   0.601562  0.859375      10\n",
      "11    0.670550  0.666042   0.567708  0.858774      11\n",
      "12    0.669250  0.664785   0.575521  0.857572      12\n",
      "13    0.673792  0.663605   0.549479  0.855168      13\n",
      "14    0.673888  0.662701   0.526042  0.855168      14\n",
      "15    0.670378  0.661724   0.559896  0.859976      15\n",
      "16    0.664343  0.660710   0.578125  0.858173      16\n",
      "17    0.667644  0.659617   0.549479  0.859375      17\n",
      "18    0.668063  0.658593   0.541667  0.857572      18\n",
      "19    0.669494  0.657554   0.601562  0.858173      19\n",
      "20    0.664809  0.656563   0.611979  0.859375      20\n",
      "21    0.660445  0.655283   0.583333  0.859976      21\n",
      "22    0.664906  0.654220   0.591146  0.865385      22\n",
      "23    0.668552  0.653346   0.588542  0.860577      23\n",
      "24    0.655734  0.652434   0.596354  0.860577      24\n",
      "25    0.672222  0.651541   0.544271  0.859976      25\n",
      "26    0.664350  0.650716   0.583333  0.864183      26\n",
      "27    0.657223  0.649611   0.598958  0.860577      27\n",
      "28    0.667400  0.648830   0.617188  0.859375      28\n",
      "29    0.673918  0.648086   0.565104  0.859375      29\n",
      "30    0.667061  0.647592   0.559896  0.864183      30\n",
      "31    0.662763  0.646929   0.552083  0.864784      31\n",
      "32    0.665694  0.646096   0.614583  0.866587      32\n",
      "33    0.653429  0.645135   0.578125  0.864784      33\n",
      "34    0.663298  0.644421   0.598958  0.866587      34\n",
      "35    0.669171  0.643724   0.601562  0.866587      35\n",
      "36    0.644250  0.642970   0.604167  0.866587      36\n",
      "37    0.662533  0.641971   0.619792  0.866587      37\n",
      "38    0.656237  0.641125   0.625000  0.865986      38\n",
      "39    0.666146  0.640298   0.596354  0.861178      39\n",
      "40    0.654999  0.639635   0.572917  0.865986      40\n",
      "41    0.652648  0.638865   0.638021  0.867788      41\n",
      "42    0.660604  0.637935   0.593750  0.866587      42\n",
      "43    0.671039  0.637388   0.567708  0.866587      43\n",
      "44    0.668041  0.637047   0.596354  0.866587      44\n",
      "45    0.660449  0.636562   0.617188  0.866587      45\n",
      "46    0.643405  0.635841   0.565104  0.867188      46\n",
      "47    0.666141  0.635138   0.559896  0.866587      47\n",
      "48    0.675796  0.634833   0.546875  0.868990      48\n",
      "49    0.649958  0.634396   0.591146  0.869591      49\n"
     ]
    }
   ],
   "source": [
    "## Save results in a csv\n",
    "results_df = pd.DataFrame(\n",
    "    columns=[\"train_loss\", \"val_loss\", \"train_acc\", \"val_acc\", \"epochs\"]\n",
    ")\n",
    "results_df[\"train_loss\"] = train_loss\n",
    "results_df[\"val_loss\"] = val_loss\n",
    "results_df[\"train_acc\"] = train_acc\n",
    "results_df[\"val_acc\"] = val_acc\n",
    "results_df[\"epochs\"] = epochs\n",
    "results_df_name = basedir + \"results_df_\" + str(0) + \".csv\"\n",
    "results_df.to_csv(results_df_name)\n",
    "\n",
    "print(\"df: \", results_df)"
   ]
  },
  {
   "cell_type": "code",
   "execution_count": 57,
   "metadata": {
    "id": "EstiMabR5qE6"
   },
   "outputs": [],
   "source": [
    "results_from_csv = pd.read_csv(basedir + \"results_df_0.csv\")"
   ]
  },
  {
   "cell_type": "code",
   "execution_count": 58,
   "metadata": {
    "id": "E4cp0lgH5yTS"
   },
   "outputs": [
    {
     "data": {
      "text/plain": [
       "<matplotlib.legend.Legend at 0x7dba09f98390>"
      ]
     },
     "execution_count": 58,
     "metadata": {},
     "output_type": "execute_result"
    },
    {
     "data": {
      "image/png": "[encoded data removed]",
      "text/plain": [
       "<Figure size 1500x700 with 2 Axes>"
      ]
     },
     "metadata": {},
     "output_type": "display_data"
    }
   ],
   "source": [
    "# Setup a plot\n",
    "plt.figure(figsize=(15, 7))\n",
    "\n",
    "# Plot loss\n",
    "plt.subplot(1, 2, 1)\n",
    "plt.plot(results_from_csv[\"epochs\"], results_from_csv[\"train_loss\"], label=\"train_loss\")\n",
    "plt.plot(results_from_csv[\"epochs\"], results_from_csv[\"val_loss\"], label=\"val_loss\")\n",
    "plt.title(\"Loss\")\n",
    "plt.xlabel(\"Epochs\")\n",
    "plt.legend()\n",
    "\n",
    "# Plot accuracy\n",
    "plt.subplot(1, 2, 2)\n",
    "plt.plot(\n",
    "    results_from_csv[\"epochs\"], results_from_csv[\"train_acc\"], label=\"train_accuracy\"\n",
    ")\n",
    "plt.plot(results_from_csv[\"epochs\"], results_from_csv[\"val_acc\"], label=\"val_accuracy\")\n",
    "plt.title(\"Accuracy\")\n",
    "plt.xlabel(\"Epochs\")\n",
    "plt.legend()"
   ]
  },
  {
   "cell_type": "code",
   "execution_count": 59,
   "metadata": {
    "id": "ofLE8ma56TJD"
   },
   "outputs": [
    {
     "name": "stderr",
     "output_type": "stream",
     "text": [
      "  2%|▏         | 1/50 [00:32<26:36, 32.57s/it]"
     ]
    },
    {
     "name": "stdout",
     "output_type": "stream",
     "text": [
      "Epoch: 1 | train_loss: 0.6660 | train_acc: 0.5938 | val_loss: 0.6346 | val_acc: 0.8720\n"
     ]
    },
    {
     "name": "stderr",
     "output_type": "stream",
     "text": [
      "  4%|▍         | 2/50 [01:04<25:56, 32.42s/it]"
     ]
    },
    {
     "name": "stdout",
     "output_type": "stream",
     "text": [
      "Epoch: 2 | train_loss: 0.6649 | train_acc: 0.5521 | val_loss: 0.6345 | val_acc: 0.8720\n"
     ]
    },
    {
     "name": "stderr",
     "output_type": "stream",
     "text": [
      "  6%|▌         | 3/50 [01:37<25:21, 32.37s/it]"
     ]
    },
    {
     "name": "stdout",
     "output_type": "stream",
     "text": [
      "Epoch: 3 | train_loss: 0.6438 | train_acc: 0.6094 | val_loss: 0.6339 | val_acc: 0.8720\n"
     ]
    },
    {
     "name": "stderr",
     "output_type": "stream",
     "text": [
      "  8%|▊         | 4/50 [02:09<24:48, 32.35s/it]"
     ]
    },
    {
     "name": "stdout",
     "output_type": "stream",
     "text": [
      "Epoch: 4 | train_loss: 0.6497 | train_acc: 0.6328 | val_loss: 0.6330 | val_acc: 0.8714\n"
     ]
    },
    {
     "name": "stderr",
     "output_type": "stream",
     "text": [
      " 10%|█         | 5/50 [02:41<24:15, 32.34s/it]"
     ]
    },
    {
     "name": "stdout",
     "output_type": "stream",
     "text": [
      "Epoch: 5 | train_loss: 0.6647 | train_acc: 0.5990 | val_loss: 0.6324 | val_acc: 0.8714\n"
     ]
    },
    {
     "name": "stderr",
     "output_type": "stream",
     "text": [
      " 12%|█▏        | 6/50 [03:14<23:42, 32.33s/it]"
     ]
    },
    {
     "name": "stdout",
     "output_type": "stream",
     "text": [
      "Epoch: 6 | train_loss: 0.6558 | train_acc: 0.5885 | val_loss: 0.6320 | val_acc: 0.8720\n"
     ]
    },
    {
     "name": "stderr",
     "output_type": "stream",
     "text": [
      " 14%|█▍        | 7/50 [03:46<23:10, 32.33s/it]"
     ]
    },
    {
     "name": "stdout",
     "output_type": "stream",
     "text": [
      "Epoch: 7 | train_loss: 0.6563 | train_acc: 0.5938 | val_loss: 0.6314 | val_acc: 0.8714\n"
     ]
    },
    {
     "name": "stderr",
     "output_type": "stream",
     "text": [
      " 16%|█▌        | 8/50 [04:18<22:37, 32.33s/it]"
     ]
    },
    {
     "name": "stdout",
     "output_type": "stream",
     "text": [
      "Epoch: 8 | train_loss: 0.6610 | train_acc: 0.5885 | val_loss: 0.6308 | val_acc: 0.8720\n"
     ]
    },
    {
     "name": "stderr",
     "output_type": "stream",
     "text": [
      " 18%|█▊        | 9/50 [04:51<22:05, 32.33s/it]"
     ]
    },
    {
     "name": "stdout",
     "output_type": "stream",
     "text": [
      "Epoch: 9 | train_loss: 0.6550 | train_acc: 0.6016 | val_loss: 0.6304 | val_acc: 0.8708\n"
     ]
    },
    {
     "name": "stderr",
     "output_type": "stream",
     "text": [
      " 20%|██        | 10/50 [05:23<21:32, 32.32s/it]"
     ]
    },
    {
     "name": "stdout",
     "output_type": "stream",
     "text": [
      "Epoch: 10 | train_loss: 0.6528 | train_acc: 0.6484 | val_loss: 0.6298 | val_acc: 0.8714\n"
     ]
    },
    {
     "name": "stderr",
     "output_type": "stream",
     "text": [
      " 22%|██▏       | 11/50 [05:55<21:01, 32.35s/it]"
     ]
    },
    {
     "name": "stdout",
     "output_type": "stream",
     "text": [
      "Epoch: 11 | train_loss: 0.6629 | train_acc: 0.5964 | val_loss: 0.6295 | val_acc: 0.8726\n"
     ]
    },
    {
     "name": "stderr",
     "output_type": "stream",
     "text": [
      " 24%|██▍       | 12/50 [06:28<20:28, 32.34s/it]"
     ]
    },
    {
     "name": "stdout",
     "output_type": "stream",
     "text": [
      "Epoch: 12 | train_loss: 0.6579 | train_acc: 0.6328 | val_loss: 0.6290 | val_acc: 0.8714\n"
     ]
    },
    {
     "name": "stderr",
     "output_type": "stream",
     "text": [
      " 26%|██▌       | 13/50 [07:00<19:56, 32.33s/it]"
     ]
    },
    {
     "name": "stdout",
     "output_type": "stream",
     "text": [
      "Epoch: 13 | train_loss: 0.6454 | train_acc: 0.6250 | val_loss: 0.6282 | val_acc: 0.8720\n"
     ]
    },
    {
     "name": "stderr",
     "output_type": "stream",
     "text": [
      " 28%|██▊       | 14/50 [07:32<19:23, 32.33s/it]"
     ]
    },
    {
     "name": "stdout",
     "output_type": "stream",
     "text": [
      "Epoch: 14 | train_loss: 0.6386 | train_acc: 0.6458 | val_loss: 0.6275 | val_acc: 0.8720\n"
     ]
    },
    {
     "name": "stderr",
     "output_type": "stream",
     "text": [
      " 30%|███       | 15/50 [08:05<18:51, 32.33s/it]"
     ]
    },
    {
     "name": "stdout",
     "output_type": "stream",
     "text": [
      "Epoch: 15 | train_loss: 0.6607 | train_acc: 0.6016 | val_loss: 0.6268 | val_acc: 0.8714\n"
     ]
    },
    {
     "name": "stderr",
     "output_type": "stream",
     "text": [
      " 32%|███▏      | 16/50 [08:37<18:19, 32.33s/it]"
     ]
    },
    {
     "name": "stdout",
     "output_type": "stream",
     "text": [
      "Epoch: 16 | train_loss: 0.6605 | train_acc: 0.6042 | val_loss: 0.6264 | val_acc: 0.8714\n"
     ]
    },
    {
     "name": "stderr",
     "output_type": "stream",
     "text": [
      " 34%|███▍      | 17/50 [09:09<17:46, 32.32s/it]"
     ]
    },
    {
     "name": "stdout",
     "output_type": "stream",
     "text": [
      "Epoch: 17 | train_loss: 0.6589 | train_acc: 0.5833 | val_loss: 0.6260 | val_acc: 0.8714\n"
     ]
    },
    {
     "name": "stderr",
     "output_type": "stream",
     "text": [
      " 36%|███▌      | 18/50 [09:42<17:14, 32.32s/it]"
     ]
    },
    {
     "name": "stdout",
     "output_type": "stream",
     "text": [
      "Epoch: 18 | train_loss: 0.6429 | train_acc: 0.6276 | val_loss: 0.6254 | val_acc: 0.8714\n"
     ]
    },
    {
     "name": "stderr",
     "output_type": "stream",
     "text": [
      " 38%|███▊      | 19/50 [10:14<16:42, 32.33s/it]"
     ]
    },
    {
     "name": "stdout",
     "output_type": "stream",
     "text": [
      "Epoch: 19 | train_loss: 0.6515 | train_acc: 0.6276 | val_loss: 0.6249 | val_acc: 0.8738\n"
     ]
    },
    {
     "name": "stderr",
     "output_type": "stream",
     "text": [
      " 40%|████      | 20/50 [10:46<16:09, 32.33s/it]"
     ]
    },
    {
     "name": "stdout",
     "output_type": "stream",
     "text": [
      "Epoch: 20 | train_loss: 0.6402 | train_acc: 0.6302 | val_loss: 0.6241 | val_acc: 0.8732\n"
     ]
    },
    {
     "name": "stderr",
     "output_type": "stream",
     "text": [
      " 42%|████▏     | 21/50 [11:19<15:37, 32.33s/it]"
     ]
    },
    {
     "name": "stdout",
     "output_type": "stream",
     "text": [
      "Epoch: 21 | train_loss: 0.6387 | train_acc: 0.6328 | val_loss: 0.6234 | val_acc: 0.8732\n"
     ]
    },
    {
     "name": "stderr",
     "output_type": "stream",
     "text": [
      " 44%|████▍     | 22/50 [11:51<15:04, 32.30s/it]"
     ]
    },
    {
     "name": "stdout",
     "output_type": "stream",
     "text": [
      "Epoch: 22 | train_loss: 0.6432 | train_acc: 0.6094 | val_loss: 0.6226 | val_acc: 0.8732\n"
     ]
    },
    {
     "name": "stderr",
     "output_type": "stream",
     "text": [
      " 46%|████▌     | 23/50 [12:23<14:34, 32.39s/it]"
     ]
    },
    {
     "name": "stdout",
     "output_type": "stream",
     "text": [
      "Epoch: 23 | train_loss: 0.6400 | train_acc: 0.5990 | val_loss: 0.6219 | val_acc: 0.8720\n"
     ]
    },
    {
     "name": "stderr",
     "output_type": "stream",
     "text": [
      " 48%|████▊     | 24/50 [12:56<14:03, 32.44s/it]"
     ]
    },
    {
     "name": "stdout",
     "output_type": "stream",
     "text": [
      "Epoch: 24 | train_loss: 0.6509 | train_acc: 0.6354 | val_loss: 0.6212 | val_acc: 0.8726\n"
     ]
    },
    {
     "name": "stderr",
     "output_type": "stream",
     "text": [
      " 50%|█████     | 25/50 [13:28<13:30, 32.42s/it]"
     ]
    },
    {
     "name": "stdout",
     "output_type": "stream",
     "text": [
      "Epoch: 25 | train_loss: 0.6450 | train_acc: 0.5885 | val_loss: 0.6207 | val_acc: 0.8714\n"
     ]
    },
    {
     "name": "stderr",
     "output_type": "stream",
     "text": [
      " 52%|█████▏    | 26/50 [14:01<12:57, 32.41s/it]"
     ]
    },
    {
     "name": "stdout",
     "output_type": "stream",
     "text": [
      "Epoch: 26 | train_loss: 0.6583 | train_acc: 0.5677 | val_loss: 0.6203 | val_acc: 0.8714\n"
     ]
    },
    {
     "name": "stderr",
     "output_type": "stream",
     "text": [
      " 54%|█████▍    | 27/50 [14:33<12:24, 32.39s/it]"
     ]
    },
    {
     "name": "stdout",
     "output_type": "stream",
     "text": [
      "Epoch: 27 | train_loss: 0.6556 | train_acc: 0.6224 | val_loss: 0.6201 | val_acc: 0.8714\n"
     ]
    },
    {
     "name": "stderr",
     "output_type": "stream",
     "text": [
      " 56%|█████▌    | 28/50 [15:06<11:52, 32.40s/it]"
     ]
    },
    {
     "name": "stdout",
     "output_type": "stream",
     "text": [
      "Epoch: 28 | train_loss: 0.6468 | train_acc: 0.6120 | val_loss: 0.6197 | val_acc: 0.8714\n"
     ]
    },
    {
     "name": "stderr",
     "output_type": "stream",
     "text": [
      " 58%|█████▊    | 29/50 [15:38<11:23, 32.54s/it]"
     ]
    },
    {
     "name": "stdout",
     "output_type": "stream",
     "text": [
      "Epoch: 29 | train_loss: 0.6445 | train_acc: 0.6432 | val_loss: 0.6191 | val_acc: 0.8714\n"
     ]
    },
    {
     "name": "stderr",
     "output_type": "stream",
     "text": [
      " 60%|██████    | 30/50 [16:11<10:52, 32.63s/it]"
     ]
    },
    {
     "name": "stdout",
     "output_type": "stream",
     "text": [
      "Epoch: 30 | train_loss: 0.6598 | train_acc: 0.6406 | val_loss: 0.6186 | val_acc: 0.8714\n"
     ]
    },
    {
     "name": "stderr",
     "output_type": "stream",
     "text": [
      " 62%|██████▏   | 31/50 [16:44<10:18, 32.57s/it]"
     ]
    },
    {
     "name": "stdout",
     "output_type": "stream",
     "text": [
      "Epoch: 31 | train_loss: 0.6445 | train_acc: 0.6302 | val_loss: 0.6181 | val_acc: 0.8714\n"
     ]
    },
    {
     "name": "stderr",
     "output_type": "stream",
     "text": [
      " 64%|██████▍   | 32/50 [17:16<09:44, 32.49s/it]"
     ]
    },
    {
     "name": "stdout",
     "output_type": "stream",
     "text": [
      "Epoch: 32 | train_loss: 0.6553 | train_acc: 0.6146 | val_loss: 0.6177 | val_acc: 0.8714\n"
     ]
    },
    {
     "name": "stderr",
     "output_type": "stream",
     "text": [
      " 66%|██████▌   | 33/50 [17:48<09:11, 32.44s/it]"
     ]
    },
    {
     "name": "stdout",
     "output_type": "stream",
     "text": [
      "Epoch: 33 | train_loss: 0.6403 | train_acc: 0.5964 | val_loss: 0.6174 | val_acc: 0.8732\n"
     ]
    },
    {
     "name": "stderr",
     "output_type": "stream",
     "text": [
      " 68%|██████▊   | 34/50 [18:21<08:38, 32.39s/it]"
     ]
    },
    {
     "name": "stdout",
     "output_type": "stream",
     "text": [
      "Epoch: 34 | train_loss: 0.6474 | train_acc: 0.6172 | val_loss: 0.6168 | val_acc: 0.8726\n"
     ]
    },
    {
     "name": "stderr",
     "output_type": "stream",
     "text": [
      " 70%|███████   | 35/50 [18:53<08:05, 32.35s/it]"
     ]
    },
    {
     "name": "stdout",
     "output_type": "stream",
     "text": [
      "Epoch: 35 | train_loss: 0.6580 | train_acc: 0.5807 | val_loss: 0.6164 | val_acc: 0.8720\n"
     ]
    },
    {
     "name": "stderr",
     "output_type": "stream",
     "text": [
      " 72%|███████▏  | 36/50 [19:25<07:33, 32.40s/it]"
     ]
    },
    {
     "name": "stdout",
     "output_type": "stream",
     "text": [
      "Epoch: 36 | train_loss: 0.6442 | train_acc: 0.6016 | val_loss: 0.6163 | val_acc: 0.8708\n"
     ]
    },
    {
     "name": "stderr",
     "output_type": "stream",
     "text": [
      " 74%|███████▍  | 37/50 [19:58<07:00, 32.38s/it]"
     ]
    },
    {
     "name": "stdout",
     "output_type": "stream",
     "text": [
      "Epoch: 37 | train_loss: 0.6389 | train_acc: 0.6276 | val_loss: 0.6156 | val_acc: 0.8714\n"
     ]
    },
    {
     "name": "stderr",
     "output_type": "stream",
     "text": [
      " 76%|███████▌  | 38/50 [20:30<06:28, 32.38s/it]"
     ]
    },
    {
     "name": "stdout",
     "output_type": "stream",
     "text": [
      "Epoch: 38 | train_loss: 0.6427 | train_acc: 0.6120 | val_loss: 0.6149 | val_acc: 0.8714\n"
     ]
    },
    {
     "name": "stderr",
     "output_type": "stream",
     "text": [
      " 78%|███████▊  | 39/50 [21:02<05:56, 32.39s/it]"
     ]
    },
    {
     "name": "stdout",
     "output_type": "stream",
     "text": [
      "Epoch: 39 | train_loss: 0.6492 | train_acc: 0.5911 | val_loss: 0.6144 | val_acc: 0.8708\n"
     ]
    },
    {
     "name": "stderr",
     "output_type": "stream",
     "text": [
      " 80%|████████  | 40/50 [21:35<05:23, 32.39s/it]"
     ]
    },
    {
     "name": "stdout",
     "output_type": "stream",
     "text": [
      "Epoch: 40 | train_loss: 0.6420 | train_acc: 0.6328 | val_loss: 0.6139 | val_acc: 0.8714\n"
     ]
    },
    {
     "name": "stderr",
     "output_type": "stream",
     "text": [
      " 82%|████████▏ | 41/50 [22:07<04:52, 32.46s/it]"
     ]
    },
    {
     "name": "stdout",
     "output_type": "stream",
     "text": [
      "Epoch: 41 | train_loss: 0.6567 | train_acc: 0.6198 | val_loss: 0.6136 | val_acc: 0.8714\n"
     ]
    },
    {
     "name": "stderr",
     "output_type": "stream",
     "text": [
      " 84%|████████▍ | 42/50 [22:38<04:15, 31.95s/it]"
     ]
    },
    {
     "name": "stdout",
     "output_type": "stream",
     "text": [
      "Epoch: 42 | train_loss: 0.6599 | train_acc: 0.5573 | val_loss: 0.6133 | val_acc: 0.8702\n"
     ]
    },
    {
     "name": "stderr",
     "output_type": "stream",
     "text": [
      " 86%|████████▌ | 43/50 [23:07<03:37, 31.02s/it]"
     ]
    },
    {
     "name": "stdout",
     "output_type": "stream",
     "text": [
      "Epoch: 43 | train_loss: 0.6465 | train_acc: 0.6172 | val_loss: 0.6131 | val_acc: 0.8708\n"
     ]
    },
    {
     "name": "stderr",
     "output_type": "stream",
     "text": [
      " 88%|████████▊ | 44/50 [23:36<03:02, 30.37s/it]"
     ]
    },
    {
     "name": "stdout",
     "output_type": "stream",
     "text": [
      "Epoch: 44 | train_loss: 0.6568 | train_acc: 0.5833 | val_loss: 0.6127 | val_acc: 0.8708\n"
     ]
    },
    {
     "name": "stderr",
     "output_type": "stream",
     "text": [
      " 90%|█████████ | 45/50 [24:07<02:32, 30.57s/it]"
     ]
    },
    {
     "name": "stdout",
     "output_type": "stream",
     "text": [
      "Epoch: 45 | train_loss: 0.6760 | train_acc: 0.5703 | val_loss: 0.6126 | val_acc: 0.8708\n"
     ]
    },
    {
     "name": "stderr",
     "output_type": "stream",
     "text": [
      " 92%|█████████▏| 46/50 [24:40<02:05, 31.34s/it]"
     ]
    },
    {
     "name": "stdout",
     "output_type": "stream",
     "text": [
      "Epoch: 46 | train_loss: 0.6373 | train_acc: 0.6094 | val_loss: 0.6125 | val_acc: 0.8690\n"
     ]
    },
    {
     "name": "stderr",
     "output_type": "stream",
     "text": [
      " 94%|█████████▍| 47/50 [25:13<01:35, 31.88s/it]"
     ]
    },
    {
     "name": "stdout",
     "output_type": "stream",
     "text": [
      "Epoch: 47 | train_loss: 0.6566 | train_acc: 0.6016 | val_loss: 0.6121 | val_acc: 0.8690\n"
     ]
    },
    {
     "name": "stderr",
     "output_type": "stream",
     "text": [
      " 96%|█████████▌| 48/50 [25:46<01:04, 32.20s/it]"
     ]
    },
    {
     "name": "stdout",
     "output_type": "stream",
     "text": [
      "Epoch: 48 | train_loss: 0.6472 | train_acc: 0.6042 | val_loss: 0.6118 | val_acc: 0.8696\n"
     ]
    },
    {
     "name": "stderr",
     "output_type": "stream",
     "text": [
      " 98%|█████████▊| 49/50 [26:18<00:32, 32.22s/it]"
     ]
    },
    {
     "name": "stdout",
     "output_type": "stream",
     "text": [
      "Epoch: 49 | train_loss: 0.6588 | train_acc: 0.6068 | val_loss: 0.6115 | val_acc: 0.8696\n"
     ]
    },
    {
     "name": "stderr",
     "output_type": "stream",
     "text": [
      "100%|██████████| 50/50 [26:51<00:00, 32.23s/it]\n"
     ]
    },
    {
     "name": "stdout",
     "output_type": "stream",
     "text": [
      "Epoch: 50 | train_loss: 0.6423 | train_acc: 0.6172 | val_loss: 0.6111 | val_acc: 0.8702\n",
      "Total training time for split 1: 1611.309 seconds\n"
     ]
    },
    {
     "name": "stderr",
     "output_type": "stream",
     "text": [
      "  2%|▏         | 1/50 [00:32<26:37, 32.60s/it]"
     ]
    },
    {
     "name": "stdout",
     "output_type": "stream",
     "text": [
      "Epoch: 1 | train_loss: 0.6453 | train_acc: 0.5938 | val_loss: 0.6109 | val_acc: 0.8684\n"
     ]
    },
    {
     "name": "stderr",
     "output_type": "stream",
     "text": [
      "  4%|▍         | 2/50 [01:04<25:58, 32.47s/it]"
     ]
    },
    {
     "name": "stdout",
     "output_type": "stream",
     "text": [
      "Epoch: 2 | train_loss: 0.6712 | train_acc: 0.5938 | val_loss: 0.6110 | val_acc: 0.8684\n"
     ]
    },
    {
     "name": "stderr",
     "output_type": "stream",
     "text": [
      "  6%|▌         | 3/50 [01:37<25:26, 32.47s/it]"
     ]
    },
    {
     "name": "stdout",
     "output_type": "stream",
     "text": [
      "Epoch: 3 | train_loss: 0.6314 | train_acc: 0.6484 | val_loss: 0.6109 | val_acc: 0.8678\n"
     ]
    },
    {
     "name": "stderr",
     "output_type": "stream",
     "text": [
      "  8%|▊         | 4/50 [02:10<25:06, 32.74s/it]"
     ]
    },
    {
     "name": "stdout",
     "output_type": "stream",
     "text": [
      "Epoch: 4 | train_loss: 0.6428 | train_acc: 0.6172 | val_loss: 0.6105 | val_acc: 0.8678\n"
     ]
    },
    {
     "name": "stderr",
     "output_type": "stream",
     "text": [
      " 10%|█         | 5/50 [02:43<24:37, 32.84s/it]"
     ]
    },
    {
     "name": "stdout",
     "output_type": "stream",
     "text": [
      "Epoch: 5 | train_loss: 0.6520 | train_acc: 0.5833 | val_loss: 0.6100 | val_acc: 0.8678\n"
     ]
    },
    {
     "name": "stderr",
     "output_type": "stream",
     "text": [
      " 12%|█▏        | 6/50 [03:16<24:01, 32.75s/it]"
     ]
    },
    {
     "name": "stdout",
     "output_type": "stream",
     "text": [
      "Epoch: 6 | train_loss: 0.6587 | train_acc: 0.5755 | val_loss: 0.6098 | val_acc: 0.8678\n"
     ]
    },
    {
     "name": "stderr",
     "output_type": "stream",
     "text": [
      " 14%|█▍        | 7/50 [03:48<23:21, 32.59s/it]"
     ]
    },
    {
     "name": "stdout",
     "output_type": "stream",
     "text": [
      "Epoch: 7 | train_loss: 0.6539 | train_acc: 0.6016 | val_loss: 0.6097 | val_acc: 0.8666\n"
     ]
    },
    {
     "name": "stderr",
     "output_type": "stream",
     "text": [
      " 16%|█▌        | 8/50 [04:20<22:46, 32.55s/it]"
     ]
    },
    {
     "name": "stdout",
     "output_type": "stream",
     "text": [
      "Epoch: 8 | train_loss: 0.6483 | train_acc: 0.6068 | val_loss: 0.6097 | val_acc: 0.8678\n"
     ]
    },
    {
     "name": "stderr",
     "output_type": "stream",
     "text": [
      " 18%|█▊        | 9/50 [04:53<22:16, 32.59s/it]"
     ]
    },
    {
     "name": "stdout",
     "output_type": "stream",
     "text": [
      "Epoch: 9 | train_loss: 0.6390 | train_acc: 0.6172 | val_loss: 0.6092 | val_acc: 0.8672\n"
     ]
    },
    {
     "name": "stderr",
     "output_type": "stream",
     "text": [
      " 20%|██        | 10/50 [05:26<21:43, 32.58s/it]"
     ]
    },
    {
     "name": "stdout",
     "output_type": "stream",
     "text": [
      "Epoch: 10 | train_loss: 0.6681 | train_acc: 0.5833 | val_loss: 0.6089 | val_acc: 0.8666\n"
     ]
    },
    {
     "name": "stderr",
     "output_type": "stream",
     "text": [
      " 20%|██        | 10/50 [05:58<23:54, 35.86s/it]\n"
     ]
    },
    {
     "name": "stdout",
     "output_type": "stream",
     "text": [
      "Epoch: 11 | train_loss: 0.6462 | train_acc: 0.5755 | val_loss: 0.6090 | val_acc: 0.8666\n",
      "Early stopping triggered after 11 epochs\n",
      "Total training time for split 2: 358.591 seconds\n"
     ]
    },
    {
     "name": "stderr",
     "output_type": "stream",
     "text": [
      "  2%|▏         | 1/50 [00:33<27:10, 33.27s/it]"
     ]
    },
    {
     "name": "stdout",
     "output_type": "stream",
     "text": [
      "Epoch: 1 | train_loss: 0.6181 | train_acc: 0.6224 | val_loss: 0.6103 | val_acc: 0.8618\n"
     ]
    },
    {
     "name": "stderr",
     "output_type": "stream",
     "text": [
      "  4%|▍         | 2/50 [01:06<26:33, 33.20s/it]"
     ]
    },
    {
     "name": "stdout",
     "output_type": "stream",
     "text": [
      "Epoch: 2 | train_loss: 0.6672 | train_acc: 0.5651 | val_loss: 0.6102 | val_acc: 0.8612\n"
     ]
    },
    {
     "name": "stderr",
     "output_type": "stream",
     "text": [
      "  6%|▌         | 3/50 [01:39<25:59, 33.18s/it]"
     ]
    },
    {
     "name": "stdout",
     "output_type": "stream",
     "text": [
      "Epoch: 3 | train_loss: 0.6384 | train_acc: 0.6198 | val_loss: 0.6100 | val_acc: 0.8618\n"
     ]
    },
    {
     "name": "stderr",
     "output_type": "stream",
     "text": [
      "  8%|▊         | 4/50 [02:12<25:27, 33.21s/it]"
     ]
    },
    {
     "name": "stdout",
     "output_type": "stream",
     "text": [
      "Epoch: 4 | train_loss: 0.6402 | train_acc: 0.5964 | val_loss: 0.6098 | val_acc: 0.8612\n"
     ]
    },
    {
     "name": "stderr",
     "output_type": "stream",
     "text": [
      " 10%|█         | 5/50 [02:45<24:47, 33.07s/it]"
     ]
    },
    {
     "name": "stdout",
     "output_type": "stream",
     "text": [
      "Epoch: 5 | train_loss: 0.6382 | train_acc: 0.6094 | val_loss: 0.6092 | val_acc: 0.8618\n"
     ]
    },
    {
     "name": "stderr",
     "output_type": "stream",
     "text": [
      " 12%|█▏        | 6/50 [03:18<24:05, 32.84s/it]"
     ]
    },
    {
     "name": "stdout",
     "output_type": "stream",
     "text": [
      "Epoch: 6 | train_loss: 0.6560 | train_acc: 0.5859 | val_loss: 0.6088 | val_acc: 0.8618\n"
     ]
    },
    {
     "name": "stderr",
     "output_type": "stream",
     "text": [
      " 14%|█▍        | 7/50 [03:51<23:34, 32.91s/it]"
     ]
    },
    {
     "name": "stdout",
     "output_type": "stream",
     "text": [
      "Epoch: 7 | train_loss: 0.6489 | train_acc: 0.6146 | val_loss: 0.6086 | val_acc: 0.8618\n"
     ]
    },
    {
     "name": "stderr",
     "output_type": "stream",
     "text": [
      " 16%|█▌        | 8/50 [04:24<23:03, 32.94s/it]"
     ]
    },
    {
     "name": "stdout",
     "output_type": "stream",
     "text": [
      "Epoch: 8 | train_loss: 0.6326 | train_acc: 0.6354 | val_loss: 0.6080 | val_acc: 0.8612\n"
     ]
    },
    {
     "name": "stderr",
     "output_type": "stream",
     "text": [
      " 18%|█▊        | 9/50 [04:56<22:28, 32.88s/it]"
     ]
    },
    {
     "name": "stdout",
     "output_type": "stream",
     "text": [
      "Epoch: 9 | train_loss: 0.6433 | train_acc: 0.6354 | val_loss: 0.6077 | val_acc: 0.8618\n"
     ]
    },
    {
     "name": "stderr",
     "output_type": "stream",
     "text": [
      " 20%|██        | 10/50 [05:29<21:47, 32.69s/it]"
     ]
    },
    {
     "name": "stdout",
     "output_type": "stream",
     "text": [
      "Epoch: 10 | train_loss: 0.6662 | train_acc: 0.5443 | val_loss: 0.6077 | val_acc: 0.8618\n"
     ]
    },
    {
     "name": "stderr",
     "output_type": "stream",
     "text": [
      " 22%|██▏       | 11/50 [06:01<21:15, 32.69s/it]"
     ]
    },
    {
     "name": "stdout",
     "output_type": "stream",
     "text": [
      "Epoch: 11 | train_loss: 0.6598 | train_acc: 0.5938 | val_loss: 0.6076 | val_acc: 0.8624\n"
     ]
    },
    {
     "name": "stderr",
     "output_type": "stream",
     "text": [
      " 24%|██▍       | 12/50 [06:33<20:29, 32.35s/it]"
     ]
    },
    {
     "name": "stdout",
     "output_type": "stream",
     "text": [
      "Epoch: 12 | train_loss: 0.6478 | train_acc: 0.6354 | val_loss: 0.6075 | val_acc: 0.8630\n"
     ]
    },
    {
     "name": "stderr",
     "output_type": "stream",
     "text": [
      " 24%|██▍       | 12/50 [07:02<22:19, 35.24s/it]\n"
     ]
    },
    {
     "name": "stdout",
     "output_type": "stream",
     "text": [
      "Epoch: 13 | train_loss: 0.6405 | train_acc: 0.6198 | val_loss: 0.6073 | val_acc: 0.8624\n",
      "Early stopping triggered after 13 epochs\n",
      "Total training time for split 3: 422.890 seconds\n"
     ]
    },
    {
     "name": "stderr",
     "output_type": "stream",
     "text": [
      "  2%|▏         | 1/50 [00:29<23:43, 29.06s/it]"
     ]
    },
    {
     "name": "stdout",
     "output_type": "stream",
     "text": [
      "Epoch: 1 | train_loss: 0.6585 | train_acc: 0.6042 | val_loss: 0.6074 | val_acc: 0.8648\n"
     ]
    },
    {
     "name": "stderr",
     "output_type": "stream",
     "text": [
      "  4%|▍         | 2/50 [01:01<24:50, 31.04s/it]"
     ]
    },
    {
     "name": "stdout",
     "output_type": "stream",
     "text": [
      "Epoch: 2 | train_loss: 0.6429 | train_acc: 0.6016 | val_loss: 0.6074 | val_acc: 0.8660\n"
     ]
    },
    {
     "name": "stderr",
     "output_type": "stream",
     "text": [
      "  6%|▌         | 3/50 [01:33<24:31, 31.31s/it]"
     ]
    },
    {
     "name": "stdout",
     "output_type": "stream",
     "text": [
      "Epoch: 3 | train_loss: 0.6464 | train_acc: 0.6432 | val_loss: 0.6071 | val_acc: 0.8660\n"
     ]
    },
    {
     "name": "stderr",
     "output_type": "stream",
     "text": [
      "  8%|▊         | 4/50 [02:03<23:50, 31.10s/it]"
     ]
    },
    {
     "name": "stdout",
     "output_type": "stream",
     "text": [
      "Epoch: 4 | train_loss: 0.6474 | train_acc: 0.5703 | val_loss: 0.6069 | val_acc: 0.8660\n"
     ]
    },
    {
     "name": "stderr",
     "output_type": "stream",
     "text": [
      " 10%|█         | 5/50 [02:32<22:46, 30.36s/it]"
     ]
    },
    {
     "name": "stdout",
     "output_type": "stream",
     "text": [
      "Epoch: 5 | train_loss: 0.6280 | train_acc: 0.6250 | val_loss: 0.6066 | val_acc: 0.8660\n"
     ]
    },
    {
     "name": "stderr",
     "output_type": "stream",
     "text": [
      " 12%|█▏        | 6/50 [03:02<21:57, 29.95s/it]"
     ]
    },
    {
     "name": "stdout",
     "output_type": "stream",
     "text": [
      "Epoch: 6 | train_loss: 0.6621 | train_acc: 0.6120 | val_loss: 0.6063 | val_acc: 0.8648\n"
     ]
    },
    {
     "name": "stderr",
     "output_type": "stream",
     "text": [
      " 14%|█▍        | 7/50 [03:33<21:48, 30.42s/it]"
     ]
    },
    {
     "name": "stdout",
     "output_type": "stream",
     "text": [
      "Epoch: 7 | train_loss: 0.6519 | train_acc: 0.6016 | val_loss: 0.6063 | val_acc: 0.8636\n"
     ]
    },
    {
     "name": "stderr",
     "output_type": "stream",
     "text": [
      " 16%|█▌        | 8/50 [04:06<21:58, 31.40s/it]"
     ]
    },
    {
     "name": "stdout",
     "output_type": "stream",
     "text": [
      "Epoch: 8 | train_loss: 0.6292 | train_acc: 0.6146 | val_loss: 0.6060 | val_acc: 0.8624\n"
     ]
    },
    {
     "name": "stderr",
     "output_type": "stream",
     "text": [
      " 18%|█▊        | 9/50 [04:40<21:52, 32.01s/it]"
     ]
    },
    {
     "name": "stdout",
     "output_type": "stream",
     "text": [
      "Epoch: 9 | train_loss: 0.6570 | train_acc: 0.5755 | val_loss: 0.6057 | val_acc: 0.8636\n"
     ]
    },
    {
     "name": "stderr",
     "output_type": "stream",
     "text": [
      " 20%|██        | 10/50 [05:13<21:31, 32.29s/it]"
     ]
    },
    {
     "name": "stdout",
     "output_type": "stream",
     "text": [
      "Epoch: 10 | train_loss: 0.6409 | train_acc: 0.5990 | val_loss: 0.6054 | val_acc: 0.8624\n"
     ]
    },
    {
     "name": "stderr",
     "output_type": "stream",
     "text": [
      " 22%|██▏       | 11/50 [05:46<21:07, 32.50s/it]"
     ]
    },
    {
     "name": "stdout",
     "output_type": "stream",
     "text": [
      "Epoch: 11 | train_loss: 0.6387 | train_acc: 0.6328 | val_loss: 0.6051 | val_acc: 0.8624\n"
     ]
    },
    {
     "name": "stderr",
     "output_type": "stream",
     "text": [
      " 24%|██▍       | 12/50 [06:18<20:36, 32.54s/it]"
     ]
    },
    {
     "name": "stdout",
     "output_type": "stream",
     "text": [
      "Epoch: 12 | train_loss: 0.6327 | train_acc: 0.5964 | val_loss: 0.6048 | val_acc: 0.8624\n"
     ]
    },
    {
     "name": "stderr",
     "output_type": "stream",
     "text": [
      " 26%|██▌       | 13/50 [06:51<20:03, 32.54s/it]"
     ]
    },
    {
     "name": "stdout",
     "output_type": "stream",
     "text": [
      "Epoch: 13 | train_loss: 0.6480 | train_acc: 0.5938 | val_loss: 0.6045 | val_acc: 0.8636\n"
     ]
    },
    {
     "name": "stderr",
     "output_type": "stream",
     "text": [
      " 28%|██▊       | 14/50 [07:24<19:38, 32.74s/it]"
     ]
    },
    {
     "name": "stdout",
     "output_type": "stream",
     "text": [
      "Epoch: 14 | train_loss: 0.6296 | train_acc: 0.6589 | val_loss: 0.6040 | val_acc: 0.8642\n"
     ]
    },
    {
     "name": "stderr",
     "output_type": "stream",
     "text": [
      " 30%|███       | 15/50 [07:57<19:12, 32.93s/it]"
     ]
    },
    {
     "name": "stdout",
     "output_type": "stream",
     "text": [
      "Epoch: 15 | train_loss: 0.6394 | train_acc: 0.6042 | val_loss: 0.6034 | val_acc: 0.8642\n"
     ]
    },
    {
     "name": "stderr",
     "output_type": "stream",
     "text": [
      " 32%|███▏      | 16/50 [08:31<18:43, 33.06s/it]"
     ]
    },
    {
     "name": "stdout",
     "output_type": "stream",
     "text": [
      "Epoch: 16 | train_loss: 0.6309 | train_acc: 0.6120 | val_loss: 0.6030 | val_acc: 0.8666\n"
     ]
    },
    {
     "name": "stderr",
     "output_type": "stream",
     "text": [
      " 34%|███▍      | 17/50 [09:04<18:11, 33.08s/it]"
     ]
    },
    {
     "name": "stdout",
     "output_type": "stream",
     "text": [
      "Epoch: 17 | train_loss: 0.6384 | train_acc: 0.6224 | val_loss: 0.6026 | val_acc: 0.8660\n"
     ]
    },
    {
     "name": "stderr",
     "output_type": "stream",
     "text": [
      " 36%|███▌      | 18/50 [09:36<17:29, 32.81s/it]"
     ]
    },
    {
     "name": "stdout",
     "output_type": "stream",
     "text": [
      "Epoch: 18 | train_loss: 0.6401 | train_acc: 0.6016 | val_loss: 0.6020 | val_acc: 0.8666\n"
     ]
    },
    {
     "name": "stderr",
     "output_type": "stream",
     "text": [
      " 38%|███▊      | 19/50 [10:09<16:57, 32.82s/it]"
     ]
    },
    {
     "name": "stdout",
     "output_type": "stream",
     "text": [
      "Epoch: 19 | train_loss: 0.6436 | train_acc: 0.5990 | val_loss: 0.6017 | val_acc: 0.8666\n"
     ]
    },
    {
     "name": "stderr",
     "output_type": "stream",
     "text": [
      " 40%|████      | 20/50 [10:42<16:30, 33.01s/it]"
     ]
    },
    {
     "name": "stdout",
     "output_type": "stream",
     "text": [
      "Epoch: 20 | train_loss: 0.6383 | train_acc: 0.5807 | val_loss: 0.6012 | val_acc: 0.8666\n"
     ]
    },
    {
     "name": "stderr",
     "output_type": "stream",
     "text": [
      " 42%|████▏     | 21/50 [11:16<16:00, 33.11s/it]"
     ]
    },
    {
     "name": "stdout",
     "output_type": "stream",
     "text": [
      "Epoch: 21 | train_loss: 0.6429 | train_acc: 0.5964 | val_loss: 0.6008 | val_acc: 0.8666\n"
     ]
    },
    {
     "name": "stderr",
     "output_type": "stream",
     "text": [
      " 44%|████▍     | 22/50 [11:49<15:29, 33.20s/it]"
     ]
    },
    {
     "name": "stdout",
     "output_type": "stream",
     "text": [
      "Epoch: 22 | train_loss: 0.6619 | train_acc: 0.5781 | val_loss: 0.6008 | val_acc: 0.8672\n"
     ]
    },
    {
     "name": "stderr",
     "output_type": "stream",
     "text": [
      " 46%|████▌     | 23/50 [12:23<14:58, 33.27s/it]"
     ]
    },
    {
     "name": "stdout",
     "output_type": "stream",
     "text": [
      "Epoch: 23 | train_loss: 0.6513 | train_acc: 0.6094 | val_loss: 0.6007 | val_acc: 0.8666\n"
     ]
    },
    {
     "name": "stderr",
     "output_type": "stream",
     "text": [
      " 48%|████▊     | 24/50 [12:56<14:25, 33.28s/it]"
     ]
    },
    {
     "name": "stdout",
     "output_type": "stream",
     "text": [
      "Epoch: 24 | train_loss: 0.6373 | train_acc: 0.5703 | val_loss: 0.6005 | val_acc: 0.8666\n"
     ]
    },
    {
     "name": "stderr",
     "output_type": "stream",
     "text": [
      " 50%|█████     | 25/50 [13:29<13:51, 33.27s/it]"
     ]
    },
    {
     "name": "stdout",
     "output_type": "stream",
     "text": [
      "Epoch: 25 | train_loss: 0.6288 | train_acc: 0.6589 | val_loss: 0.6002 | val_acc: 0.8672\n"
     ]
    },
    {
     "name": "stderr",
     "output_type": "stream",
     "text": [
      " 52%|█████▏    | 26/50 [14:02<13:16, 33.18s/it]"
     ]
    },
    {
     "name": "stdout",
     "output_type": "stream",
     "text": [
      "Epoch: 26 | train_loss: 0.6389 | train_acc: 0.6172 | val_loss: 0.5998 | val_acc: 0.8672\n"
     ]
    },
    {
     "name": "stderr",
     "output_type": "stream",
     "text": [
      " 54%|█████▍    | 27/50 [14:35<12:41, 33.11s/it]"
     ]
    },
    {
     "name": "stdout",
     "output_type": "stream",
     "text": [
      "Epoch: 27 | train_loss: 0.6704 | train_acc: 0.5833 | val_loss: 0.5998 | val_acc: 0.8666\n"
     ]
    },
    {
     "name": "stderr",
     "output_type": "stream",
     "text": [
      " 56%|█████▌    | 28/50 [15:08<12:08, 33.09s/it]"
     ]
    },
    {
     "name": "stdout",
     "output_type": "stream",
     "text": [
      "Epoch: 28 | train_loss: 0.6436 | train_acc: 0.6302 | val_loss: 0.5999 | val_acc: 0.8678\n"
     ]
    },
    {
     "name": "stderr",
     "output_type": "stream",
     "text": [
      " 56%|█████▌    | 28/50 [15:41<12:19, 33.63s/it]\n"
     ]
    },
    {
     "name": "stdout",
     "output_type": "stream",
     "text": [
      "Epoch: 29 | train_loss: 0.6558 | train_acc: 0.5859 | val_loss: 0.5998 | val_acc: 0.8672\n",
      "Early stopping triggered after 29 epochs\n",
      "Total training time for split 4: 941.648 seconds\n"
     ]
    },
    {
     "name": "stderr",
     "output_type": "stream",
     "text": [
      "  2%|▏         | 1/50 [00:33<27:30, 33.68s/it]"
     ]
    },
    {
     "name": "stdout",
     "output_type": "stream",
     "text": [
      "Epoch: 1 | train_loss: 0.6510 | train_acc: 0.5651 | val_loss: 0.6003 | val_acc: 0.8672\n"
     ]
    },
    {
     "name": "stderr",
     "output_type": "stream",
     "text": [
      "  4%|▍         | 2/50 [01:07<26:50, 33.56s/it]"
     ]
    },
    {
     "name": "stdout",
     "output_type": "stream",
     "text": [
      "Epoch: 2 | train_loss: 0.6512 | train_acc: 0.6146 | val_loss: 0.6003 | val_acc: 0.8678\n"
     ]
    },
    {
     "name": "stderr",
     "output_type": "stream",
     "text": [
      "  6%|▌         | 3/50 [01:40<26:09, 33.39s/it]"
     ]
    },
    {
     "name": "stdout",
     "output_type": "stream",
     "text": [
      "Epoch: 3 | train_loss: 0.6067 | train_acc: 0.6615 | val_loss: 0.6000 | val_acc: 0.8672\n"
     ]
    },
    {
     "name": "stderr",
     "output_type": "stream",
     "text": [
      "  8%|▊         | 4/50 [02:13<25:30, 33.26s/it]"
     ]
    },
    {
     "name": "stdout",
     "output_type": "stream",
     "text": [
      "Epoch: 4 | train_loss: 0.6301 | train_acc: 0.6536 | val_loss: 0.5995 | val_acc: 0.8672\n"
     ]
    },
    {
     "name": "stderr",
     "output_type": "stream",
     "text": [
      " 10%|█         | 5/50 [02:46<24:58, 33.31s/it]"
     ]
    },
    {
     "name": "stdout",
     "output_type": "stream",
     "text": [
      "Epoch: 5 | train_loss: 0.6271 | train_acc: 0.6562 | val_loss: 0.5989 | val_acc: 0.8672\n"
     ]
    },
    {
     "name": "stderr",
     "output_type": "stream",
     "text": [
      " 12%|█▏        | 6/50 [03:20<24:26, 33.34s/it]"
     ]
    },
    {
     "name": "stdout",
     "output_type": "stream",
     "text": [
      "Epoch: 6 | train_loss: 0.6579 | train_acc: 0.5885 | val_loss: 0.5988 | val_acc: 0.8666\n"
     ]
    },
    {
     "name": "stderr",
     "output_type": "stream",
     "text": [
      " 14%|█▍        | 7/50 [03:53<23:54, 33.36s/it]"
     ]
    },
    {
     "name": "stdout",
     "output_type": "stream",
     "text": [
      "Epoch: 7 | train_loss: 0.6275 | train_acc: 0.6458 | val_loss: 0.5988 | val_acc: 0.8660\n"
     ]
    },
    {
     "name": "stderr",
     "output_type": "stream",
     "text": [
      " 16%|█▌        | 8/50 [04:26<23:20, 33.34s/it]"
     ]
    },
    {
     "name": "stdout",
     "output_type": "stream",
     "text": [
      "Epoch: 8 | train_loss: 0.6417 | train_acc: 0.6198 | val_loss: 0.5985 | val_acc: 0.8654\n"
     ]
    },
    {
     "name": "stderr",
     "output_type": "stream",
     "text": [
      " 18%|█▊        | 9/50 [04:59<22:43, 33.26s/it]"
     ]
    },
    {
     "name": "stdout",
     "output_type": "stream",
     "text": [
      "Epoch: 9 | train_loss: 0.6134 | train_acc: 0.6719 | val_loss: 0.5981 | val_acc: 0.8660\n"
     ]
    },
    {
     "name": "stderr",
     "output_type": "stream",
     "text": [
      " 20%|██        | 10/50 [05:33<22:07, 33.19s/it]"
     ]
    },
    {
     "name": "stdout",
     "output_type": "stream",
     "text": [
      "Epoch: 10 | train_loss: 0.6324 | train_acc: 0.6406 | val_loss: 0.5976 | val_acc: 0.8660\n"
     ]
    },
    {
     "name": "stderr",
     "output_type": "stream",
     "text": [
      " 22%|██▏       | 11/50 [06:06<21:33, 33.16s/it]"
     ]
    },
    {
     "name": "stdout",
     "output_type": "stream",
     "text": [
      "Epoch: 11 | train_loss: 0.6444 | train_acc: 0.6146 | val_loss: 0.5973 | val_acc: 0.8654\n"
     ]
    },
    {
     "name": "stderr",
     "output_type": "stream",
     "text": [
      " 24%|██▍       | 12/50 [06:39<21:04, 33.26s/it]"
     ]
    },
    {
     "name": "stdout",
     "output_type": "stream",
     "text": [
      "Epoch: 12 | train_loss: 0.6713 | train_acc: 0.5417 | val_loss: 0.5973 | val_acc: 0.8654\n"
     ]
    },
    {
     "name": "stderr",
     "output_type": "stream",
     "text": [
      " 26%|██▌       | 13/50 [07:13<20:35, 33.38s/it]"
     ]
    },
    {
     "name": "stdout",
     "output_type": "stream",
     "text": [
      "Epoch: 13 | train_loss: 0.6420 | train_acc: 0.6484 | val_loss: 0.5976 | val_acc: 0.8654\n"
     ]
    },
    {
     "name": "stderr",
     "output_type": "stream",
     "text": [
      " 28%|██▊       | 14/50 [07:46<20:02, 33.40s/it]"
     ]
    },
    {
     "name": "stdout",
     "output_type": "stream",
     "text": [
      "Epoch: 14 | train_loss: 0.6311 | train_acc: 0.6432 | val_loss: 0.5973 | val_acc: 0.8618\n"
     ]
    },
    {
     "name": "stderr",
     "output_type": "stream",
     "text": [
      " 28%|██▊       | 14/50 [08:19<21:23, 35.66s/it]\n"
     ]
    },
    {
     "name": "stdout",
     "output_type": "stream",
     "text": [
      "Epoch: 15 | train_loss: 0.6228 | train_acc: 0.6432 | val_loss: 0.5971 | val_acc: 0.8642\n",
      "Early stopping triggered after 15 epochs\n",
      "Total training time for split 5: 499.203 seconds\n"
     ]
    },
    {
     "name": "stderr",
     "output_type": "stream",
     "text": [
      "  2%|▏         | 1/50 [00:32<26:54, 32.94s/it]"
     ]
    },
    {
     "name": "stdout",
     "output_type": "stream",
     "text": [
      "Epoch: 1 | train_loss: 0.6351 | train_acc: 0.6224 | val_loss: 0.5956 | val_acc: 0.8594\n"
     ]
    },
    {
     "name": "stderr",
     "output_type": "stream",
     "text": [
      "  4%|▍         | 2/50 [01:05<26:13, 32.79s/it]"
     ]
    },
    {
     "name": "stdout",
     "output_type": "stream",
     "text": [
      "Epoch: 2 | train_loss: 0.6428 | train_acc: 0.5990 | val_loss: 0.5955 | val_acc: 0.8594\n"
     ]
    },
    {
     "name": "stderr",
     "output_type": "stream",
     "text": [
      "  6%|▌         | 3/50 [01:38<25:36, 32.69s/it]"
     ]
    },
    {
     "name": "stdout",
     "output_type": "stream",
     "text": [
      "Epoch: 3 | train_loss: 0.6511 | train_acc: 0.5990 | val_loss: 0.5954 | val_acc: 0.8594\n"
     ]
    },
    {
     "name": "stderr",
     "output_type": "stream",
     "text": [
      "  8%|▊         | 4/50 [02:10<24:59, 32.60s/it]"
     ]
    },
    {
     "name": "stdout",
     "output_type": "stream",
     "text": [
      "Epoch: 4 | train_loss: 0.6473 | train_acc: 0.6068 | val_loss: 0.5956 | val_acc: 0.8594\n"
     ]
    },
    {
     "name": "stderr",
     "output_type": "stream",
     "text": [
      " 10%|█         | 5/50 [02:42<24:17, 32.38s/it]"
     ]
    },
    {
     "name": "stdout",
     "output_type": "stream",
     "text": [
      "Epoch: 5 | train_loss: 0.6432 | train_acc: 0.6172 | val_loss: 0.5952 | val_acc: 0.8588\n"
     ]
    },
    {
     "name": "stderr",
     "output_type": "stream",
     "text": [
      " 10%|█         | 5/50 [03:15<29:17, 39.06s/it]\n"
     ]
    },
    {
     "name": "stdout",
     "output_type": "stream",
     "text": [
      "Epoch: 6 | train_loss: 0.6393 | train_acc: 0.5911 | val_loss: 0.5951 | val_acc: 0.8594\n",
      "Early stopping triggered after 6 epochs\n",
      "Total training time for split 6: 195.314 seconds\n"
     ]
    },
    {
     "name": "stderr",
     "output_type": "stream",
     "text": [
      "  2%|▏         | 1/50 [00:32<26:54, 32.96s/it]"
     ]
    },
    {
     "name": "stdout",
     "output_type": "stream",
     "text": [
      "Epoch: 1 | train_loss: 0.6526 | train_acc: 0.5599 | val_loss: 0.5946 | val_acc: 0.8666\n"
     ]
    },
    {
     "name": "stderr",
     "output_type": "stream",
     "text": [
      "  4%|▍         | 2/50 [01:05<26:09, 32.69s/it]"
     ]
    },
    {
     "name": "stdout",
     "output_type": "stream",
     "text": [
      "Epoch: 2 | train_loss: 0.6340 | train_acc: 0.6094 | val_loss: 0.5946 | val_acc: 0.8672\n"
     ]
    },
    {
     "name": "stderr",
     "output_type": "stream",
     "text": [
      "  6%|▌         | 3/50 [01:37<25:19, 32.34s/it]"
     ]
    },
    {
     "name": "stdout",
     "output_type": "stream",
     "text": [
      "Epoch: 3 | train_loss: 0.6449 | train_acc: 0.6328 | val_loss: 0.5944 | val_acc: 0.8672\n"
     ]
    },
    {
     "name": "stderr",
     "output_type": "stream",
     "text": [
      "  8%|▊         | 4/50 [02:09<24:39, 32.16s/it]"
     ]
    },
    {
     "name": "stdout",
     "output_type": "stream",
     "text": [
      "Epoch: 4 | train_loss: 0.6493 | train_acc: 0.6172 | val_loss: 0.5945 | val_acc: 0.8666\n"
     ]
    },
    {
     "name": "stderr",
     "output_type": "stream",
     "text": [
      " 10%|█         | 5/50 [02:41<24:02, 32.05s/it]"
     ]
    },
    {
     "name": "stdout",
     "output_type": "stream",
     "text": [
      "Epoch: 5 | train_loss: 0.6420 | train_acc: 0.6328 | val_loss: 0.5946 | val_acc: 0.8648\n"
     ]
    },
    {
     "name": "stderr",
     "output_type": "stream",
     "text": [
      " 10%|█         | 5/50 [03:12<28:56, 38.59s/it]\n"
     ]
    },
    {
     "name": "stdout",
     "output_type": "stream",
     "text": [
      "Epoch: 6 | train_loss: 0.6414 | train_acc: 0.6224 | val_loss: 0.5946 | val_acc: 0.8642\n",
      "Early stopping triggered after 6 epochs\n",
      "Total training time for split 7: 192.967 seconds\n"
     ]
    },
    {
     "name": "stderr",
     "output_type": "stream",
     "text": [
      "  2%|▏         | 1/50 [00:32<26:19, 32.23s/it]"
     ]
    },
    {
     "name": "stdout",
     "output_type": "stream",
     "text": [
      "Epoch: 1 | train_loss: 0.6523 | train_acc: 0.5703 | val_loss: 0.5951 | val_acc: 0.8660\n"
     ]
    },
    {
     "name": "stderr",
     "output_type": "stream",
     "text": [
      "  4%|▍         | 2/50 [01:04<25:59, 32.49s/it]"
     ]
    },
    {
     "name": "stdout",
     "output_type": "stream",
     "text": [
      "Epoch: 2 | train_loss: 0.6284 | train_acc: 0.6224 | val_loss: 0.5951 | val_acc: 0.8660\n"
     ]
    },
    {
     "name": "stderr",
     "output_type": "stream",
     "text": [
      "  6%|▌         | 3/50 [01:37<25:30, 32.57s/it]"
     ]
    },
    {
     "name": "stdout",
     "output_type": "stream",
     "text": [
      "Epoch: 3 | train_loss: 0.6433 | train_acc: 0.6224 | val_loss: 0.5950 | val_acc: 0.8654\n"
     ]
    },
    {
     "name": "stderr",
     "output_type": "stream",
     "text": [
      "  8%|▊         | 4/50 [02:09<24:51, 32.43s/it]"
     ]
    },
    {
     "name": "stdout",
     "output_type": "stream",
     "text": [
      "Epoch: 4 | train_loss: 0.6714 | train_acc: 0.5573 | val_loss: 0.5951 | val_acc: 0.8642\n"
     ]
    },
    {
     "name": "stderr",
     "output_type": "stream",
     "text": [
      " 10%|█         | 5/50 [02:41<24:10, 32.24s/it]"
     ]
    },
    {
     "name": "stdout",
     "output_type": "stream",
     "text": [
      "Epoch: 5 | train_loss: 0.6507 | train_acc: 0.6120 | val_loss: 0.5953 | val_acc: 0.8618\n"
     ]
    },
    {
     "name": "stderr",
     "output_type": "stream",
     "text": [
      " 10%|█         | 5/50 [03:13<29:02, 38.73s/it]\n"
     ]
    },
    {
     "name": "stdout",
     "output_type": "stream",
     "text": [
      "Epoch: 6 | train_loss: 0.6813 | train_acc: 0.5833 | val_loss: 0.5957 | val_acc: 0.8606\n",
      "Early stopping triggered after 6 epochs\n",
      "Total training time for split 8: 193.631 seconds\n"
     ]
    },
    {
     "name": "stderr",
     "output_type": "stream",
     "text": [
      "  2%|▏         | 1/50 [00:32<26:51, 32.90s/it]"
     ]
    },
    {
     "name": "stdout",
     "output_type": "stream",
     "text": [
      "Epoch: 1 | train_loss: 0.6311 | train_acc: 0.6276 | val_loss: 0.5949 | val_acc: 0.8636\n"
     ]
    },
    {
     "name": "stderr",
     "output_type": "stream",
     "text": [
      "  4%|▍         | 2/50 [01:05<26:13, 32.79s/it]"
     ]
    },
    {
     "name": "stdout",
     "output_type": "stream",
     "text": [
      "Epoch: 2 | train_loss: 0.6368 | train_acc: 0.6172 | val_loss: 0.5949 | val_acc: 0.8636\n"
     ]
    },
    {
     "name": "stderr",
     "output_type": "stream",
     "text": [
      "  6%|▌         | 3/50 [01:38<25:32, 32.62s/it]"
     ]
    },
    {
     "name": "stdout",
     "output_type": "stream",
     "text": [
      "Epoch: 3 | train_loss: 0.6241 | train_acc: 0.6250 | val_loss: 0.5946 | val_acc: 0.8636\n"
     ]
    },
    {
     "name": "stderr",
     "output_type": "stream",
     "text": [
      "  8%|▊         | 4/50 [02:09<24:46, 32.32s/it]"
     ]
    },
    {
     "name": "stdout",
     "output_type": "stream",
     "text": [
      "Epoch: 4 | train_loss: 0.6271 | train_acc: 0.6146 | val_loss: 0.5940 | val_acc: 0.8642\n"
     ]
    },
    {
     "name": "stderr",
     "output_type": "stream",
     "text": [
      " 10%|█         | 5/50 [02:38<23:16, 31.04s/it]"
     ]
    },
    {
     "name": "stdout",
     "output_type": "stream",
     "text": [
      "Epoch: 5 | train_loss: 0.6641 | train_acc: 0.5729 | val_loss: 0.5939 | val_acc: 0.8636\n"
     ]
    },
    {
     "name": "stderr",
     "output_type": "stream",
     "text": [
      " 10%|█         | 5/50 [03:07<28:06, 37.49s/it]"
     ]
    },
    {
     "name": "stdout",
     "output_type": "stream",
     "text": [
      "Epoch: 6 | train_loss: 0.6688 | train_acc: 0.5729 | val_loss: 0.5943 | val_acc: 0.8636\n",
      "Early stopping triggered after 6 epochs\n",
      "Total training time for split 9: 187.438 seconds\n"
     ]
    },
    {
     "name": "stderr",
     "output_type": "stream",
     "text": [
      "\n"
     ]
    }
   ],
   "source": [
    "## You can find the model and result corresponding to each fold in the files inside the directory\n",
    "\n",
    "# Continue the training and validation of the model for all the other folds\n",
    "for i in range(1, 10):\n",
    "    # Keeping the split\n",
    "    train_str = \"train_\" + str(i)\n",
    "    val_str = \"val_\" + str(i)\n",
    "    train_idx = train_splits[train_str].values\n",
    "    val_idx = val_splits[val_str].values\n",
    "    mean = fold_stats[str(i)][\"mean\"]\n",
    "    std = fold_stats[str(i)][\"std\"]\n",
    "\n",
    "    # Create dataloaders with fold-specific normalization\n",
    "    train_loader, val_loader = create_dataloaders(df, train_idx, val_idx, mean, std)\n",
    "\n",
    "    # Start the timer\n",
    "    from timeit import default_timer as timer\n",
    "\n",
    "    start_time = timer()\n",
    "    # Train model\n",
    "    model_results = train(\n",
    "        model=model,\n",
    "        train_dataloader=train_loader,\n",
    "        val_dataloader=val_loader,\n",
    "        optimizer=optimizer,\n",
    "        loss_fn=loss_fn,\n",
    "        epochs=NUM_EPOCHS,\n",
    "        split=i,\n",
    "    )\n",
    "    # End the timer and print out how long it took\n",
    "    end_time = timer()\n",
    "    print(f\"Total training time for split {i}: {end_time-start_time:.3f} seconds\")\n",
    "    # Extract train and validation loss and accuracy at each epoch\n",
    "    results = dict(list(model_results.items()))\n",
    "    # Get the loss values of the results dictionary (training and validation)\n",
    "    train_loss = results[\"train_loss\"]\n",
    "    val_loss = results[\"val_loss\"]\n",
    "    # Get the accuracy values of the results dictionary (training and validation)\n",
    "    train_acc = results[\"train_acc\"]\n",
    "    val_acc = results[\"val_acc\"]\n",
    "    # Figure out how many epochs there were\n",
    "    epochs = range(len(results[\"train_loss\"]))\n",
    "    # Save results in a csv\n",
    "    results_df = pd.DataFrame(\n",
    "        columns=[\"train_loss\", \"val_loss\", \"train_acc\", \"val_acc\", \"epochs\"]\n",
    "    )\n",
    "    results_df[\"train_loss\"] = train_loss\n",
    "    results_df[\"val_loss\"] = val_loss\n",
    "    results_df[\"train_acc\"] = train_acc\n",
    "    results_df[\"val_acc\"] = val_acc\n",
    "    results_df[\"epochs\"] = epochs\n",
    "    results_df_name = basedir + \"results_df_\" + str(i) + \".csv\"\n",
    "    results_df.to_csv(results_df_name)"
   ]
  },
  {
   "cell_type": "code",
   "execution_count": 60,
   "metadata": {
    "id": "H5iY2G83IDlJ"
   },
   "outputs": [],
   "source": [
    "# Loading the checkpoint\n",
    "def load_checkpoint(filepath):\n",
    "    checkpoint = torch.load(filepath, map_location=torch.device(device))\n",
    "    model = ImageClassifier()\n",
    "    model.load_state_dict(checkpoint[\"state_dict\"])\n",
    "    for parameter in model.parameters():\n",
    "        parameter.requires_grad = False\n",
    "    model.eval()\n",
    "    return model"
   ]
  },
  {
   "cell_type": "code",
   "execution_count": 63,
   "metadata": {
    "id": "6A6heB1mw-0w"
   },
   "outputs": [
    {
     "name": "stdout",
     "output_type": "stream",
     "text": [
      "Accuracy for split 0: 0.8713414634146341\n",
      "F1 Score for split 0: 0.8808582721626201\n",
      "Accuracy for split 1: 0.873780487804878\n",
      "F1 Score for split 1: 0.8842929010620458\n",
      "Accuracy for split 2: 0.8682926829268293\n",
      "F1 Score for split 2: 0.8798665183537263\n",
      "Accuracy for split 3: 0.8646341463414634\n",
      "F1 Score for split 3: 0.877887788778878\n",
      "Accuracy for split 4: 0.8676829268292683\n",
      "F1 Score for split 4: 0.8803088803088803\n",
      "Accuracy for split 5: 0.8658536585365854\n",
      "F1 Score for split 5: 0.8785871964679911\n",
      "Accuracy for split 6: 0.8628048780487805\n",
      "F1 Score for split 6: 0.8764415156507414\n",
      "Accuracy for split 7: 0.8652439024390244\n",
      "F1 Score for split 7: 0.8781025923883067\n",
      "Accuracy for split 8: 0.8676829268292683\n",
      "F1 Score for split 8: 0.8797783933518005\n",
      "Accuracy for split 9: 0.8621951219512195\n",
      "F1 Score for split 9: 0.876772082878953\n",
      "Mean Accuracy: 0.866951219512195\n",
      "Mean F1 Score: 0.8792896141403943\n"
     ]
    }
   ],
   "source": [
    "def f1_score(y_true, y_pred):\n",
    "    tp = np.sum((y_true == 0) & (y_pred == 0))\n",
    "    fp = np.sum((y_true == 0) & (y_pred == 1))\n",
    "    fn = np.sum((y_true == 1) & (y_pred == 0))\n",
    "\n",
    "    # Avoid division by zero\n",
    "    precision = tp / (tp + fp) if (tp + fp) != 0 else 0\n",
    "    recall = tp / (tp + fn) if (tp + fn) != 0 else 0\n",
    "\n",
    "    # Avoid division by zero\n",
    "    f1 = (\n",
    "        2 * (precision * recall) / (precision + recall)\n",
    "        if (precision + recall) != 0\n",
    "        else 0\n",
    "    )\n",
    "    return f1\n",
    "\n",
    "\n",
    "def accuracy_score(y_true, y_pred):\n",
    "    correct = np.sum(y_true == y_pred)\n",
    "    accuracy = correct / len(y_true)\n",
    "    return accuracy\n",
    "\n",
    "\n",
    "def compute_metrics(model, dataloader):\n",
    "    model.eval()\n",
    "    y_true = np.array([])\n",
    "    y_pred = np.array([])\n",
    "    with torch.no_grad():\n",
    "        for images, labels in dataloader:\n",
    "            images, labels = images.to(device), labels.to(device)\n",
    "            outputs = model(images)\n",
    "            y_pred_class = torch.argmax(torch.softmax(outputs, dim=1), dim=1)\n",
    "            y_true = np.concatenate((y_true, labels.cpu().numpy()))\n",
    "            y_pred = np.concatenate((y_pred, y_pred_class.cpu().numpy()))\n",
    "\n",
    "    accuracy = accuracy_score(y_true, y_pred)\n",
    "    f1 = f1_score(y_true, y_pred)\n",
    "    return accuracy, f1\n",
    "\n",
    "\n",
    "accuracies = []\n",
    "f1_scores = []\n",
    "# Iterate through all folds (0-9)\n",
    "for i in range(10):\n",
    "    model = load_checkpoint(basedir + \"checkpoint_\" + str(i) + \".pth\")\n",
    "    model.to(device)\n",
    "    train_str = \"train_\" + str(i)\n",
    "    val_str = \"val_\" + str(i)\n",
    "    train_idx = train_splits[train_str].values\n",
    "    val_idx = val_splits[val_str].values\n",
    "    mean = fold_stats[str(i)][\"mean\"]\n",
    "    std = fold_stats[str(i)][\"std\"]\n",
    "    _, val_loader = create_dataloaders(df, train_idx, val_idx, mean, std)\n",
    "    accuracy, f1 = compute_metrics(model, val_loader)\n",
    "    accuracies.append(accuracy)\n",
    "    f1_scores.append(f1)\n",
    "    print(f\"Accuracy for split {i}: {accuracy}\")\n",
    "    print(f\"F1 Score for split {i}: {f1}\")\n",
    "\n",
    "\n",
    "mean_accuracy = np.mean(accuracies)\n",
    "mean_f1_score = np.mean(f1_scores)\n",
    "print(f\"Mean Accuracy: {mean_accuracy}\")\n",
    "print(f\"Mean F1 Score: {mean_f1_score}\")"
   ]
  }
 ],
 "metadata": {
  "accelerator": "GPU",
  "colab": {
   "gpuType": "T4",
   "provenance": []
  },
  "kernelspec": {
   "display_name": ".venv",
   "language": "python",
   "name": "python3"
  },
  "language_info": {
   "codemirror_mode": {
    "name": "ipython",
    "version": 3
   },
   "file_extension": ".py",
   "mimetype": "text/x-python",
   "name": "python",
   "nbconvert_exporter": "python",
   "pygments_lexer": "ipython3",
   "version": "3.11.11"
  },
  "widgets": {
   "application/vnd.jupyter.widget-state+json": {
    "0128bdde9eed45838a3650cbaa924c52": {
     "model_module": "@jupyter-widgets/controls",
     "model_module_version": "1.5.0",
     "model_name": "HBoxModel",
     "state": {
      "_dom_classes": [],
      "_model_module": "@jupyter-widgets/controls",
      "_model_module_version": "1.5.0",
      "_model_name": "HBoxModel",
      "_view_count": null,
      "_view_module": "@jupyter-widgets/controls",
      "_view_module_version": "1.5.0",
      "_view_name": "HBoxView",
      "box_style": "",
      "children": [
       "IPY_MODEL_b1ea9ec107444406a1327b76fb1bc326",
       "IPY_MODEL_f692d53bcd464feba29bfc767d4b4b11",
       "IPY_MODEL_868111cc299f49999888e03ba99440ed"
      ],
      "layout": "IPY_MODEL_8e5bf5ea055f4671a14210df1cffa008"
     }
    },
    "01f2d84bbc514b4ea40085aa5a85667b": {
     "model_module": "@jupyter-widgets/base",
     "model_module_version": "1.2.0",
     "model_name": "LayoutModel",
     "state": {
      "_model_module": "@jupyter-widgets/base",
      "_model_module_version": "1.2.0",
      "_model_name": "LayoutModel",
      "_view_count": null,
      "_view_module": "@jupyter-widgets/base",
      "_view_module_version": "1.2.0",
      "_view_name": "LayoutView",
      "align_content": null,
      "align_items": null,
      "align_self": null,
      "border": null,
      "bottom": null,
      "display": null,
      "flex": null,
      "flex_flow": null,
      "grid_area": null,
      "grid_auto_columns": null,
      "grid_auto_flow": null,
      "grid_auto_rows": null,
      "grid_column": null,
      "grid_gap": null,
      "grid_row": null,
      "grid_template_areas": null,
      "grid_template_columns": null,
      "grid_template_rows": null,
      "height": null,
      "justify_content": null,
      "justify_items": null,
      "left": null,
      "margin": null,
      "max_height": null,
      "max_width": null,
      "min_height": null,
      "min_width": null,
      "object_fit": null,
      "object_position": null,
      "order": null,
      "overflow": null,
      "overflow_x": null,
      "overflow_y": null,
      "padding": null,
      "right": null,
      "top": null,
      "visibility": null,
      "width": null
     }
    },
    "03a1141d5db5484c96811b7f28d94e90": {
     "model_module": "@jupyter-widgets/controls",
     "model_module_version": "1.5.0",
     "model_name": "DescriptionStyleModel",
     "state": {
      "_model_module": "@jupyter-widgets/controls",
      "_model_module_version": "1.5.0",
      "_model_name": "DescriptionStyleModel",
      "_view_count": null,
      "_view_module": "@jupyter-widgets/base",
      "_view_module_version": "1.2.0",
      "_view_name": "StyleView",
      "description_width": ""
     }
    },
    "051d052568fe458c9fa308a7b85d0f4b": {
     "model_module": "@jupyter-widgets/controls",
     "model_module_version": "1.5.0",
     "model_name": "DescriptionStyleModel",
     "state": {
      "_model_module": "@jupyter-widgets/controls",
      "_model_module_version": "1.5.0",
      "_model_name": "DescriptionStyleModel",
      "_view_count": null,
      "_view_module": "@jupyter-widgets/base",
      "_view_module_version": "1.2.0",
      "_view_name": "StyleView",
      "description_width": ""
     }
    },
    "05ab296086eb4dc693c72c2552edf2d0": {
     "model_module": "@jupyter-widgets/controls",
     "model_module_version": "1.5.0",
     "model_name": "HTMLModel",
     "state": {
      "_dom_classes": [],
      "_model_module": "@jupyter-widgets/controls",
      "_model_module_version": "1.5.0",
      "_model_name": "HTMLModel",
      "_view_count": null,
      "_view_module": "@jupyter-widgets/controls",
      "_view_module_version": "1.5.0",
      "_view_name": "HTMLView",
      "description": "",
      "description_tooltip": null,
      "layout": "IPY_MODEL_580ce11156d6485099d4fa72a25a5908",
      "placeholder": "​",
      "style": "IPY_MODEL_051d052568fe458c9fa308a7b85d0f4b",
      "value": " 360/360 [02:01&lt;00:00,  4.87it/s]"
     }
    },
    "0be1409c85ca4de68b04ba841482568d": {
     "model_module": "@jupyter-widgets/controls",
     "model_module_version": "1.5.0",
     "model_name": "ProgressStyleModel",
     "state": {
      "_model_module": "@jupyter-widgets/controls",
      "_model_module_version": "1.5.0",
      "_model_name": "ProgressStyleModel",
      "_view_count": null,
      "_view_module": "@jupyter-widgets/base",
      "_view_module_version": "1.2.0",
      "_view_name": "StyleView",
      "bar_color": null,
      "description_width": ""
     }
    },
    "1eca895f486e4a548824abc4f72e4b9c": {
     "model_module": "@jupyter-widgets/controls",
     "model_module_version": "1.5.0",
     "model_name": "ProgressStyleModel",
     "state": {
      "_model_module": "@jupyter-widgets/controls",
      "_model_module_version": "1.5.0",
      "_model_name": "ProgressStyleModel",
      "_view_count": null,
      "_view_module": "@jupyter-widgets/base",
      "_view_module_version": "1.2.0",
      "_view_name": "StyleView",
      "bar_color": null,
      "description_width": ""
     }
    },
    "2059be3106a544a99e04907d10e5b4c7": {
     "model_module": "@jupyter-widgets/controls",
     "model_module_version": "1.5.0",
     "model_name": "DescriptionStyleModel",
     "state": {
      "_model_module": "@jupyter-widgets/controls",
      "_model_module_version": "1.5.0",
      "_model_name": "DescriptionStyleModel",
      "_view_count": null,
      "_view_module": "@jupyter-widgets/base",
      "_view_module_version": "1.2.0",
      "_view_name": "StyleView",
      "description_width": ""
     }
    },
    "2258c280ee9e4c4d8a7abaf3f6da2def": {
     "model_module": "@jupyter-widgets/base",
     "model_module_version": "1.2.0",
     "model_name": "LayoutModel",
     "state": {
      "_model_module": "@jupyter-widgets/base",
      "_model_module_version": "1.2.0",
      "_model_name": "LayoutModel",
      "_view_count": null,
      "_view_module": "@jupyter-widgets/base",
      "_view_module_version": "1.2.0",
      "_view_name": "LayoutView",
      "align_content": null,
      "align_items": null,
      "align_self": null,
      "border": null,
      "bottom": null,
      "display": null,
      "flex": null,
      "flex_flow": null,
      "grid_area": null,
      "grid_auto_columns": null,
      "grid_auto_flow": null,
      "grid_auto_rows": null,
      "grid_column": null,
      "grid_gap": null,
      "grid_row": null,
      "grid_template_areas": null,
      "grid_template_columns": null,
      "grid_template_rows": null,
      "height": null,
      "justify_content": null,
      "justify_items": null,
      "left": null,
      "margin": null,
      "max_height": null,
      "max_width": null,
      "min_height": null,
      "min_width": null,
      "object_fit": null,
      "object_position": null,
      "order": null,
      "overflow": null,
      "overflow_x": null,
      "overflow_y": null,
      "padding": null,
      "right": null,
      "top": null,
      "visibility": null,
      "width": null
     }
    },
    "2391c2b6530140779419550690181a1c": {
     "model_module": "@jupyter-widgets/controls",
     "model_module_version": "1.5.0",
     "model_name": "DescriptionStyleModel",
     "state": {
      "_model_module": "@jupyter-widgets/controls",
      "_model_module_version": "1.5.0",
      "_model_name": "DescriptionStyleModel",
      "_view_count": null,
      "_view_module": "@jupyter-widgets/base",
      "_view_module_version": "1.2.0",
      "_view_name": "StyleView",
      "description_width": ""
     }
    },
    "26e2d5cf1c834536a659d76beae1101d": {
     "model_module": "@jupyter-widgets/controls",
     "model_module_version": "1.5.0",
     "model_name": "HTMLModel",
     "state": {
      "_dom_classes": [],
      "_model_module": "@jupyter-widgets/controls",
      "_model_module_version": "1.5.0",
      "_model_name": "HTMLModel",
      "_view_count": null,
      "_view_module": "@jupyter-widgets/controls",
      "_view_module_version": "1.5.0",
      "_view_name": "HTMLView",
      "description": "",
      "description_tooltip": null,
      "layout": "IPY_MODEL_bd33836003a4492c8462cc8b7ed3ba73",
      "placeholder": "​",
      "style": "IPY_MODEL_c3ae1f10f00243a6963bd9188426e5a3",
      "value": " 12/12 [01:40&lt;00:00,  6.94s/it]"
     }
    },
    "2db8db03438d4b038273180bcd27531b": {
     "model_module": "@jupyter-widgets/base",
     "model_module_version": "1.2.0",
     "model_name": "LayoutModel",
     "state": {
      "_model_module": "@jupyter-widgets/base",
      "_model_module_version": "1.2.0",
      "_model_name": "LayoutModel",
      "_view_count": null,
      "_view_module": "@jupyter-widgets/base",
      "_view_module_version": "1.2.0",
      "_view_name": "LayoutView",
      "align_content": null,
      "align_items": null,
      "align_self": null,
      "border": null,
      "bottom": null,
      "display": null,
      "flex": null,
      "flex_flow": null,
      "grid_area": null,
      "grid_auto_columns": null,
      "grid_auto_flow": null,
      "grid_auto_rows": null,
      "grid_column": null,
      "grid_gap": null,
      "grid_row": null,
      "grid_template_areas": null,
      "grid_template_columns": null,
      "grid_template_rows": null,
      "height": null,
      "justify_content": null,
      "justify_items": null,
      "left": null,
      "margin": null,
      "max_height": null,
      "max_width": null,
      "min_height": null,
      "min_width": null,
      "object_fit": null,
      "object_position": null,
      "order": null,
      "overflow": null,
      "overflow_x": null,
      "overflow_y": null,
      "padding": null,
      "right": null,
      "top": null,
      "visibility": null,
      "width": null
     }
    },
    "2f17718875c74795b20f17e0b5a34de4": {
     "model_module": "@jupyter-widgets/controls",
     "model_module_version": "1.5.0",
     "model_name": "FloatProgressModel",
     "state": {
      "_dom_classes": [],
      "_model_module": "@jupyter-widgets/controls",
      "_model_module_version": "1.5.0",
      "_model_name": "FloatProgressModel",
      "_view_count": null,
      "_view_module": "@jupyter-widgets/controls",
      "_view_module_version": "1.5.0",
      "_view_name": "ProgressView",
      "bar_style": "danger",
      "description": "",
      "description_tooltip": null,
      "layout": "IPY_MODEL_2f784cde50b34af28d84fbf6d26fd9ed",
      "max": 360,
      "min": 0,
      "orientation": "horizontal",
      "style": "IPY_MODEL_0be1409c85ca4de68b04ba841482568d",
      "value": 6
     }
    },
    "2f784cde50b34af28d84fbf6d26fd9ed": {
     "model_module": "@jupyter-widgets/base",
     "model_module_version": "1.2.0",
     "model_name": "LayoutModel",
     "state": {
      "_model_module": "@jupyter-widgets/base",
      "_model_module_version": "1.2.0",
      "_model_name": "LayoutModel",
      "_view_count": null,
      "_view_module": "@jupyter-widgets/base",
      "_view_module_version": "1.2.0",
      "_view_name": "LayoutView",
      "align_content": null,
      "align_items": null,
      "align_self": null,
      "border": null,
      "bottom": null,
      "display": null,
      "flex": null,
      "flex_flow": null,
      "grid_area": null,
      "grid_auto_columns": null,
      "grid_auto_flow": null,
      "grid_auto_rows": null,
      "grid_column": null,
      "grid_gap": null,
      "grid_row": null,
      "grid_template_areas": null,
      "grid_template_columns": null,
      "grid_template_rows": null,
      "height": null,
      "justify_content": null,
      "justify_items": null,
      "left": null,
      "margin": null,
      "max_height": null,
      "max_width": null,
      "min_height": null,
      "min_width": null,
      "object_fit": null,
      "object_position": null,
      "order": null,
      "overflow": null,
      "overflow_x": null,
      "overflow_y": null,
      "padding": null,
      "right": null,
      "top": null,
      "visibility": null,
      "width": null
     }
    },
    "3271defe634a4e8e9560ad3f049fb148": {
     "model_module": "@jupyter-widgets/base",
     "model_module_version": "1.2.0",
     "model_name": "LayoutModel",
     "state": {
      "_model_module": "@jupyter-widgets/base",
      "_model_module_version": "1.2.0",
      "_model_name": "LayoutModel",
      "_view_count": null,
      "_view_module": "@jupyter-widgets/base",
      "_view_module_version": "1.2.0",
      "_view_name": "LayoutView",
      "align_content": null,
      "align_items": null,
      "align_self": null,
      "border": null,
      "bottom": null,
      "display": null,
      "flex": null,
      "flex_flow": null,
      "grid_area": null,
      "grid_auto_columns": null,
      "grid_auto_flow": null,
      "grid_auto_rows": null,
      "grid_column": null,
      "grid_gap": null,
      "grid_row": null,
      "grid_template_areas": null,
      "grid_template_columns": null,
      "grid_template_rows": null,
      "height": null,
      "justify_content": null,
      "justify_items": null,
      "left": null,
      "margin": null,
      "max_height": null,
      "max_width": null,
      "min_height": null,
      "min_width": null,
      "object_fit": null,
      "object_position": null,
      "order": null,
      "overflow": null,
      "overflow_x": null,
      "overflow_y": null,
      "padding": null,
      "right": null,
      "top": null,
      "visibility": null,
      "width": null
     }
    },
    "36ee54f25f734c61a9b1ab2c216fd3ee": {
     "model_module": "@jupyter-widgets/base",
     "model_module_version": "1.2.0",
     "model_name": "LayoutModel",
     "state": {
      "_model_module": "@jupyter-widgets/base",
      "_model_module_version": "1.2.0",
      "_model_name": "LayoutModel",
      "_view_count": null,
      "_view_module": "@jupyter-widgets/base",
      "_view_module_version": "1.2.0",
      "_view_name": "LayoutView",
      "align_content": null,
      "align_items": null,
      "align_self": null,
      "border": null,
      "bottom": null,
      "display": null,
      "flex": null,
      "flex_flow": null,
      "grid_area": null,
      "grid_auto_columns": null,
      "grid_auto_flow": null,
      "grid_auto_rows": null,
      "grid_column": null,
      "grid_gap": null,
      "grid_row": null,
      "grid_template_areas": null,
      "grid_template_columns": null,
      "grid_template_rows": null,
      "height": null,
      "justify_content": null,
      "justify_items": null,
      "left": null,
      "margin": null,
      "max_height": null,
      "max_width": null,
      "min_height": null,
      "min_width": null,
      "object_fit": null,
      "object_position": null,
      "order": null,
      "overflow": null,
      "overflow_x": null,
      "overflow_y": null,
      "padding": null,
      "right": null,
      "top": null,
      "visibility": null,
      "width": null
     }
    },
    "3a484ee7275c4dc8ad125f4223877c1b": {
     "model_module": "@jupyter-widgets/base",
     "model_module_version": "1.2.0",
     "model_name": "LayoutModel",
     "state": {
      "_model_module": "@jupyter-widgets/base",
      "_model_module_version": "1.2.0",
      "_model_name": "LayoutModel",
      "_view_count": null,
      "_view_module": "@jupyter-widgets/base",
      "_view_module_version": "1.2.0",
      "_view_name": "LayoutView",
      "align_content": null,
      "align_items": null,
      "align_self": null,
      "border": null,
      "bottom": null,
      "display": null,
      "flex": null,
      "flex_flow": null,
      "grid_area": null,
      "grid_auto_columns": null,
      "grid_auto_flow": null,
      "grid_auto_rows": null,
      "grid_column": null,
      "grid_gap": null,
      "grid_row": null,
      "grid_template_areas": null,
      "grid_template_columns": null,
      "grid_template_rows": null,
      "height": null,
      "justify_content": null,
      "justify_items": null,
      "left": null,
      "margin": null,
      "max_height": null,
      "max_width": null,
      "min_height": null,
      "min_width": null,
      "object_fit": null,
      "object_position": null,
      "order": null,
      "overflow": null,
      "overflow_x": null,
      "overflow_y": null,
      "padding": null,
      "right": null,
      "top": null,
      "visibility": null,
      "width": null
     }
    },
    "3f131c2698ea4551b75a4571e27f6305": {
     "model_module": "@jupyter-widgets/controls",
     "model_module_version": "1.5.0",
     "model_name": "DescriptionStyleModel",
     "state": {
      "_model_module": "@jupyter-widgets/controls",
      "_model_module_version": "1.5.0",
      "_model_name": "DescriptionStyleModel",
      "_view_count": null,
      "_view_module": "@jupyter-widgets/base",
      "_view_module_version": "1.2.0",
      "_view_name": "StyleView",
      "description_width": ""
     }
    },
    "3fa088ebf768413884c98d14cbcf0647": {
     "model_module": "@jupyter-widgets/base",
     "model_module_version": "1.2.0",
     "model_name": "LayoutModel",
     "state": {
      "_model_module": "@jupyter-widgets/base",
      "_model_module_version": "1.2.0",
      "_model_name": "LayoutModel",
      "_view_count": null,
      "_view_module": "@jupyter-widgets/base",
      "_view_module_version": "1.2.0",
      "_view_name": "LayoutView",
      "align_content": null,
      "align_items": null,
      "align_self": null,
      "border": null,
      "bottom": null,
      "display": null,
      "flex": null,
      "flex_flow": null,
      "grid_area": null,
      "grid_auto_columns": null,
      "grid_auto_flow": null,
      "grid_auto_rows": null,
      "grid_column": null,
      "grid_gap": null,
      "grid_row": null,
      "grid_template_areas": null,
      "grid_template_columns": null,
      "grid_template_rows": null,
      "height": null,
      "justify_content": null,
      "justify_items": null,
      "left": null,
      "margin": null,
      "max_height": null,
      "max_width": null,
      "min_height": null,
      "min_width": null,
      "object_fit": null,
      "object_position": null,
      "order": null,
      "overflow": null,
      "overflow_x": null,
      "overflow_y": null,
      "padding": null,
      "right": null,
      "top": null,
      "visibility": null,
      "width": null
     }
    },
    "4aea876119de4d2498234d46c29ca515": {
     "model_module": "@jupyter-widgets/controls",
     "model_module_version": "1.5.0",
     "model_name": "DescriptionStyleModel",
     "state": {
      "_model_module": "@jupyter-widgets/controls",
      "_model_module_version": "1.5.0",
      "_model_name": "DescriptionStyleModel",
      "_view_count": null,
      "_view_module": "@jupyter-widgets/base",
      "_view_module_version": "1.2.0",
      "_view_name": "StyleView",
      "description_width": ""
     }
    },
    "517b257f13024075b026055ae0833669": {
     "model_module": "@jupyter-widgets/controls",
     "model_module_version": "1.5.0",
     "model_name": "DescriptionStyleModel",
     "state": {
      "_model_module": "@jupyter-widgets/controls",
      "_model_module_version": "1.5.0",
      "_model_name": "DescriptionStyleModel",
      "_view_count": null,
      "_view_module": "@jupyter-widgets/base",
      "_view_module_version": "1.2.0",
      "_view_name": "StyleView",
      "description_width": ""
     }
    },
    "53714c1ec3514cc9bda9a50de855f6dc": {
     "model_module": "@jupyter-widgets/controls",
     "model_module_version": "1.5.0",
     "model_name": "DescriptionStyleModel",
     "state": {
      "_model_module": "@jupyter-widgets/controls",
      "_model_module_version": "1.5.0",
      "_model_name": "DescriptionStyleModel",
      "_view_count": null,
      "_view_module": "@jupyter-widgets/base",
      "_view_module_version": "1.2.0",
      "_view_name": "StyleView",
      "description_width": ""
     }
    },
    "56171f445d5d43748a754959b792ea70": {
     "model_module": "@jupyter-widgets/controls",
     "model_module_version": "1.5.0",
     "model_name": "ProgressStyleModel",
     "state": {
      "_model_module": "@jupyter-widgets/controls",
      "_model_module_version": "1.5.0",
      "_model_name": "ProgressStyleModel",
      "_view_count": null,
      "_view_module": "@jupyter-widgets/base",
      "_view_module_version": "1.2.0",
      "_view_name": "StyleView",
      "bar_color": null,
      "description_width": ""
     }
    },
    "580ce11156d6485099d4fa72a25a5908": {
     "model_module": "@jupyter-widgets/base",
     "model_module_version": "1.2.0",
     "model_name": "LayoutModel",
     "state": {
      "_model_module": "@jupyter-widgets/base",
      "_model_module_version": "1.2.0",
      "_model_name": "LayoutModel",
      "_view_count": null,
      "_view_module": "@jupyter-widgets/base",
      "_view_module_version": "1.2.0",
      "_view_name": "LayoutView",
      "align_content": null,
      "align_items": null,
      "align_self": null,
      "border": null,
      "bottom": null,
      "display": null,
      "flex": null,
      "flex_flow": null,
      "grid_area": null,
      "grid_auto_columns": null,
      "grid_auto_flow": null,
      "grid_auto_rows": null,
      "grid_column": null,
      "grid_gap": null,
      "grid_row": null,
      "grid_template_areas": null,
      "grid_template_columns": null,
      "grid_template_rows": null,
      "height": null,
      "justify_content": null,
      "justify_items": null,
      "left": null,
      "margin": null,
      "max_height": null,
      "max_width": null,
      "min_height": null,
      "min_width": null,
      "object_fit": null,
      "object_position": null,
      "order": null,
      "overflow": null,
      "overflow_x": null,
      "overflow_y": null,
      "padding": null,
      "right": null,
      "top": null,
      "visibility": null,
      "width": null
     }
    },
    "597a49d1b1564d068de46ffbb1dc975f": {
     "model_module": "@jupyter-widgets/controls",
     "model_module_version": "1.5.0",
     "model_name": "HBoxModel",
     "state": {
      "_dom_classes": [],
      "_model_module": "@jupyter-widgets/controls",
      "_model_module_version": "1.5.0",
      "_model_name": "HBoxModel",
      "_view_count": null,
      "_view_module": "@jupyter-widgets/controls",
      "_view_module_version": "1.5.0",
      "_view_name": "HBoxView",
      "box_style": "",
      "children": [
       "IPY_MODEL_652e224027dd408da6ac9cd8ed3fbc89",
       "IPY_MODEL_7f9364ba104a4ddabab4d3e1b4b6d51a",
       "IPY_MODEL_8c4ace487256436e94415b29a989cc0f"
      ],
      "layout": "IPY_MODEL_89aff8d2d8864b6784e873103368ddba"
     }
    },
    "5c6e0aed48ca48da95ac1a7fbe09ff19": {
     "model_module": "@jupyter-widgets/controls",
     "model_module_version": "1.5.0",
     "model_name": "FloatProgressModel",
     "state": {
      "_dom_classes": [],
      "_model_module": "@jupyter-widgets/controls",
      "_model_module_version": "1.5.0",
      "_model_name": "FloatProgressModel",
      "_view_count": null,
      "_view_module": "@jupyter-widgets/controls",
      "_view_module_version": "1.5.0",
      "_view_name": "ProgressView",
      "bar_style": "success",
      "description": "",
      "description_tooltip": null,
      "layout": "IPY_MODEL_9505d4e01b694d0ea2f8274acf8537e8",
      "max": 360,
      "min": 0,
      "orientation": "horizontal",
      "style": "IPY_MODEL_e8d76fb60cb74680b97afabc4d1d5545",
      "value": 360
     }
    },
    "5da6e50675fa4800aec4c0f545f54d67": {
     "model_module": "@jupyter-widgets/base",
     "model_module_version": "1.2.0",
     "model_name": "LayoutModel",
     "state": {
      "_model_module": "@jupyter-widgets/base",
      "_model_module_version": "1.2.0",
      "_model_name": "LayoutModel",
      "_view_count": null,
      "_view_module": "@jupyter-widgets/base",
      "_view_module_version": "1.2.0",
      "_view_name": "LayoutView",
      "align_content": null,
      "align_items": null,
      "align_self": null,
      "border": null,
      "bottom": null,
      "display": null,
      "flex": null,
      "flex_flow": null,
      "grid_area": null,
      "grid_auto_columns": null,
      "grid_auto_flow": null,
      "grid_auto_rows": null,
      "grid_column": null,
      "grid_gap": null,
      "grid_row": null,
      "grid_template_areas": null,
      "grid_template_columns": null,
      "grid_template_rows": null,
      "height": null,
      "justify_content": null,
      "justify_items": null,
      "left": null,
      "margin": null,
      "max_height": null,
      "max_width": null,
      "min_height": null,
      "min_width": null,
      "object_fit": null,
      "object_position": null,
      "order": null,
      "overflow": null,
      "overflow_x": null,
      "overflow_y": null,
      "padding": null,
      "right": null,
      "top": null,
      "visibility": null,
      "width": null
     }
    },
    "5f82a6945d964ce38c3cda5bf09c666c": {
     "model_module": "@jupyter-widgets/controls",
     "model_module_version": "1.5.0",
     "model_name": "HTMLModel",
     "state": {
      "_dom_classes": [],
      "_model_module": "@jupyter-widgets/controls",
      "_model_module_version": "1.5.0",
      "_model_name": "HTMLModel",
      "_view_count": null,
      "_view_module": "@jupyter-widgets/controls",
      "_view_module_version": "1.5.0",
      "_view_name": "HTMLView",
      "description": "",
      "description_tooltip": null,
      "layout": "IPY_MODEL_6e40462c96c440e0914de20d3cf1f8af",
      "placeholder": "​",
      "style": "IPY_MODEL_65e1b299ed67472d94fea42d06882d6c",
      "value": "Epoch 0: 100%"
     }
    },
    "5fb5712dd4cb493fb00a68bc6e119ccb": {
     "model_module": "@jupyter-widgets/controls",
     "model_module_version": "1.5.0",
     "model_name": "DescriptionStyleModel",
     "state": {
      "_model_module": "@jupyter-widgets/controls",
      "_model_module_version": "1.5.0",
      "_model_name": "DescriptionStyleModel",
      "_view_count": null,
      "_view_module": "@jupyter-widgets/base",
      "_view_module_version": "1.2.0",
      "_view_name": "StyleView",
      "description_width": ""
     }
    },
    "652e224027dd408da6ac9cd8ed3fbc89": {
     "model_module": "@jupyter-widgets/controls",
     "model_module_version": "1.5.0",
     "model_name": "HTMLModel",
     "state": {
      "_dom_classes": [],
      "_model_module": "@jupyter-widgets/controls",
      "_model_module_version": "1.5.0",
      "_model_name": "HTMLModel",
      "_view_count": null,
      "_view_module": "@jupyter-widgets/controls",
      "_view_module_version": "1.5.0",
      "_view_name": "HTMLView",
      "description": "",
      "description_tooltip": null,
      "layout": "IPY_MODEL_fb2bdf31c6d744d5b07eb3f85431e517",
      "placeholder": "​",
      "style": "IPY_MODEL_5fb5712dd4cb493fb00a68bc6e119ccb",
      "value": "100%"
     }
    },
    "65e1b299ed67472d94fea42d06882d6c": {
     "model_module": "@jupyter-widgets/controls",
     "model_module_version": "1.5.0",
     "model_name": "DescriptionStyleModel",
     "state": {
      "_model_module": "@jupyter-widgets/controls",
      "_model_module_version": "1.5.0",
      "_model_name": "DescriptionStyleModel",
      "_view_count": null,
      "_view_module": "@jupyter-widgets/base",
      "_view_module_version": "1.2.0",
      "_view_name": "StyleView",
      "description_width": ""
     }
    },
    "6e40462c96c440e0914de20d3cf1f8af": {
     "model_module": "@jupyter-widgets/base",
     "model_module_version": "1.2.0",
     "model_name": "LayoutModel",
     "state": {
      "_model_module": "@jupyter-widgets/base",
      "_model_module_version": "1.2.0",
      "_model_name": "LayoutModel",
      "_view_count": null,
      "_view_module": "@jupyter-widgets/base",
      "_view_module_version": "1.2.0",
      "_view_name": "LayoutView",
      "align_content": null,
      "align_items": null,
      "align_self": null,
      "border": null,
      "bottom": null,
      "display": null,
      "flex": null,
      "flex_flow": null,
      "grid_area": null,
      "grid_auto_columns": null,
      "grid_auto_flow": null,
      "grid_auto_rows": null,
      "grid_column": null,
      "grid_gap": null,
      "grid_row": null,
      "grid_template_areas": null,
      "grid_template_columns": null,
      "grid_template_rows": null,
      "height": null,
      "justify_content": null,
      "justify_items": null,
      "left": null,
      "margin": null,
      "max_height": null,
      "max_width": null,
      "min_height": null,
      "min_width": null,
      "object_fit": null,
      "object_position": null,
      "order": null,
      "overflow": null,
      "overflow_x": null,
      "overflow_y": null,
      "padding": null,
      "right": null,
      "top": null,
      "visibility": null,
      "width": null
     }
    },
    "724f6b3c49d646c498d732606709e487": {
     "model_module": "@jupyter-widgets/base",
     "model_module_version": "1.2.0",
     "model_name": "LayoutModel",
     "state": {
      "_model_module": "@jupyter-widgets/base",
      "_model_module_version": "1.2.0",
      "_model_name": "LayoutModel",
      "_view_count": null,
      "_view_module": "@jupyter-widgets/base",
      "_view_module_version": "1.2.0",
      "_view_name": "LayoutView",
      "align_content": null,
      "align_items": null,
      "align_self": null,
      "border": null,
      "bottom": null,
      "display": null,
      "flex": null,
      "flex_flow": null,
      "grid_area": null,
      "grid_auto_columns": null,
      "grid_auto_flow": null,
      "grid_auto_rows": null,
      "grid_column": null,
      "grid_gap": null,
      "grid_row": null,
      "grid_template_areas": null,
      "grid_template_columns": null,
      "grid_template_rows": null,
      "height": null,
      "justify_content": null,
      "justify_items": null,
      "left": null,
      "margin": null,
      "max_height": null,
      "max_width": null,
      "min_height": null,
      "min_width": null,
      "object_fit": null,
      "object_position": null,
      "order": null,
      "overflow": null,
      "overflow_x": null,
      "overflow_y": null,
      "padding": null,
      "right": null,
      "top": null,
      "visibility": null,
      "width": null
     }
    },
    "7d423f74e6c345fcb9255fcfe6db0ac0": {
     "model_module": "@jupyter-widgets/base",
     "model_module_version": "1.2.0",
     "model_name": "LayoutModel",
     "state": {
      "_model_module": "@jupyter-widgets/base",
      "_model_module_version": "1.2.0",
      "_model_name": "LayoutModel",
      "_view_count": null,
      "_view_module": "@jupyter-widgets/base",
      "_view_module_version": "1.2.0",
      "_view_name": "LayoutView",
      "align_content": null,
      "align_items": null,
      "align_self": null,
      "border": null,
      "bottom": null,
      "display": null,
      "flex": null,
      "flex_flow": null,
      "grid_area": null,
      "grid_auto_columns": null,
      "grid_auto_flow": null,
      "grid_auto_rows": null,
      "grid_column": null,
      "grid_gap": null,
      "grid_row": null,
      "grid_template_areas": null,
      "grid_template_columns": null,
      "grid_template_rows": null,
      "height": null,
      "justify_content": null,
      "justify_items": null,
      "left": null,
      "margin": null,
      "max_height": null,
      "max_width": null,
      "min_height": null,
      "min_width": null,
      "object_fit": null,
      "object_position": null,
      "order": null,
      "overflow": null,
      "overflow_x": null,
      "overflow_y": null,
      "padding": null,
      "right": null,
      "top": null,
      "visibility": null,
      "width": null
     }
    },
    "7f385db49db1458d8f4aa2862732d3fb": {
     "model_module": "@jupyter-widgets/controls",
     "model_module_version": "1.5.0",
     "model_name": "HBoxModel",
     "state": {
      "_dom_classes": [],
      "_model_module": "@jupyter-widgets/controls",
      "_model_module_version": "1.5.0",
      "_model_name": "HBoxModel",
      "_view_count": null,
      "_view_module": "@jupyter-widgets/controls",
      "_view_module_version": "1.5.0",
      "_view_name": "HBoxView",
      "box_style": "",
      "children": [
       "IPY_MODEL_b5226a7cf48d4d2481655cf64c1fa735",
       "IPY_MODEL_2f17718875c74795b20f17e0b5a34de4",
       "IPY_MODEL_857b74e80451425d8ae4ecbf6a3946ad"
      ],
      "layout": "IPY_MODEL_9031fab5912f4d49ae96b414c41d041b"
     }
    },
    "7f9364ba104a4ddabab4d3e1b4b6d51a": {
     "model_module": "@jupyter-widgets/controls",
     "model_module_version": "1.5.0",
     "model_name": "FloatProgressModel",
     "state": {
      "_dom_classes": [],
      "_model_module": "@jupyter-widgets/controls",
      "_model_module_version": "1.5.0",
      "_model_name": "FloatProgressModel",
      "_view_count": null,
      "_view_module": "@jupyter-widgets/controls",
      "_view_module_version": "1.5.0",
      "_view_name": "ProgressView",
      "bar_style": "success",
      "description": "",
      "description_tooltip": null,
      "layout": "IPY_MODEL_f048da95b608417d98ff489c4746713c",
      "max": 1640,
      "min": 0,
      "orientation": "horizontal",
      "style": "IPY_MODEL_90d821ca6d80485caed0577061bf4ebf",
      "value": 1640
     }
    },
    "857b74e80451425d8ae4ecbf6a3946ad": {
     "model_module": "@jupyter-widgets/controls",
     "model_module_version": "1.5.0",
     "model_name": "HTMLModel",
     "state": {
      "_dom_classes": [],
      "_model_module": "@jupyter-widgets/controls",
      "_model_module_version": "1.5.0",
      "_model_name": "HTMLModel",
      "_view_count": null,
      "_view_module": "@jupyter-widgets/controls",
      "_view_module_version": "1.5.0",
      "_view_name": "HTMLView",
      "description": "",
      "description_tooltip": null,
      "layout": "IPY_MODEL_01f2d84bbc514b4ea40085aa5a85667b",
      "placeholder": "​",
      "style": "IPY_MODEL_4aea876119de4d2498234d46c29ca515",
      "value": " 6/360 [00:02&lt;03:15,  1.81it/s]"
     }
    },
    "868111cc299f49999888e03ba99440ed": {
     "model_module": "@jupyter-widgets/controls",
     "model_module_version": "1.5.0",
     "model_name": "HTMLModel",
     "state": {
      "_dom_classes": [],
      "_model_module": "@jupyter-widgets/controls",
      "_model_module_version": "1.5.0",
      "_model_name": "HTMLModel",
      "_view_count": null,
      "_view_module": "@jupyter-widgets/controls",
      "_view_module_version": "1.5.0",
      "_view_name": "HTMLView",
      "description": "",
      "description_tooltip": null,
      "layout": "IPY_MODEL_3fa088ebf768413884c98d14cbcf0647",
      "placeholder": "​",
      "style": "IPY_MODEL_2059be3106a544a99e04907d10e5b4c7",
      "value": " 52/52 [06:56&lt;00:00,  5.81s/it]"
     }
    },
    "89aff8d2d8864b6784e873103368ddba": {
     "model_module": "@jupyter-widgets/base",
     "model_module_version": "1.2.0",
     "model_name": "LayoutModel",
     "state": {
      "_model_module": "@jupyter-widgets/base",
      "_model_module_version": "1.2.0",
      "_model_name": "LayoutModel",
      "_view_count": null,
      "_view_module": "@jupyter-widgets/base",
      "_view_module_version": "1.2.0",
      "_view_name": "LayoutView",
      "align_content": null,
      "align_items": null,
      "align_self": null,
      "border": null,
      "bottom": null,
      "display": null,
      "flex": null,
      "flex_flow": null,
      "grid_area": null,
      "grid_auto_columns": null,
      "grid_auto_flow": null,
      "grid_auto_rows": null,
      "grid_column": null,
      "grid_gap": null,
      "grid_row": null,
      "grid_template_areas": null,
      "grid_template_columns": null,
      "grid_template_rows": null,
      "height": null,
      "justify_content": null,
      "justify_items": null,
      "left": null,
      "margin": null,
      "max_height": null,
      "max_width": null,
      "min_height": null,
      "min_width": null,
      "object_fit": null,
      "object_position": null,
      "order": null,
      "overflow": null,
      "overflow_x": null,
      "overflow_y": null,
      "padding": null,
      "right": null,
      "top": null,
      "visibility": null,
      "width": null
     }
    },
    "8a458297380944c9a73749693a183429": {
     "model_module": "@jupyter-widgets/controls",
     "model_module_version": "1.5.0",
     "model_name": "HTMLModel",
     "state": {
      "_dom_classes": [],
      "_model_module": "@jupyter-widgets/controls",
      "_model_module_version": "1.5.0",
      "_model_name": "HTMLModel",
      "_view_count": null,
      "_view_module": "@jupyter-widgets/controls",
      "_view_module_version": "1.5.0",
      "_view_name": "HTMLView",
      "description": "",
      "description_tooltip": null,
      "layout": "IPY_MODEL_5da6e50675fa4800aec4c0f545f54d67",
      "placeholder": "​",
      "style": "IPY_MODEL_03a1141d5db5484c96811b7f28d94e90",
      "value": "100%"
     }
    },
    "8c4ace487256436e94415b29a989cc0f": {
     "model_module": "@jupyter-widgets/controls",
     "model_module_version": "1.5.0",
     "model_name": "HTMLModel",
     "state": {
      "_dom_classes": [],
      "_model_module": "@jupyter-widgets/controls",
      "_model_module_version": "1.5.0",
      "_model_name": "HTMLModel",
      "_view_count": null,
      "_view_module": "@jupyter-widgets/controls",
      "_view_module_version": "1.5.0",
      "_view_name": "HTMLView",
      "description": "",
      "description_tooltip": null,
      "layout": "IPY_MODEL_2db8db03438d4b038273180bcd27531b",
      "placeholder": "​",
      "style": "IPY_MODEL_517b257f13024075b026055ae0833669",
      "value": " 1640/1640 [10:03&lt;00:00,  2.37it/s]"
     }
    },
    "8e5bf5ea055f4671a14210df1cffa008": {
     "model_module": "@jupyter-widgets/base",
     "model_module_version": "1.2.0",
     "model_name": "LayoutModel",
     "state": {
      "_model_module": "@jupyter-widgets/base",
      "_model_module_version": "1.2.0",
      "_model_name": "LayoutModel",
      "_view_count": null,
      "_view_module": "@jupyter-widgets/base",
      "_view_module_version": "1.2.0",
      "_view_name": "LayoutView",
      "align_content": null,
      "align_items": null,
      "align_self": null,
      "border": null,
      "bottom": null,
      "display": null,
      "flex": null,
      "flex_flow": null,
      "grid_area": null,
      "grid_auto_columns": null,
      "grid_auto_flow": null,
      "grid_auto_rows": null,
      "grid_column": null,
      "grid_gap": null,
      "grid_row": null,
      "grid_template_areas": null,
      "grid_template_columns": null,
      "grid_template_rows": null,
      "height": null,
      "justify_content": null,
      "justify_items": null,
      "left": null,
      "margin": null,
      "max_height": null,
      "max_width": null,
      "min_height": null,
      "min_width": null,
      "object_fit": null,
      "object_position": null,
      "order": null,
      "overflow": null,
      "overflow_x": null,
      "overflow_y": null,
      "padding": null,
      "right": null,
      "top": null,
      "visibility": null,
      "width": null
     }
    },
    "9031fab5912f4d49ae96b414c41d041b": {
     "model_module": "@jupyter-widgets/base",
     "model_module_version": "1.2.0",
     "model_name": "LayoutModel",
     "state": {
      "_model_module": "@jupyter-widgets/base",
      "_model_module_version": "1.2.0",
      "_model_name": "LayoutModel",
      "_view_count": null,
      "_view_module": "@jupyter-widgets/base",
      "_view_module_version": "1.2.0",
      "_view_name": "LayoutView",
      "align_content": null,
      "align_items": null,
      "align_self": null,
      "border": null,
      "bottom": null,
      "display": null,
      "flex": null,
      "flex_flow": null,
      "grid_area": null,
      "grid_auto_columns": null,
      "grid_auto_flow": null,
      "grid_auto_rows": null,
      "grid_column": null,
      "grid_gap": null,
      "grid_row": null,
      "grid_template_areas": null,
      "grid_template_columns": null,
      "grid_template_rows": null,
      "height": null,
      "justify_content": null,
      "justify_items": null,
      "left": null,
      "margin": null,
      "max_height": null,
      "max_width": null,
      "min_height": null,
      "min_width": null,
      "object_fit": null,
      "object_position": null,
      "order": null,
      "overflow": null,
      "overflow_x": null,
      "overflow_y": null,
      "padding": null,
      "right": null,
      "top": null,
      "visibility": null,
      "width": null
     }
    },
    "90d821ca6d80485caed0577061bf4ebf": {
     "model_module": "@jupyter-widgets/controls",
     "model_module_version": "1.5.0",
     "model_name": "ProgressStyleModel",
     "state": {
      "_model_module": "@jupyter-widgets/controls",
      "_model_module_version": "1.5.0",
      "_model_name": "ProgressStyleModel",
      "_view_count": null,
      "_view_module": "@jupyter-widgets/base",
      "_view_module_version": "1.2.0",
      "_view_name": "StyleView",
      "bar_color": null,
      "description_width": ""
     }
    },
    "9505d4e01b694d0ea2f8274acf8537e8": {
     "model_module": "@jupyter-widgets/base",
     "model_module_version": "1.2.0",
     "model_name": "LayoutModel",
     "state": {
      "_model_module": "@jupyter-widgets/base",
      "_model_module_version": "1.2.0",
      "_model_name": "LayoutModel",
      "_view_count": null,
      "_view_module": "@jupyter-widgets/base",
      "_view_module_version": "1.2.0",
      "_view_name": "LayoutView",
      "align_content": null,
      "align_items": null,
      "align_self": null,
      "border": null,
      "bottom": null,
      "display": null,
      "flex": null,
      "flex_flow": null,
      "grid_area": null,
      "grid_auto_columns": null,
      "grid_auto_flow": null,
      "grid_auto_rows": null,
      "grid_column": null,
      "grid_gap": null,
      "grid_row": null,
      "grid_template_areas": null,
      "grid_template_columns": null,
      "grid_template_rows": null,
      "height": null,
      "justify_content": null,
      "justify_items": null,
      "left": null,
      "margin": null,
      "max_height": null,
      "max_width": null,
      "min_height": null,
      "min_width": null,
      "object_fit": null,
      "object_position": null,
      "order": null,
      "overflow": null,
      "overflow_x": null,
      "overflow_y": null,
      "padding": null,
      "right": null,
      "top": null,
      "visibility": null,
      "width": null
     }
    },
    "a972c74f6f8148948074d6553d72633d": {
     "model_module": "@jupyter-widgets/controls",
     "model_module_version": "1.5.0",
     "model_name": "HBoxModel",
     "state": {
      "_dom_classes": [],
      "_model_module": "@jupyter-widgets/controls",
      "_model_module_version": "1.5.0",
      "_model_name": "HBoxModel",
      "_view_count": null,
      "_view_module": "@jupyter-widgets/controls",
      "_view_module_version": "1.5.0",
      "_view_name": "HBoxView",
      "box_style": "",
      "children": [
       "IPY_MODEL_8a458297380944c9a73749693a183429",
       "IPY_MODEL_5c6e0aed48ca48da95ac1a7fbe09ff19",
       "IPY_MODEL_05ab296086eb4dc693c72c2552edf2d0"
      ],
      "layout": "IPY_MODEL_7d423f74e6c345fcb9255fcfe6db0ac0"
     }
    },
    "aa1b9584b40e44ab98635edcde6fd5b5": {
     "model_module": "@jupyter-widgets/base",
     "model_module_version": "1.2.0",
     "model_name": "LayoutModel",
     "state": {
      "_model_module": "@jupyter-widgets/base",
      "_model_module_version": "1.2.0",
      "_model_name": "LayoutModel",
      "_view_count": null,
      "_view_module": "@jupyter-widgets/base",
      "_view_module_version": "1.2.0",
      "_view_name": "LayoutView",
      "align_content": null,
      "align_items": null,
      "align_self": null,
      "border": null,
      "bottom": null,
      "display": null,
      "flex": null,
      "flex_flow": null,
      "grid_area": null,
      "grid_auto_columns": null,
      "grid_auto_flow": null,
      "grid_auto_rows": null,
      "grid_column": null,
      "grid_gap": null,
      "grid_row": null,
      "grid_template_areas": null,
      "grid_template_columns": null,
      "grid_template_rows": null,
      "height": null,
      "justify_content": null,
      "justify_items": null,
      "left": null,
      "margin": null,
      "max_height": null,
      "max_width": null,
      "min_height": null,
      "min_width": null,
      "object_fit": null,
      "object_position": null,
      "order": null,
      "overflow": null,
      "overflow_x": null,
      "overflow_y": null,
      "padding": null,
      "right": null,
      "top": null,
      "visibility": null,
      "width": null
     }
    },
    "ad163bd66a0c4fd982fcfa3ca49a78a2": {
     "model_module": "@jupyter-widgets/controls",
     "model_module_version": "1.5.0",
     "model_name": "DescriptionStyleModel",
     "state": {
      "_model_module": "@jupyter-widgets/controls",
      "_model_module_version": "1.5.0",
      "_model_name": "DescriptionStyleModel",
      "_view_count": null,
      "_view_module": "@jupyter-widgets/base",
      "_view_module_version": "1.2.0",
      "_view_name": "StyleView",
      "description_width": ""
     }
    },
    "b1ea9ec107444406a1327b76fb1bc326": {
     "model_module": "@jupyter-widgets/controls",
     "model_module_version": "1.5.0",
     "model_name": "HTMLModel",
     "state": {
      "_dom_classes": [],
      "_model_module": "@jupyter-widgets/controls",
      "_model_module_version": "1.5.0",
      "_model_name": "HTMLModel",
      "_view_count": null,
      "_view_module": "@jupyter-widgets/controls",
      "_view_module_version": "1.5.0",
      "_view_name": "HTMLView",
      "description": "",
      "description_tooltip": null,
      "layout": "IPY_MODEL_ffac8f9e17f44518b76b04d335a2f795",
      "placeholder": "​",
      "style": "IPY_MODEL_3f131c2698ea4551b75a4571e27f6305",
      "value": "Epoch 0: 100%"
     }
    },
    "b317016954814f398362e0c5b7fb65dc": {
     "model_module": "@jupyter-widgets/controls",
     "model_module_version": "1.5.0",
     "model_name": "FloatProgressModel",
     "state": {
      "_dom_classes": [],
      "_model_module": "@jupyter-widgets/controls",
      "_model_module_version": "1.5.0",
      "_model_name": "FloatProgressModel",
      "_view_count": null,
      "_view_module": "@jupyter-widgets/controls",
      "_view_module_version": "1.5.0",
      "_view_name": "ProgressView",
      "bar_style": "danger",
      "description": "",
      "description_tooltip": null,
      "layout": "IPY_MODEL_b5f219e7dce0486e8f434a7459caa7f3",
      "max": 50,
      "min": 0,
      "orientation": "horizontal",
      "style": "IPY_MODEL_56171f445d5d43748a754959b792ea70",
      "value": 4
     }
    },
    "b5226a7cf48d4d2481655cf64c1fa735": {
     "model_module": "@jupyter-widgets/controls",
     "model_module_version": "1.5.0",
     "model_name": "HTMLModel",
     "state": {
      "_dom_classes": [],
      "_model_module": "@jupyter-widgets/controls",
      "_model_module_version": "1.5.0",
      "_model_name": "HTMLModel",
      "_view_count": null,
      "_view_module": "@jupyter-widgets/controls",
      "_view_module_version": "1.5.0",
      "_view_name": "HTMLView",
      "description": "",
      "description_tooltip": null,
      "layout": "IPY_MODEL_f90fcf1d63e848da9514bcd9877e2c63",
      "placeholder": "​",
      "style": "IPY_MODEL_ad163bd66a0c4fd982fcfa3ca49a78a2",
      "value": "  2%"
     }
    },
    "b5f219e7dce0486e8f434a7459caa7f3": {
     "model_module": "@jupyter-widgets/base",
     "model_module_version": "1.2.0",
     "model_name": "LayoutModel",
     "state": {
      "_model_module": "@jupyter-widgets/base",
      "_model_module_version": "1.2.0",
      "_model_name": "LayoutModel",
      "_view_count": null,
      "_view_module": "@jupyter-widgets/base",
      "_view_module_version": "1.2.0",
      "_view_name": "LayoutView",
      "align_content": null,
      "align_items": null,
      "align_self": null,
      "border": null,
      "bottom": null,
      "display": null,
      "flex": null,
      "flex_flow": null,
      "grid_area": null,
      "grid_auto_columns": null,
      "grid_auto_flow": null,
      "grid_auto_rows": null,
      "grid_column": null,
      "grid_gap": null,
      "grid_row": null,
      "grid_template_areas": null,
      "grid_template_columns": null,
      "grid_template_rows": null,
      "height": null,
      "justify_content": null,
      "justify_items": null,
      "left": null,
      "margin": null,
      "max_height": null,
      "max_width": null,
      "min_height": null,
      "min_width": null,
      "object_fit": null,
      "object_position": null,
      "order": null,
      "overflow": null,
      "overflow_x": null,
      "overflow_y": null,
      "padding": null,
      "right": null,
      "top": null,
      "visibility": null,
      "width": null
     }
    },
    "bd33836003a4492c8462cc8b7ed3ba73": {
     "model_module": "@jupyter-widgets/base",
     "model_module_version": "1.2.0",
     "model_name": "LayoutModel",
     "state": {
      "_model_module": "@jupyter-widgets/base",
      "_model_module_version": "1.2.0",
      "_model_name": "LayoutModel",
      "_view_count": null,
      "_view_module": "@jupyter-widgets/base",
      "_view_module_version": "1.2.0",
      "_view_name": "LayoutView",
      "align_content": null,
      "align_items": null,
      "align_self": null,
      "border": null,
      "bottom": null,
      "display": null,
      "flex": null,
      "flex_flow": null,
      "grid_area": null,
      "grid_auto_columns": null,
      "grid_auto_flow": null,
      "grid_auto_rows": null,
      "grid_column": null,
      "grid_gap": null,
      "grid_row": null,
      "grid_template_areas": null,
      "grid_template_columns": null,
      "grid_template_rows": null,
      "height": null,
      "justify_content": null,
      "justify_items": null,
      "left": null,
      "margin": null,
      "max_height": null,
      "max_width": null,
      "min_height": null,
      "min_width": null,
      "object_fit": null,
      "object_position": null,
      "order": null,
      "overflow": null,
      "overflow_x": null,
      "overflow_y": null,
      "padding": null,
      "right": null,
      "top": null,
      "visibility": null,
      "width": null
     }
    },
    "c3ae1f10f00243a6963bd9188426e5a3": {
     "model_module": "@jupyter-widgets/controls",
     "model_module_version": "1.5.0",
     "model_name": "DescriptionStyleModel",
     "state": {
      "_model_module": "@jupyter-widgets/controls",
      "_model_module_version": "1.5.0",
      "_model_name": "DescriptionStyleModel",
      "_view_count": null,
      "_view_module": "@jupyter-widgets/base",
      "_view_module_version": "1.2.0",
      "_view_name": "StyleView",
      "description_width": ""
     }
    },
    "c81ef92b78dd4c25859449d71b742587": {
     "model_module": "@jupyter-widgets/controls",
     "model_module_version": "1.5.0",
     "model_name": "HTMLModel",
     "state": {
      "_dom_classes": [],
      "_model_module": "@jupyter-widgets/controls",
      "_model_module_version": "1.5.0",
      "_model_name": "HTMLModel",
      "_view_count": null,
      "_view_module": "@jupyter-widgets/controls",
      "_view_module_version": "1.5.0",
      "_view_name": "HTMLView",
      "description": "",
      "description_tooltip": null,
      "layout": "IPY_MODEL_3271defe634a4e8e9560ad3f049fb148",
      "placeholder": "​",
      "style": "IPY_MODEL_2391c2b6530140779419550690181a1c",
      "value": "  8%"
     }
    },
    "cb2348b03cdd49df97f8d129018b93fc": {
     "model_module": "@jupyter-widgets/controls",
     "model_module_version": "1.5.0",
     "model_name": "ProgressStyleModel",
     "state": {
      "_model_module": "@jupyter-widgets/controls",
      "_model_module_version": "1.5.0",
      "_model_name": "ProgressStyleModel",
      "_view_count": null,
      "_view_module": "@jupyter-widgets/base",
      "_view_module_version": "1.2.0",
      "_view_name": "StyleView",
      "bar_color": null,
      "description_width": ""
     }
    },
    "d1a62884f9d24b61b205ee627ddf176f": {
     "model_module": "@jupyter-widgets/controls",
     "model_module_version": "1.5.0",
     "model_name": "FloatProgressModel",
     "state": {
      "_dom_classes": [],
      "_model_module": "@jupyter-widgets/controls",
      "_model_module_version": "1.5.0",
      "_model_name": "FloatProgressModel",
      "_view_count": null,
      "_view_module": "@jupyter-widgets/controls",
      "_view_module_version": "1.5.0",
      "_view_name": "ProgressView",
      "bar_style": "success",
      "description": "",
      "description_tooltip": null,
      "layout": "IPY_MODEL_36ee54f25f734c61a9b1ab2c216fd3ee",
      "max": 12,
      "min": 0,
      "orientation": "horizontal",
      "style": "IPY_MODEL_1eca895f486e4a548824abc4f72e4b9c",
      "value": 12
     }
    },
    "d5d06d67624849698e1544f69ee8770b": {
     "model_module": "@jupyter-widgets/controls",
     "model_module_version": "1.5.0",
     "model_name": "HBoxModel",
     "state": {
      "_dom_classes": [],
      "_model_module": "@jupyter-widgets/controls",
      "_model_module_version": "1.5.0",
      "_model_name": "HBoxModel",
      "_view_count": null,
      "_view_module": "@jupyter-widgets/controls",
      "_view_module_version": "1.5.0",
      "_view_name": "HBoxView",
      "box_style": "",
      "children": [
       "IPY_MODEL_5f82a6945d964ce38c3cda5bf09c666c",
       "IPY_MODEL_d1a62884f9d24b61b205ee627ddf176f",
       "IPY_MODEL_26e2d5cf1c834536a659d76beae1101d"
      ],
      "layout": "IPY_MODEL_3a484ee7275c4dc8ad125f4223877c1b"
     }
    },
    "e8d76fb60cb74680b97afabc4d1d5545": {
     "model_module": "@jupyter-widgets/controls",
     "model_module_version": "1.5.0",
     "model_name": "ProgressStyleModel",
     "state": {
      "_model_module": "@jupyter-widgets/controls",
      "_model_module_version": "1.5.0",
      "_model_name": "ProgressStyleModel",
      "_view_count": null,
      "_view_module": "@jupyter-widgets/base",
      "_view_module_version": "1.2.0",
      "_view_name": "StyleView",
      "bar_color": null,
      "description_width": ""
     }
    },
    "edc56104cea347d9a421448f4793cb7d": {
     "model_module": "@jupyter-widgets/controls",
     "model_module_version": "1.5.0",
     "model_name": "HBoxModel",
     "state": {
      "_dom_classes": [],
      "_model_module": "@jupyter-widgets/controls",
      "_model_module_version": "1.5.0",
      "_model_name": "HBoxModel",
      "_view_count": null,
      "_view_module": "@jupyter-widgets/controls",
      "_view_module_version": "1.5.0",
      "_view_name": "HBoxView",
      "box_style": "",
      "children": [
       "IPY_MODEL_c81ef92b78dd4c25859449d71b742587",
       "IPY_MODEL_b317016954814f398362e0c5b7fb65dc",
       "IPY_MODEL_f9fdfcb660ad4abf9d1ef80b9b9287ab"
      ],
      "layout": "IPY_MODEL_724f6b3c49d646c498d732606709e487"
     }
    },
    "f048da95b608417d98ff489c4746713c": {
     "model_module": "@jupyter-widgets/base",
     "model_module_version": "1.2.0",
     "model_name": "LayoutModel",
     "state": {
      "_model_module": "@jupyter-widgets/base",
      "_model_module_version": "1.2.0",
      "_model_name": "LayoutModel",
      "_view_count": null,
      "_view_module": "@jupyter-widgets/base",
      "_view_module_version": "1.2.0",
      "_view_name": "LayoutView",
      "align_content": null,
      "align_items": null,
      "align_self": null,
      "border": null,
      "bottom": null,
      "display": null,
      "flex": null,
      "flex_flow": null,
      "grid_area": null,
      "grid_auto_columns": null,
      "grid_auto_flow": null,
      "grid_auto_rows": null,
      "grid_column": null,
      "grid_gap": null,
      "grid_row": null,
      "grid_template_areas": null,
      "grid_template_columns": null,
      "grid_template_rows": null,
      "height": null,
      "justify_content": null,
      "justify_items": null,
      "left": null,
      "margin": null,
      "max_height": null,
      "max_width": null,
      "min_height": null,
      "min_width": null,
      "object_fit": null,
      "object_position": null,
      "order": null,
      "overflow": null,
      "overflow_x": null,
      "overflow_y": null,
      "padding": null,
      "right": null,
      "top": null,
      "visibility": null,
      "width": null
     }
    },
    "f692d53bcd464feba29bfc767d4b4b11": {
     "model_module": "@jupyter-widgets/controls",
     "model_module_version": "1.5.0",
     "model_name": "FloatProgressModel",
     "state": {
      "_dom_classes": [],
      "_model_module": "@jupyter-widgets/controls",
      "_model_module_version": "1.5.0",
      "_model_name": "FloatProgressModel",
      "_view_count": null,
      "_view_module": "@jupyter-widgets/controls",
      "_view_module_version": "1.5.0",
      "_view_name": "ProgressView",
      "bar_style": "success",
      "description": "",
      "description_tooltip": null,
      "layout": "IPY_MODEL_aa1b9584b40e44ab98635edcde6fd5b5",
      "max": 52,
      "min": 0,
      "orientation": "horizontal",
      "style": "IPY_MODEL_cb2348b03cdd49df97f8d129018b93fc",
      "value": 52
     }
    },
    "f90fcf1d63e848da9514bcd9877e2c63": {
     "model_module": "@jupyter-widgets/base",
     "model_module_version": "1.2.0",
     "model_name": "LayoutModel",
     "state": {
      "_model_module": "@jupyter-widgets/base",
      "_model_module_version": "1.2.0",
      "_model_name": "LayoutModel",
      "_view_count": null,
      "_view_module": "@jupyter-widgets/base",
      "_view_module_version": "1.2.0",
      "_view_name": "LayoutView",
      "align_content": null,
      "align_items": null,
      "align_self": null,
      "border": null,
      "bottom": null,
      "display": null,
      "flex": null,
      "flex_flow": null,
      "grid_area": null,
      "grid_auto_columns": null,
      "grid_auto_flow": null,
      "grid_auto_rows": null,
      "grid_column": null,
      "grid_gap": null,
      "grid_row": null,
      "grid_template_areas": null,
      "grid_template_columns": null,
      "grid_template_rows": null,
      "height": null,
      "justify_content": null,
      "justify_items": null,
      "left": null,
      "margin": null,
      "max_height": null,
      "max_width": null,
      "min_height": null,
      "min_width": null,
      "object_fit": null,
      "object_position": null,
      "order": null,
      "overflow": null,
      "overflow_x": null,
      "overflow_y": null,
      "padding": null,
      "right": null,
      "top": null,
      "visibility": null,
      "width": null
     }
    },
    "f9fdfcb660ad4abf9d1ef80b9b9287ab": {
     "model_module": "@jupyter-widgets/controls",
     "model_module_version": "1.5.0",
     "model_name": "HTMLModel",
     "state": {
      "_dom_classes": [],
      "_model_module": "@jupyter-widgets/controls",
      "_model_module_version": "1.5.0",
      "_model_name": "HTMLModel",
      "_view_count": null,
      "_view_module": "@jupyter-widgets/controls",
      "_view_module_version": "1.5.0",
      "_view_name": "HTMLView",
      "description": "",
      "description_tooltip": null,
      "layout": "IPY_MODEL_2258c280ee9e4c4d8a7abaf3f6da2def",
      "placeholder": "​",
      "style": "IPY_MODEL_53714c1ec3514cc9bda9a50de855f6dc",
      "value": " 4/50 [35:07&lt;6:35:16, 515.59s/it]"
     }
    },
    "fb2bdf31c6d744d5b07eb3f85431e517": {
     "model_module": "@jupyter-widgets/base",
     "model_module_version": "1.2.0",
     "model_name": "LayoutModel",
     "state": {
      "_model_module": "@jupyter-widgets/base",
      "_model_module_version": "1.2.0",
      "_model_name": "LayoutModel",
      "_view_count": null,
      "_view_module": "@jupyter-widgets/base",
      "_view_module_version": "1.2.0",
      "_view_name": "LayoutView",
      "align_content": null,
      "align_items": null,
      "align_self": null,
      "border": null,
      "bottom": null,
      "display": null,
      "flex": null,
      "flex_flow": null,
      "grid_area": null,
      "grid_auto_columns": null,
      "grid_auto_flow": null,
      "grid_auto_rows": null,
      "grid_column": null,
      "grid_gap": null,
      "grid_row": null,
      "grid_template_areas": null,
      "grid_template_columns": null,
      "grid_template_rows": null,
      "height": null,
      "justify_content": null,
      "justify_items": null,
      "left": null,
      "margin": null,
      "max_height": null,
      "max_width": null,
      "min_height": null,
      "min_width": null,
      "object_fit": null,
      "object_position": null,
      "order": null,
      "overflow": null,
      "overflow_x": null,
      "overflow_y": null,
      "padding": null,
      "right": null,
      "top": null,
      "visibility": null,
      "width": null
     }
    },
    "ffac8f9e17f44518b76b04d335a2f795": {
     "model_module": "@jupyter-widgets/base",
     "model_module_version": "1.2.0",
     "model_name": "LayoutModel",
     "state": {
      "_model_module": "@jupyter-widgets/base",
      "_model_module_version": "1.2.0",
      "_model_name": "LayoutModel",
      "_view_count": null,
      "_view_module": "@jupyter-widgets/base",
      "_view_module_version": "1.2.0",
      "_view_name": "LayoutView",
      "align_content": null,
      "align_items": null,
      "align_self": null,
      "border": null,
      "bottom": null,
      "display": null,
      "flex": null,
      "flex_flow": null,
      "grid_area": null,
      "grid_auto_columns": null,
      "grid_auto_flow": null,
      "grid_auto_rows": null,
      "grid_column": null,
      "grid_gap": null,
      "grid_row": null,
      "grid_template_areas": null,
      "grid_template_columns": null,
      "grid_template_rows": null,
      "height": null,
      "justify_content": null,
      "justify_items": null,
      "left": null,
      "margin": null,
      "max_height": null,
      "max_width": null,
      "min_height": null,
      "min_width": null,
      "object_fit": null,
      "object_position": null,
      "order": null,
      "overflow": null,
      "overflow_x": null,
      "overflow_y": null,
      "padding": null,
      "right": null,
      "top": null,
      "visibility": null,
      "width": null
     }
    }
   }
  }
 },
 "nbformat": 4,
 "nbformat_minor": 0
}
